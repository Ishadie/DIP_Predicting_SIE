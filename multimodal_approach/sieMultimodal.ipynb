{
  "nbformat": 4,
  "nbformat_minor": 0,
  "metadata": {
    "colab": {
      "provenance": [],
      "machine_shape": "hm"
    },
    "kernelspec": {
      "name": "python3",
      "display_name": "Python 3"
    },
    "language_info": {
      "name": "python"
    }
  },
  "cells": [
    {
      "cell_type": "code",
      "execution_count": 1,
      "metadata": {
        "colab": {
          "base_uri": "https://localhost:8080/"
        },
        "id": "jxZj_HIJzHSY",
        "outputId": "65b0073c-52b3-44fb-845c-dd79b5bdbafe"
      },
      "outputs": [
        {
          "output_type": "stream",
          "name": "stdout",
          "text": [
            "Collecting pytorch-lightning\n",
            "  Downloading pytorch_lightning-2.5.1-py3-none-any.whl.metadata (20 kB)\n",
            "Requirement already satisfied: torch>=2.1.0 in /usr/local/lib/python3.11/dist-packages (from pytorch-lightning) (2.6.0+cu124)\n",
            "Requirement already satisfied: tqdm>=4.57.0 in /usr/local/lib/python3.11/dist-packages (from pytorch-lightning) (4.67.1)\n",
            "Requirement already satisfied: PyYAML>=5.4 in /usr/local/lib/python3.11/dist-packages (from pytorch-lightning) (6.0.2)\n",
            "Requirement already satisfied: fsspec>=2022.5.0 in /usr/local/lib/python3.11/dist-packages (from fsspec[http]>=2022.5.0->pytorch-lightning) (2025.3.2)\n",
            "Collecting torchmetrics>=0.7.0 (from pytorch-lightning)\n",
            "  Downloading torchmetrics-1.7.1-py3-none-any.whl.metadata (21 kB)\n",
            "Requirement already satisfied: packaging>=20.0 in /usr/local/lib/python3.11/dist-packages (from pytorch-lightning) (24.2)\n",
            "Requirement already satisfied: typing-extensions>=4.4.0 in /usr/local/lib/python3.11/dist-packages (from pytorch-lightning) (4.13.1)\n",
            "Collecting lightning-utilities>=0.10.0 (from pytorch-lightning)\n",
            "  Downloading lightning_utilities-0.14.3-py3-none-any.whl.metadata (5.6 kB)\n",
            "Requirement already satisfied: aiohttp!=4.0.0a0,!=4.0.0a1 in /usr/local/lib/python3.11/dist-packages (from fsspec[http]>=2022.5.0->pytorch-lightning) (3.11.15)\n",
            "Requirement already satisfied: setuptools in /usr/local/lib/python3.11/dist-packages (from lightning-utilities>=0.10.0->pytorch-lightning) (75.2.0)\n",
            "Requirement already satisfied: filelock in /usr/local/lib/python3.11/dist-packages (from torch>=2.1.0->pytorch-lightning) (3.18.0)\n",
            "Requirement already satisfied: networkx in /usr/local/lib/python3.11/dist-packages (from torch>=2.1.0->pytorch-lightning) (3.4.2)\n",
            "Requirement already satisfied: jinja2 in /usr/local/lib/python3.11/dist-packages (from torch>=2.1.0->pytorch-lightning) (3.1.6)\n",
            "Collecting nvidia-cuda-nvrtc-cu12==12.4.127 (from torch>=2.1.0->pytorch-lightning)\n",
            "  Downloading nvidia_cuda_nvrtc_cu12-12.4.127-py3-none-manylinux2014_x86_64.whl.metadata (1.5 kB)\n",
            "Collecting nvidia-cuda-runtime-cu12==12.4.127 (from torch>=2.1.0->pytorch-lightning)\n",
            "  Downloading nvidia_cuda_runtime_cu12-12.4.127-py3-none-manylinux2014_x86_64.whl.metadata (1.5 kB)\n",
            "Collecting nvidia-cuda-cupti-cu12==12.4.127 (from torch>=2.1.0->pytorch-lightning)\n",
            "  Downloading nvidia_cuda_cupti_cu12-12.4.127-py3-none-manylinux2014_x86_64.whl.metadata (1.6 kB)\n",
            "Collecting nvidia-cudnn-cu12==9.1.0.70 (from torch>=2.1.0->pytorch-lightning)\n",
            "  Downloading nvidia_cudnn_cu12-9.1.0.70-py3-none-manylinux2014_x86_64.whl.metadata (1.6 kB)\n",
            "Collecting nvidia-cublas-cu12==12.4.5.8 (from torch>=2.1.0->pytorch-lightning)\n",
            "  Downloading nvidia_cublas_cu12-12.4.5.8-py3-none-manylinux2014_x86_64.whl.metadata (1.5 kB)\n",
            "Collecting nvidia-cufft-cu12==11.2.1.3 (from torch>=2.1.0->pytorch-lightning)\n",
            "  Downloading nvidia_cufft_cu12-11.2.1.3-py3-none-manylinux2014_x86_64.whl.metadata (1.5 kB)\n",
            "Collecting nvidia-curand-cu12==10.3.5.147 (from torch>=2.1.0->pytorch-lightning)\n",
            "  Downloading nvidia_curand_cu12-10.3.5.147-py3-none-manylinux2014_x86_64.whl.metadata (1.5 kB)\n",
            "Collecting nvidia-cusolver-cu12==11.6.1.9 (from torch>=2.1.0->pytorch-lightning)\n",
            "  Downloading nvidia_cusolver_cu12-11.6.1.9-py3-none-manylinux2014_x86_64.whl.metadata (1.6 kB)\n",
            "Collecting nvidia-cusparse-cu12==12.3.1.170 (from torch>=2.1.0->pytorch-lightning)\n",
            "  Downloading nvidia_cusparse_cu12-12.3.1.170-py3-none-manylinux2014_x86_64.whl.metadata (1.6 kB)\n",
            "Requirement already satisfied: nvidia-cusparselt-cu12==0.6.2 in /usr/local/lib/python3.11/dist-packages (from torch>=2.1.0->pytorch-lightning) (0.6.2)\n",
            "Requirement already satisfied: nvidia-nccl-cu12==2.21.5 in /usr/local/lib/python3.11/dist-packages (from torch>=2.1.0->pytorch-lightning) (2.21.5)\n",
            "Requirement already satisfied: nvidia-nvtx-cu12==12.4.127 in /usr/local/lib/python3.11/dist-packages (from torch>=2.1.0->pytorch-lightning) (12.4.127)\n",
            "Collecting nvidia-nvjitlink-cu12==12.4.127 (from torch>=2.1.0->pytorch-lightning)\n",
            "  Downloading nvidia_nvjitlink_cu12-12.4.127-py3-none-manylinux2014_x86_64.whl.metadata (1.5 kB)\n",
            "Requirement already satisfied: triton==3.2.0 in /usr/local/lib/python3.11/dist-packages (from torch>=2.1.0->pytorch-lightning) (3.2.0)\n",
            "Requirement already satisfied: sympy==1.13.1 in /usr/local/lib/python3.11/dist-packages (from torch>=2.1.0->pytorch-lightning) (1.13.1)\n",
            "Requirement already satisfied: mpmath<1.4,>=1.1.0 in /usr/local/lib/python3.11/dist-packages (from sympy==1.13.1->torch>=2.1.0->pytorch-lightning) (1.3.0)\n",
            "Requirement already satisfied: numpy>1.20.0 in /usr/local/lib/python3.11/dist-packages (from torchmetrics>=0.7.0->pytorch-lightning) (2.0.2)\n",
            "Requirement already satisfied: aiohappyeyeballs>=2.3.0 in /usr/local/lib/python3.11/dist-packages (from aiohttp!=4.0.0a0,!=4.0.0a1->fsspec[http]>=2022.5.0->pytorch-lightning) (2.6.1)\n",
            "Requirement already satisfied: aiosignal>=1.1.2 in /usr/local/lib/python3.11/dist-packages (from aiohttp!=4.0.0a0,!=4.0.0a1->fsspec[http]>=2022.5.0->pytorch-lightning) (1.3.2)\n",
            "Requirement already satisfied: attrs>=17.3.0 in /usr/local/lib/python3.11/dist-packages (from aiohttp!=4.0.0a0,!=4.0.0a1->fsspec[http]>=2022.5.0->pytorch-lightning) (25.3.0)\n",
            "Requirement already satisfied: frozenlist>=1.1.1 in /usr/local/lib/python3.11/dist-packages (from aiohttp!=4.0.0a0,!=4.0.0a1->fsspec[http]>=2022.5.0->pytorch-lightning) (1.5.0)\n",
            "Requirement already satisfied: multidict<7.0,>=4.5 in /usr/local/lib/python3.11/dist-packages (from aiohttp!=4.0.0a0,!=4.0.0a1->fsspec[http]>=2022.5.0->pytorch-lightning) (6.4.2)\n",
            "Requirement already satisfied: propcache>=0.2.0 in /usr/local/lib/python3.11/dist-packages (from aiohttp!=4.0.0a0,!=4.0.0a1->fsspec[http]>=2022.5.0->pytorch-lightning) (0.3.1)\n",
            "Requirement already satisfied: yarl<2.0,>=1.17.0 in /usr/local/lib/python3.11/dist-packages (from aiohttp!=4.0.0a0,!=4.0.0a1->fsspec[http]>=2022.5.0->pytorch-lightning) (1.19.0)\n",
            "Requirement already satisfied: MarkupSafe>=2.0 in /usr/local/lib/python3.11/dist-packages (from jinja2->torch>=2.1.0->pytorch-lightning) (3.0.2)\n",
            "Requirement already satisfied: idna>=2.0 in /usr/local/lib/python3.11/dist-packages (from yarl<2.0,>=1.17.0->aiohttp!=4.0.0a0,!=4.0.0a1->fsspec[http]>=2022.5.0->pytorch-lightning) (3.10)\n",
            "Downloading pytorch_lightning-2.5.1-py3-none-any.whl (822 kB)\n",
            "\u001b[2K   \u001b[90m━━━━━━━━━━━━━━━━━━━━━━━━━━━━━━━━━━━━━━━━\u001b[0m \u001b[32m823.0/823.0 kB\u001b[0m \u001b[31m37.0 MB/s\u001b[0m eta \u001b[36m0:00:00\u001b[0m\n",
            "\u001b[?25hDownloading lightning_utilities-0.14.3-py3-none-any.whl (28 kB)\n",
            "Downloading nvidia_cublas_cu12-12.4.5.8-py3-none-manylinux2014_x86_64.whl (363.4 MB)\n",
            "\u001b[2K   \u001b[90m━━━━━━━━━━━━━━━━━━━━━━━━━━━━━━━━━━━━━━━━\u001b[0m \u001b[32m363.4/363.4 MB\u001b[0m \u001b[31m2.8 MB/s\u001b[0m eta \u001b[36m0:00:00\u001b[0m\n",
            "\u001b[?25hDownloading nvidia_cuda_cupti_cu12-12.4.127-py3-none-manylinux2014_x86_64.whl (13.8 MB)\n",
            "\u001b[2K   \u001b[90m━━━━━━━━━━━━━━━━━━━━━━━━━━━━━━━━━━━━━━━━\u001b[0m \u001b[32m13.8/13.8 MB\u001b[0m \u001b[31m89.0 MB/s\u001b[0m eta \u001b[36m0:00:00\u001b[0m\n",
            "\u001b[?25hDownloading nvidia_cuda_nvrtc_cu12-12.4.127-py3-none-manylinux2014_x86_64.whl (24.6 MB)\n",
            "\u001b[2K   \u001b[90m━━━━━━━━━━━━━━━━━━━━━━━━━━━━━━━━━━━━━━━━\u001b[0m \u001b[32m24.6/24.6 MB\u001b[0m \u001b[31m75.9 MB/s\u001b[0m eta \u001b[36m0:00:00\u001b[0m\n",
            "\u001b[?25hDownloading nvidia_cuda_runtime_cu12-12.4.127-py3-none-manylinux2014_x86_64.whl (883 kB)\n",
            "\u001b[2K   \u001b[90m━━━━━━━━━━━━━━━━━━━━━━━━━━━━━━━━━━━━━━━━\u001b[0m \u001b[32m883.7/883.7 kB\u001b[0m \u001b[31m40.4 MB/s\u001b[0m eta \u001b[36m0:00:00\u001b[0m\n",
            "\u001b[?25hDownloading nvidia_cudnn_cu12-9.1.0.70-py3-none-manylinux2014_x86_64.whl (664.8 MB)\n",
            "\u001b[2K   \u001b[90m━━━━━━━━━━━━━━━━━━━━━━━━━━━━━━━━━━━━━━━━\u001b[0m \u001b[32m664.8/664.8 MB\u001b[0m \u001b[31m1.6 MB/s\u001b[0m eta \u001b[36m0:00:00\u001b[0m\n",
            "\u001b[?25hDownloading nvidia_cufft_cu12-11.2.1.3-py3-none-manylinux2014_x86_64.whl (211.5 MB)\n",
            "\u001b[2K   \u001b[90m━━━━━━━━━━━━━━━━━━━━━━━━━━━━━━━━━━━━━━━━\u001b[0m \u001b[32m211.5/211.5 MB\u001b[0m \u001b[31m10.7 MB/s\u001b[0m eta \u001b[36m0:00:00\u001b[0m\n",
            "\u001b[?25hDownloading nvidia_curand_cu12-10.3.5.147-py3-none-manylinux2014_x86_64.whl (56.3 MB)\n",
            "\u001b[2K   \u001b[90m━━━━━━━━━━━━━━━━━━━━━━━━━━━━━━━━━━━━━━━━\u001b[0m \u001b[32m56.3/56.3 MB\u001b[0m \u001b[31m40.1 MB/s\u001b[0m eta \u001b[36m0:00:00\u001b[0m\n",
            "\u001b[?25hDownloading nvidia_cusolver_cu12-11.6.1.9-py3-none-manylinux2014_x86_64.whl (127.9 MB)\n",
            "\u001b[2K   \u001b[90m━━━━━━━━━━━━━━━━━━━━━━━━━━━━━━━━━━━━━━━━\u001b[0m \u001b[32m127.9/127.9 MB\u001b[0m \u001b[31m18.2 MB/s\u001b[0m eta \u001b[36m0:00:00\u001b[0m\n",
            "\u001b[?25hDownloading nvidia_cusparse_cu12-12.3.1.170-py3-none-manylinux2014_x86_64.whl (207.5 MB)\n",
            "\u001b[2K   \u001b[90m━━━━━━━━━━━━━━━━━━━━━━━━━━━━━━━━━━━━━━━━\u001b[0m \u001b[32m207.5/207.5 MB\u001b[0m \u001b[31m3.1 MB/s\u001b[0m eta \u001b[36m0:00:00\u001b[0m\n",
            "\u001b[?25hDownloading nvidia_nvjitlink_cu12-12.4.127-py3-none-manylinux2014_x86_64.whl (21.1 MB)\n",
            "\u001b[2K   \u001b[90m━━━━━━━━━━━━━━━━━━━━━━━━━━━━━━━━━━━━━━━━\u001b[0m \u001b[32m21.1/21.1 MB\u001b[0m \u001b[31m102.3 MB/s\u001b[0m eta \u001b[36m0:00:00\u001b[0m\n",
            "\u001b[?25hDownloading torchmetrics-1.7.1-py3-none-any.whl (961 kB)\n",
            "\u001b[2K   \u001b[90m━━━━━━━━━━━━━━━━━━━━━━━━━━━━━━━━━━━━━━━━\u001b[0m \u001b[32m961.5/961.5 kB\u001b[0m \u001b[31m57.5 MB/s\u001b[0m eta \u001b[36m0:00:00\u001b[0m\n",
            "\u001b[?25hInstalling collected packages: nvidia-nvjitlink-cu12, nvidia-curand-cu12, nvidia-cufft-cu12, nvidia-cuda-runtime-cu12, nvidia-cuda-nvrtc-cu12, nvidia-cuda-cupti-cu12, nvidia-cublas-cu12, lightning-utilities, nvidia-cusparse-cu12, nvidia-cudnn-cu12, nvidia-cusolver-cu12, torchmetrics, pytorch-lightning\n",
            "  Attempting uninstall: nvidia-nvjitlink-cu12\n",
            "    Found existing installation: nvidia-nvjitlink-cu12 12.5.82\n",
            "    Uninstalling nvidia-nvjitlink-cu12-12.5.82:\n",
            "      Successfully uninstalled nvidia-nvjitlink-cu12-12.5.82\n",
            "  Attempting uninstall: nvidia-curand-cu12\n",
            "    Found existing installation: nvidia-curand-cu12 10.3.6.82\n",
            "    Uninstalling nvidia-curand-cu12-10.3.6.82:\n",
            "      Successfully uninstalled nvidia-curand-cu12-10.3.6.82\n",
            "  Attempting uninstall: nvidia-cufft-cu12\n",
            "    Found existing installation: nvidia-cufft-cu12 11.2.3.61\n",
            "    Uninstalling nvidia-cufft-cu12-11.2.3.61:\n",
            "      Successfully uninstalled nvidia-cufft-cu12-11.2.3.61\n",
            "  Attempting uninstall: nvidia-cuda-runtime-cu12\n",
            "    Found existing installation: nvidia-cuda-runtime-cu12 12.5.82\n",
            "    Uninstalling nvidia-cuda-runtime-cu12-12.5.82:\n",
            "      Successfully uninstalled nvidia-cuda-runtime-cu12-12.5.82\n",
            "  Attempting uninstall: nvidia-cuda-nvrtc-cu12\n",
            "    Found existing installation: nvidia-cuda-nvrtc-cu12 12.5.82\n",
            "    Uninstalling nvidia-cuda-nvrtc-cu12-12.5.82:\n",
            "      Successfully uninstalled nvidia-cuda-nvrtc-cu12-12.5.82\n",
            "  Attempting uninstall: nvidia-cuda-cupti-cu12\n",
            "    Found existing installation: nvidia-cuda-cupti-cu12 12.5.82\n",
            "    Uninstalling nvidia-cuda-cupti-cu12-12.5.82:\n",
            "      Successfully uninstalled nvidia-cuda-cupti-cu12-12.5.82\n",
            "  Attempting uninstall: nvidia-cublas-cu12\n",
            "    Found existing installation: nvidia-cublas-cu12 12.5.3.2\n",
            "    Uninstalling nvidia-cublas-cu12-12.5.3.2:\n",
            "      Successfully uninstalled nvidia-cublas-cu12-12.5.3.2\n",
            "  Attempting uninstall: nvidia-cusparse-cu12\n",
            "    Found existing installation: nvidia-cusparse-cu12 12.5.1.3\n",
            "    Uninstalling nvidia-cusparse-cu12-12.5.1.3:\n",
            "      Successfully uninstalled nvidia-cusparse-cu12-12.5.1.3\n",
            "  Attempting uninstall: nvidia-cudnn-cu12\n",
            "    Found existing installation: nvidia-cudnn-cu12 9.3.0.75\n",
            "    Uninstalling nvidia-cudnn-cu12-9.3.0.75:\n",
            "      Successfully uninstalled nvidia-cudnn-cu12-9.3.0.75\n",
            "  Attempting uninstall: nvidia-cusolver-cu12\n",
            "    Found existing installation: nvidia-cusolver-cu12 11.6.3.83\n",
            "    Uninstalling nvidia-cusolver-cu12-11.6.3.83:\n",
            "      Successfully uninstalled nvidia-cusolver-cu12-11.6.3.83\n",
            "Successfully installed lightning-utilities-0.14.3 nvidia-cublas-cu12-12.4.5.8 nvidia-cuda-cupti-cu12-12.4.127 nvidia-cuda-nvrtc-cu12-12.4.127 nvidia-cuda-runtime-cu12-12.4.127 nvidia-cudnn-cu12-9.1.0.70 nvidia-cufft-cu12-11.2.1.3 nvidia-curand-cu12-10.3.5.147 nvidia-cusolver-cu12-11.6.1.9 nvidia-cusparse-cu12-12.3.1.170 nvidia-nvjitlink-cu12-12.4.127 pytorch-lightning-2.5.1 torchmetrics-1.7.1\n"
          ]
        }
      ],
      "source": [
        "!pip install pytorch-lightning"
      ]
    },
    {
      "cell_type": "code",
      "source": [
        "!pip install pytesseract"
      ],
      "metadata": {
        "colab": {
          "base_uri": "https://localhost:8080/"
        },
        "id": "3rgjGevUzqGt",
        "outputId": "74818a4d-b2f4-46d4-8493-87cc7f5e5b55"
      },
      "execution_count": 2,
      "outputs": [
        {
          "output_type": "stream",
          "name": "stdout",
          "text": [
            "Collecting pytesseract\n",
            "  Downloading pytesseract-0.3.13-py3-none-any.whl.metadata (11 kB)\n",
            "Requirement already satisfied: packaging>=21.3 in /usr/local/lib/python3.11/dist-packages (from pytesseract) (24.2)\n",
            "Requirement already satisfied: Pillow>=8.0.0 in /usr/local/lib/python3.11/dist-packages (from pytesseract) (11.1.0)\n",
            "Downloading pytesseract-0.3.13-py3-none-any.whl (14 kB)\n",
            "Installing collected packages: pytesseract\n",
            "Successfully installed pytesseract-0.3.13\n"
          ]
        }
      ]
    },
    {
      "cell_type": "code",
      "source": [
        "!pip install optuna"
      ],
      "metadata": {
        "colab": {
          "base_uri": "https://localhost:8080/"
        },
        "id": "ImwiH3qtzu3C",
        "outputId": "f437da13-60b9-4605-edca-ebab6aa9cdbe"
      },
      "execution_count": 3,
      "outputs": [
        {
          "output_type": "stream",
          "name": "stdout",
          "text": [
            "Collecting optuna\n",
            "  Downloading optuna-4.3.0-py3-none-any.whl.metadata (17 kB)\n",
            "Collecting alembic>=1.5.0 (from optuna)\n",
            "  Downloading alembic-1.15.2-py3-none-any.whl.metadata (7.3 kB)\n",
            "Collecting colorlog (from optuna)\n",
            "  Downloading colorlog-6.9.0-py3-none-any.whl.metadata (10 kB)\n",
            "Requirement already satisfied: numpy in /usr/local/lib/python3.11/dist-packages (from optuna) (2.0.2)\n",
            "Requirement already satisfied: packaging>=20.0 in /usr/local/lib/python3.11/dist-packages (from optuna) (24.2)\n",
            "Requirement already satisfied: sqlalchemy>=1.4.2 in /usr/local/lib/python3.11/dist-packages (from optuna) (2.0.40)\n",
            "Requirement already satisfied: tqdm in /usr/local/lib/python3.11/dist-packages (from optuna) (4.67.1)\n",
            "Requirement already satisfied: PyYAML in /usr/local/lib/python3.11/dist-packages (from optuna) (6.0.2)\n",
            "Requirement already satisfied: Mako in /usr/lib/python3/dist-packages (from alembic>=1.5.0->optuna) (1.1.3)\n",
            "Requirement already satisfied: typing-extensions>=4.12 in /usr/local/lib/python3.11/dist-packages (from alembic>=1.5.0->optuna) (4.13.1)\n",
            "Requirement already satisfied: greenlet>=1 in /usr/local/lib/python3.11/dist-packages (from sqlalchemy>=1.4.2->optuna) (3.1.1)\n",
            "Downloading optuna-4.3.0-py3-none-any.whl (386 kB)\n",
            "\u001b[2K   \u001b[90m━━━━━━━━━━━━━━━━━━━━━━━━━━━━━━━━━━━━━━━━\u001b[0m \u001b[32m386.6/386.6 kB\u001b[0m \u001b[31m27.6 MB/s\u001b[0m eta \u001b[36m0:00:00\u001b[0m\n",
            "\u001b[?25hDownloading alembic-1.15.2-py3-none-any.whl (231 kB)\n",
            "\u001b[2K   \u001b[90m━━━━━━━━━━━━━━━━━━━━━━━━━━━━━━━━━━━━━━━━\u001b[0m \u001b[32m231.9/231.9 kB\u001b[0m \u001b[31m21.7 MB/s\u001b[0m eta \u001b[36m0:00:00\u001b[0m\n",
            "\u001b[?25hDownloading colorlog-6.9.0-py3-none-any.whl (11 kB)\n",
            "Installing collected packages: colorlog, alembic, optuna\n",
            "Successfully installed alembic-1.15.2 colorlog-6.9.0 optuna-4.3.0\n"
          ]
        }
      ]
    },
    {
      "cell_type": "code",
      "source": [
        "import cv2\n",
        "import numpy as np\n",
        "import pytesseract\n",
        "import matplotlib.pyplot as plt\n",
        "import pandas as pd\n",
        "import os\n",
        "os.environ[\"CUBLAS_WORKSPACE_CONFIG\"] = \":4096:8\"  # or \":16:8\"\n",
        "import torch\n",
        "\n",
        "import torch\n",
        "import random\n",
        "from transformers import ViTFeatureExtractor, ViTModel\n",
        "import pandas as pd\n",
        "import numpy as np\n",
        "from sklearn.preprocessing import StandardScaler\n",
        "from torch.utils.data import DataLoader, TensorDataset\n",
        "import torch.nn as nn\n",
        "import torch.optim as optim\n",
        "import matplotlib.pyplot as plt\n",
        "import seaborn as sns\n",
        "import pytorch_lightning as pl\n",
        "from sklearn.preprocessing import StandardScaler\n",
        "from sklearn.metrics import mean_absolute_error, mean_squared_error, r2_score\n",
        "import itertools\n",
        "import optuna\n",
        "import json\n",
        "from pytorch_lightning.callbacks import EarlyStopping\n",
        "from sklearn.decomposition import PCA"
      ],
      "metadata": {
        "id": "Vk4sCpMgzyGS"
      },
      "execution_count": 4,
      "outputs": []
    },
    {
      "cell_type": "code",
      "source": [
        "from google.colab import drive\n",
        "drive.mount('/content/drive', force_remount=True)"
      ],
      "metadata": {
        "colab": {
          "base_uri": "https://localhost:8080/"
        },
        "id": "DPKfy3kSz0na",
        "outputId": "c823dea2-f420-48bd-8689-52c8bc59676f"
      },
      "execution_count": 2,
      "outputs": [
        {
          "output_type": "stream",
          "name": "stdout",
          "text": [
            "Mounted at /content/drive\n"
          ]
        }
      ]
    },
    {
      "cell_type": "markdown",
      "source": [
        "#1. Multimodal Time Series Model using Transformer and GRU"
      ],
      "metadata": {
        "id": "rhg-kDbbOlQ_"
      }
    },
    {
      "cell_type": "code",
      "source": [
        "\n",
        "import os\n",
        "os.environ[\"CUBLAS_WORKSPACE_CONFIG\"] = \":4096:8\"  # or \":16:8\"\n",
        "torch.use_deterministic_algorithms(False)\n",
        "import torch\n",
        "\n",
        "import json\n",
        "import pandas as pd\n",
        "import numpy as np\n",
        "\n",
        "from torch import nn\n",
        "from torch.utils.data import DataLoader, TensorDataset\n",
        "from sklearn.preprocessing import StandardScaler\n",
        "import pytorch_lightning as pl\n",
        "from pytorch_lightning.loggers import CSVLogger\n",
        "from pytorch_lightning.callbacks import ModelCheckpoint\n",
        "import optuna\n",
        "\n",
        "numerical_features = [\"Ice Coverage (%)\", \"Retreat Area (Since 1979) (%)\"]\n",
        "vit_features = [f\"ViT_Feature_{i}\" for i in range(768)]\n",
        "target_column = [\"Retreat Area (Yearly) (%)\"]\n",
        "\n",
        "# Load CSV\n",
        "df = pd.read_csv(\"/content/drive/MyDrive/dip_project/ice_extent_full_dataset.csv\")\n",
        "df = df.sort_values([\"Year\", \"Image\"])\n",
        "\n",
        "# Create sequences using a sliding window approach.\n",
        "sequence_length = 3\n",
        "\n",
        "def create_sequences(df, sequence_length, numerical_features, vit_features, target_column):\n",
        "    sequences_num = []\n",
        "    sequences_vit = []\n",
        "    targets = []\n",
        "    years = []\n",
        "    for i in range(len(df) - sequence_length + 1):\n",
        "        seq_num = df.iloc[i:i+sequence_length][numerical_features].values\n",
        "        seq_vit = df.iloc[i:i+sequence_length][vit_features].values\n",
        "        target = df.iloc[i+sequence_length - 1][target_column].values\n",
        "        year = df.iloc[i+sequence_length - 1][\"Year\"]\n",
        "        sequences_num.append(seq_num)\n",
        "        sequences_vit.append(seq_vit)\n",
        "        targets.append(target)\n",
        "        years.append(year)\n",
        "    return np.array(sequences_num), np.array(sequences_vit), np.array(targets), np.array(years)\n",
        "\n",
        "seq_num, seq_vit, targets, years = create_sequences(df, sequence_length, numerical_features, vit_features, target_column)\n",
        "\n",
        "# Split sequences into train, validation, and test sets\n",
        "n = len(seq_num)\n",
        "train_end = int(n * 0.8)\n",
        "val_end = int(n * 0.9)\n",
        "\n",
        "train_num, val_num, test_num = seq_num[:train_end], seq_num[train_end:val_end], seq_num[val_end:]\n",
        "train_vit, val_vit, test_vit = seq_vit[:train_end], seq_vit[train_end:val_end], seq_vit[val_end:]\n",
        "y_train, y_val, y_test = targets[:train_end], targets[train_end:val_end], targets[val_end:]\n",
        "year_train, year_val, year_test = years[:train_end], years[train_end:val_end], years[val_end:]\n",
        "\n",
        "# Normalize numerical features\n",
        "scaler_num = StandardScaler()\n",
        "scaler_target = StandardScaler()\n",
        "\n",
        "train_num_flat = train_num.reshape(-1, len(numerical_features))\n",
        "scaler_num.fit(train_num_flat)\n",
        "train_num = scaler_num.transform(train_num_flat).reshape(train_num.shape)\n",
        "val_num_flat = val_num.reshape(-1, len(numerical_features))\n",
        "val_num = scaler_num.transform(val_num_flat).reshape(val_num.shape)\n",
        "test_num_flat = test_num.reshape(-1, len(numerical_features))\n",
        "test_num = scaler_num.transform(test_num_flat).reshape(test_num.shape)\n",
        "\n",
        "y_train = scaler_target.fit_transform(y_train.reshape(-1,1)).flatten()\n",
        "y_val = scaler_target.transform(y_val.reshape(-1,1)).flatten()\n",
        "y_test = scaler_target.transform(y_test.reshape(-1,1)).flatten()\n",
        "\n",
        "\n",
        "X_train_num = torch.tensor(train_num, dtype=torch.float32)\n",
        "X_train_vit = torch.tensor(train_vit, dtype=torch.float32)\n",
        "y_train = torch.tensor(y_train, dtype=torch.float32)\n",
        "\n",
        "X_val_num = torch.tensor(val_num, dtype=torch.float32)\n",
        "X_val_vit = torch.tensor(val_vit, dtype=torch.float32)\n",
        "y_val = torch.tensor(y_val, dtype=torch.float32)\n",
        "\n",
        "X_test_num = torch.tensor(test_num, dtype=torch.float32)\n",
        "X_test_vit = torch.tensor(test_vit, dtype=torch.float32)\n",
        "y_test = torch.tensor(y_test, dtype=torch.float32)\n",
        "\n",
        "# Datasets and DataLoaders\n",
        "train_dataset = TensorDataset(X_train_num, X_train_vit, y_train)\n",
        "val_dataset = TensorDataset(X_val_num, X_val_vit, y_val)\n",
        "test_dataset = TensorDataset(X_test_num, X_test_vit, y_test)\n",
        "\n",
        "train_loader = DataLoader(train_dataset, batch_size=32, shuffle=True, num_workers=2)\n",
        "val_loader = DataLoader(val_dataset, batch_size=32, shuffle=False, num_workers=2)\n",
        "test_loader = DataLoader(test_dataset, batch_size=32, shuffle=False, num_workers=2)\n",
        "\n",
        "print(f\"Train sequences: {len(train_dataset)}, Val sequences: {len(val_dataset)}, Test sequences: {len(test_dataset)}\")\n",
        "\n",
        "# Define the Multimodal Time Series Model using GRU\n",
        "\n",
        "from torch.nn import TransformerEncoder, TransformerEncoderLayer\n",
        "\n",
        "class CombinedTransformerGRUModel(pl.LightningModule):\n",
        "    def __init__(self, num_feature_dim, d_model=128, fusion_output_dim=256, transformer_layers=1,\n",
        "                 gru_hidden_size=128, gru_layers=1, dropout=0.1, learning_rate=1e-4):\n",
        "\n",
        "        super().__init__()\n",
        "        self.save_hyperparameters()\n",
        "\n",
        "        # Encoders for each modality\n",
        "        self.encoder_num = nn.Linear(num_feature_dim, d_model)\n",
        "        self.encoder_vit = nn.Linear(768, d_model)\n",
        "\n",
        "        # Fusion layer\n",
        "        self.fusion_layer = nn.Linear(2 * d_model, fusion_output_dim)\n",
        "\n",
        "        # Transformer Encoder\n",
        "        encoder_layer = TransformerEncoderLayer(d_model=fusion_output_dim,\n",
        "                                                nhead=4,\n",
        "                                                dropout=dropout,\n",
        "                                                batch_first=True)\n",
        "        self.transformer = TransformerEncoder(encoder_layer, num_layers=transformer_layers)\n",
        "\n",
        "        # GRU\n",
        "        self.gru = nn.GRU(input_size=fusion_output_dim,\n",
        "                          hidden_size=gru_hidden_size,\n",
        "                          num_layers=gru_layers,\n",
        "                          batch_first=True,\n",
        "                          dropout=dropout if gru_layers > 1 else 0)\n",
        "\n",
        "        # Output layer\n",
        "        self.output_layer = nn.Linear(gru_hidden_size, 1)\n",
        "\n",
        "        # Loss and learning rate configuration.\n",
        "        self.criterion = nn.MSELoss()\n",
        "        self.learning_rate = learning_rate\n",
        "\n",
        "    def forward(self, x_num, x_vit):\n",
        "\n",
        "        x_num_enc = self.encoder_num(x_num)\n",
        "        x_vit_enc = self.encoder_vit(x_vit)\n",
        "\n",
        "        # Fuse the two modalities by concatenating\n",
        "        x_fused = torch.cat([x_num_enc, x_vit_enc], dim=2)\n",
        "        fused = self.fusion_layer(x_fused)\n",
        "\n",
        "        # Transformer Encoder\n",
        "        transformed = self.transformer(fused)\n",
        "\n",
        "        # refined sequence through the GRU\n",
        "        _, h_n = self.gru(transformed)\n",
        "        final_hidden = h_n[-1]\n",
        "\n",
        "        # predict using final hidden state.\n",
        "        output = self.output_layer(final_hidden).squeeze()\n",
        "        return output\n",
        "\n",
        "    def training_step(self, batch, batch_idx):\n",
        "        x_num, x_vit, y = batch\n",
        "        y_pred = self(x_num, x_vit)\n",
        "        loss = self.criterion(y_pred, y)\n",
        "        self.log(\"train_loss\", loss, prog_bar=True, on_epoch=True)\n",
        "        return loss\n",
        "\n",
        "    def validation_step(self, batch, batch_idx):\n",
        "        x_num, x_vit, y = batch\n",
        "        y_pred = self(x_num, x_vit)\n",
        "        loss = self.criterion(y_pred, y)\n",
        "        self.log(\"val_loss\", loss, prog_bar=True, on_epoch=True)\n",
        "        return loss\n",
        "\n",
        "    def configure_optimizers(self):\n",
        "        optimizer = torch.optim.AdamW(self.parameters(), lr=self.learning_rate)\n",
        "        scheduler = torch.optim.lr_scheduler.ReduceLROnPlateau(optimizer, mode=\"min\", patience=3, factor=0.5)\n",
        "        return {\"optimizer\": optimizer, \"lr_scheduler\": scheduler, \"monitor\": \"val_loss\"}\n",
        "\n",
        "\n",
        "# Hyperparameter Tuning with Optuna and CSV Logging\n",
        "\n",
        "def objective(trial):\n",
        "\n",
        "    d_model = trial.suggest_categorical(\"d_model\", [64, 128, 256])\n",
        "    fusion_output_dim = trial.suggest_categorical(\"fusion_output_dim\", [128, 256, 512])\n",
        "    gru_hidden_size = trial.suggest_categorical(\"gru_hidden_size\", [64, 128])\n",
        "    dropout = trial.suggest_float(\"dropout\", 0.1, 0.5)\n",
        "    learning_rate = trial.suggest_loguniform(\"learning_rate\", 1e-4, 1e-3)\n",
        "    transformer_layers = trial.suggest_int(\"transformer_layers\", 1, 3)\n",
        "\n",
        "    model = CombinedTransformerGRUModel(\n",
        "        num_feature_dim=len(numerical_features),\n",
        "        d_model=d_model,\n",
        "        fusion_output_dim=fusion_output_dim,\n",
        "        transformer_layers=transformer_layers,\n",
        "        gru_hidden_size=gru_hidden_size,\n",
        "        gru_layers=1,\n",
        "        dropout=dropout,\n",
        "        learning_rate=learning_rate\n",
        "    )\n",
        "\n",
        "    # CSV Logger to log epoch metrics in a trial-specific directory\n",
        "    csv_logger = CSVLogger(save_dir=\"logs\", name=f\"trial_{trial.number}\")\n",
        "\n",
        "    # checkpoint callback to monitor validation loss\n",
        "    checkpoint_callback = ModelCheckpoint(monitor=\"val_loss\", mode=\"min\", save_top_k=1)\n",
        "\n",
        "    trainer = pl.Trainer(\n",
        "        max_epochs=50,\n",
        "        logger=csv_logger,\n",
        "        callbacks=[checkpoint_callback],\n",
        "        accelerator=\"gpu\" if torch.cuda.is_available() else \"cpu\",\n",
        "        devices=1,\n",
        "        log_every_n_steps=10,\n",
        "        enable_progress_bar=False,\n",
        "        deterministic=False\n",
        "    )\n",
        "\n",
        "    trainer.fit(model, train_dataloaders=train_loader, val_dataloaders=val_loader)\n",
        "\n",
        "    best_val_loss = checkpoint_callback.best_model_score.item() if checkpoint_callback.best_model_score is not None else float('inf')\n",
        "    return best_val_loss\n",
        "\n",
        "# hyperparameter tuning study with optuna\n",
        "study = optuna.create_study(direction=\"minimize\")\n",
        "study.optimize(objective, n_trials=20)\n",
        "print(\"Best Hyperparameters:\", study.best_params)\n",
        "\n",
        "# best hyperparameters\n",
        "with open(\"/content/drive/MyDrive/dip_project/multimodal/best_params.json\", \"w\") as f:\n",
        "    json.dump(study.best_params, f)\n",
        "\n",
        "#Final Model Training with Best Hyperparameters and CSV Logger\n",
        "with open(\"/content/drive/MyDrive/dip_project/multimodal/best_params.json\", \"r\") as f:\n",
        "    best_params = json.load(f)\n",
        "\n",
        "final_model = CombinedTransformerGRUModel(\n",
        "    num_feature_dim=len(numerical_features),\n",
        "    d_model=best_params[\"d_model\"],\n",
        "    fusion_output_dim=best_params[\"fusion_output_dim\"],\n",
        "    gru_hidden_size=best_params[\"gru_hidden_size\"],\n",
        "    gru_layers=1,\n",
        "    dropout=best_params[\"dropout\"],\n",
        "    learning_rate=best_params[\"learning_rate\"]\n",
        ")\n",
        "\n",
        "\n",
        "final_csv_logger = CSVLogger(save_dir=\"/content/drive/MyDrive/dip_project/log\", name=\"final_model\")\n",
        "\n",
        "checkpoint_callback = ModelCheckpoint(monitor=\"val_loss\", mode=\"min\", save_top_k=1)\n",
        "\n",
        "trainer = pl.Trainer(\n",
        "    max_epochs=50,\n",
        "    logger=final_csv_logger,\n",
        "    callbacks=[checkpoint_callback],\n",
        "    accelerator=\"gpu\" if torch.cuda.is_available() else \"cpu\",\n",
        "    devices=1,\n",
        "    log_every_n_steps=10,\n",
        "    enable_progress_bar=True,\n",
        ")\n",
        "\n",
        "trainer.fit(final_model, train_dataloaders=train_loader, val_dataloaders=val_loader)\n",
        "\n",
        "print(f\"Final training metrics are logged at: {final_csv_logger.experiment.log_dir}\")\n",
        "\n",
        "\n",
        "# Model Evaluation and Saving Predictions\n",
        "\n",
        "def evaluate_model(model, test_loader, device=\"cpu\"):\n",
        "    model.to(device)\n",
        "    model.eval()\n",
        "    y_true, y_pred = [], []\n",
        "    with torch.no_grad():\n",
        "        for x_num, x_vit, y in test_loader:\n",
        "            x_num, x_vit, y = x_num.to(device), x_vit.to(device), y.to(device)\n",
        "            y_hat = model(x_num, x_vit)\n",
        "            y_true.extend(y.cpu().numpy())\n",
        "            y_pred.extend(y_hat.cpu().numpy())\n",
        "    y_true, y_pred = np.array(y_true), np.array(y_pred)\n",
        "    from sklearn.metrics import mean_absolute_error, mean_squared_error, r2_score\n",
        "    mae = mean_absolute_error(y_true, y_pred)\n",
        "    mse = mean_squared_error(y_true, y_pred)\n",
        "    rmse = np.sqrt(mse)\n",
        "    r2 = r2_score(y_true, y_pred)\n",
        "    print(\"\\n** Model Evaluation **\")\n",
        "    print(f\"MAE: {mae:.4f}, MSE: {mse:.4f}, RMSE: {rmse:.4f}, R^2: {r2:.4f}\")\n",
        "    return mae, mse, rmse, r2\n",
        "\n",
        "device = \"cuda\" if torch.cuda.is_available() else \"cpu\"\n",
        "\n",
        "evaluate_model(final_model, test_loader, device)\n",
        "\n",
        "def predict_and_save_test_results(model, test_loader, scaler_target, test_years, output_path, device):\n",
        "    model.to(device)\n",
        "    model.eval()\n",
        "    y_true_list = []\n",
        "    y_pred_list = []\n",
        "\n",
        "\n",
        "    with torch.no_grad():\n",
        "        for x_num, x_vit, y in test_loader:\n",
        "            x_num, x_vit, y = x_num.to(device), x_vit.to(device), y.to(device)\n",
        "            y_hat = model(x_num, x_vit)\n",
        "            y_true_list.extend(y.cpu().numpy())\n",
        "            y_pred_list.extend(y_hat.cpu().numpy())\n",
        "\n",
        "    y_true_np = np.array(y_true_list)\n",
        "    y_pred_np = np.array(y_pred_list)\n",
        "\n",
        "    y_true_original = scaler_target.inverse_transform(y_true_np.reshape(-1, 1)).flatten()\n",
        "    y_pred_original = scaler_target.inverse_transform(y_pred_np.reshape(-1, 1)).flatten()\n",
        "\n",
        "    results_df = pd.DataFrame({\n",
        "        \"Year\": test_years,\n",
        "        \"Actual Retreat Area (Yearly) (%)\": y_true_original,\n",
        "        \"Predicted Retreat Area (Yearly) (%)\": y_pred_original\n",
        "    })\n",
        "\n",
        "    results_grouped = results_df.groupby(\"Year\", as_index=False).mean()\n",
        "\n",
        "    # Save the results to CSV\n",
        "    results_grouped.to_csv(output_path, index=False)\n",
        "    print(f\"Test predictions saved to: {output_path}\")\n",
        "    return results_grouped\n",
        "\n",
        "\n",
        "TEST_RESULTS_PATH = \"/content/drive/MyDrive/dip_project/multimodal/multimodal_sea_ice_predictions.csv\"\n",
        "results_df = predict_and_save_test_results(final_model, test_loader, scaler_target, year_test, TEST_RESULTS_PATH, device)\n"
      ],
      "metadata": {
        "colab": {
          "base_uri": "https://localhost:8080/",
          "height": 1000,
          "referenced_widgets": [
            "4a1a5d5062a34a2c974fea8f5c134219",
            "5a0b8ed941204e4e84ac383fcdc06554",
            "ba7437de11d94fc1be8303a5eda7fea4",
            "43a533ab7ce94e24a462e8037be9db36",
            "2b191dfe4fe249eb8b00e9639061f320",
            "490aea0f3ddf4ec6b648cd674df6094e",
            "27ad43910f33412ea2f75cf8c2053d84",
            "4ec1172b3c184e7fb15acb852b97c9b7",
            "93242fd53147455bb8466b2947e5189e",
            "1c31ca9f9d084f7b84131bf7f55f34fc",
            "81340d9568b84b04a854810b2c3ff690",
            "b1be9431d76b404881cb5cec6c29036c",
            "7df332f9cb0a4c48b587288fbca9225f",
            "bc7bb0892b2e449aaf7db1cb14be7104",
            "0ac113359fb8459b9e08ee5736a90908",
            "35e84c86c8494d549a90459317ace94f",
            "0c1d23352bf84c428e6db2cdbc1cf234",
            "476270f209cc49079b29c2272dbeccbb",
            "0a09c232110a47e89aee53cc9721072f",
            "158a839bed344fe290680e30018f5c3f",
            "b7aff90c2de7427db1fd38c92af0cb0e",
            "4d172f9924754ca88b7e6dcf3514a084",
            "858fd2be8a0a493d941fbcbca1ef2d72",
            "75f6f17a2d154112b5602c9177d9e7a0",
            "d0ac04576fe04b5c84824740755f3519",
            "6269ac7900ef4ce9b1cfff322ebd9418",
            "8563c0c7bb434bba9cc6a0dbf1456523",
            "1a0b0f302531414f9731349586bbceab",
            "98747957cc894ca3b194ce2123076513",
            "d42b5b5e3bb6415ebe89aa4fba09e18d",
            "8d93ee961b454ffca2a8472385a13898",
            "a94fdccd77704e1da864ff8de67a8e22",
            "40410f3bc8b94813b4967d9aecd3a096",
            "afc2ba9fd9f24cf48e6a7d9da6fd0a46",
            "053e0a777f734223804ff3eb2c213fd7",
            "73b62ad63b094fb1bc02752ccabf51f0",
            "fbed8d7151504288bfadf6c75cde7559",
            "0522b07159d14e27ab0cace11a01ee7c",
            "4b55bf5321244e1298f98c00bad322f7",
            "d901c67fe7ca47e198afbe99ea0f6035",
            "c6d76250db4c45ec84a0ed06009408c9",
            "1e3f0945811145a1832c04b2ead3f670",
            "7e54f13b23ad457d9a2e16e10be4ff76",
            "d51925985e074c2ea8ddab095d1a4d7c",
            "10972f0b41ec48eba69f0a771f0d8996",
            "54c379904f11482bb81eb0255304f5f3",
            "edda17740d94445fa964bdf4f07464fa",
            "ce86517399af4d9fa93fc653d1ce4a75",
            "02143eae2e6840b8a03ca05e38d616db",
            "1c570290c2aa44dfb3624ebfc2d24165",
            "9d71de28fc794766946fd15452adb623",
            "58c02721a1e142ae807f2ea4bff9d4a7",
            "facd306220be40b8b13e9722853fe1c3",
            "c78a94bbf1934c338995f003e4634e19",
            "cf0a2312d38449eeb7a3fa16d8b1c662",
            "35764a741c80434890126530c2df2fe7",
            "eb8d895356984c84aec414a08c39d638",
            "6eef1e957ac1426eb41481006f9ad564",
            "0c0116f5e2f44565bb37476e798ad5d6",
            "e1e02bbe818c418c8953b41c0e52f0fd",
            "18a7985a60294c24aacab332852cc906",
            "117f6a8058224c9aa21c529394031a02",
            "3c7bd036682f4a90884e13bd01d364bf",
            "6c765bf5ad2244b09d595cd7f3ae4530",
            "901717f88c0747648c27032728194ab7",
            "57b2945cafad44268f1136eff0727b2d",
            "150bd2bd6455477eaf42cf8470d2934b",
            "c2fe21628a5948779e822aba4766ba33",
            "dad7498c6cca45808a3fa35604016a4d",
            "6e491aaa9e1546178f691a07b940a522",
            "4328cddd37f0427984cf73d1d5bd16a3",
            "1a40ccff421542dbbb45b385e8194746",
            "2b217026045c42d487fb29379153f7a2",
            "90a72ad010324e0a836340040d7fc82e",
            "9aa4c115ae1b473f83cda8fa07b2ea9e",
            "fd088adfc78f4ab5b8508ddd8f90f7bf",
            "eaff23a7a3784b6cbf8519829befe740",
            "b21b265e495e4c1d8b503e41ff8db39c",
            "f1c1e17f331c4a3c865894eee43ae1f7",
            "a29c8b9379474b43b51e64b3d26878db",
            "a1d610ba83544d02b579eb077a9bc841",
            "8c530d827f504208bfb3c5fbaa80fba4",
            "d64150dfb568464398136b4f0a72c6ba",
            "4a328a4dfe2a4c9fabc91050b5cb3996",
            "42d6a2c06d6d4fcbb9ac810b55163129",
            "7884239e40b74d2898de836b078c07b1",
            "9ba191342e9a47d3874e234b5fe7c6d7",
            "026ab05f56fc4bc2ade223468aed712f",
            "aebf2c66ca3c41f186d00a9843ab1f65",
            "436995f219a14e5fa5eaee07177e3e20",
            "529b292800014ca8a34c3aa97c01585d",
            "ac19e3493c02428c88090e8ef797b058",
            "879c93d310844e5aa1a2ea600c963e9a",
            "c58dfbb0cdbd4fc7852a1eb7bfb7de05",
            "9f63a0bf314a469aa2dd6d0cd3bcbd7e",
            "e73dc6bc62114331b27a9a470cfbb37d",
            "8d8ca114dd44453d8f9dcac4ca4846b0",
            "08282ae92dc6409ea4f60798983ddb7e",
            "de0b0c953bd84c49b08e0606b2b17403",
            "e9977a279fb84a269c4ee556e2cd9b30",
            "18e2960a6d7e49d79ef79ba88e12e8a3",
            "fb06214b54c944fb9474da7bf1efd93a",
            "c0847ca0d9f34c1ebc871efec578af53",
            "9d75f5758d4e41089b786d97c6e1aeeb",
            "560e0919f0284a6e995cfcac02fae38f",
            "b5d9aea18dd74c28aa10b260df2bae8c",
            "39840507acc54cf59cae8380d89557a6",
            "64515a663141454480ec2d7145820bd5",
            "6394aa820d6c454eb49c3dc6880da755",
            "b32c629f6d484f1eafd2b89814f26b5c",
            "db049ce0f51741dba56e8cf1d01ea5e7",
            "156f8e6f368141bebd6021be5716a669",
            "33c40d2fd72948f980bd1a5673f55022",
            "03d5e82f2940466aa5c8b138c00d863c",
            "e600fe8491f04db6b7888a9b2ea47981",
            "b012ca8187c348bd994d44306c49a7a1",
            "4b5e0fa6a31c49559fb13962bcb28935",
            "2f50273c4845485da34183bb117a460c",
            "015fcb60b9564eb7b72f78475d130a08",
            "7055821bbdca41a8b6d8bf357ed35f4c",
            "4a2113a0dc7542e6ba5f1e613c4c97f2",
            "a959932d00bc47b7b0683066e0f81a06",
            "e0b13223270c4e90a66c8147e72dcf8a",
            "4dac56fb975246d0a7501e870544105d",
            "6886a8da72c34d1e9b55eab4a7cc036d",
            "92b6896849cc4e55aea109354312eb6d",
            "50757c7f51ab451ea28ee9fc46503386",
            "ab1712fcdc6b478bb8e6bca4d9ab0906",
            "4c7215455940470ca8114bfc5a49c21a",
            "22792d2baf514fbf9d4ef4751e765f8b",
            "c1907c45f9b743ebb00fe54187e92434",
            "b265c5f3b43a40d798ae42c2e2ad749f",
            "38d6e37ef50f4200aff376039118b307",
            "ad7df1f3fecd44539f4610e55d13975d",
            "eec33e5824ef47f98c986e028d14a116",
            "6decfea7660d4c09839261f944bb5c99",
            "70a3f8fcc7e14150a247fb0e68ca7cbd",
            "feab9e2ee9be4c03bcf42bd0305a360f",
            "c57c12d6d2424bcd96b6172dc6a8ac77",
            "4ea3ad7a05b94280a5bc00d82274d25b",
            "4617a113ae794501bb13fab36da580c5",
            "30061b9e89774ee6a3db8063b252d991",
            "07215283f614404780aed39841adc3b1",
            "cd102389b460406a92d7991be9e0b004",
            "5184c8438e5c40bb8e26f468da9d44ba",
            "21ff1fca06064c8fbc5b3e3b7c484f76",
            "a8870867d9e94f57928444337b0577a6",
            "280656491c4a4689b572ebbab7abaff3",
            "55a353d77d6047cbb82bbef1666ba6e5",
            "7b2a25cd1b504d7b8f20d97f04dab050",
            "62600ce370b244848deda03925090a61",
            "969d1689c78f45f580dd34990893d870",
            "143170c28d7a466c84b9f6eb207a24a4",
            "6114f20b168f4ff386e1e9c4e36edd62",
            "d52cf360434b4c8aaab660a1e519b6b9",
            "4152474d82794c6cb7e4ace03aac131d",
            "8ac8058e0cd74ec59d0b529aa5d10054",
            "cb525e387cf0427bb2ccd44ecfb5365a",
            "8ee688e81a9d4e689aa71e4471d6c7e0",
            "fe395a57868a4da0ab735006f644d9d7",
            "c401bcded52b4cbaaee3bdaef0c43a72",
            "4d5e486e26384feba9069c9d7be72700",
            "9ed62d9b16e64fa2b3ca56e55cc4ccd8",
            "1c9b9398c7334fbd8fc2931868cc6c7d",
            "5f71a3e227fc4e48868c07c6a06e00f0",
            "a41a458a4adc45fab033b51af9515ce7",
            "437f61351e554d4891cc006d01f445a5",
            "fbc71bdce3ab4692927bd07ccf3a7063",
            "d9524df898e947ca9b6e52c5fdff73f5",
            "c07831e1ab824fe18198e7b80ae18868",
            "03cdb656906949e08740226433bfc7d0",
            "270f0a480e31464cbb9fef80a4ae3986",
            "7a03ea07fd76497e8215d92d5a042410",
            "1e8e8d48d843448896ad88c4514e8b6a",
            "a88923dc87e64bbe86f1c1c7abdbc59e",
            "4ea7fad95c9948d098d06d879cbc6dcf",
            "46ff3637ce8748c6bfa76aa48a8ab4ab",
            "0a98c72a432742ffb3fb6a684cc1c870",
            "bfc26f3fc2344a50a93ddbabc9df79cd",
            "21656cc12b044460b70d91087825245c",
            "52d8186b1f40440f9fab4a32a0a87c4e",
            "c11aca26c7434aad9e2519b1927e244b",
            "29691484878d42b0b994b8ebd0b16e87",
            "96d2581cd09646d49cf363d84be4b6c7",
            "96177deea6fc4a1882dda47d7566f2f1",
            "d65dc02814224739b2513ec6c83d0784",
            "3b6c05c18e6a478bbcc49e471a536436",
            "2aec9062424d4adeadd7e01bf2afa530",
            "6df03ae159b94b16a5fa34e91f95ba59",
            "7c139a089ae142409825c131bd265f84",
            "fb53d957abe0463090451b5ce0b884bb",
            "88eea6b72de3406f8796d072168e3cdd",
            "32c71505f63949eebd027b0300caadf1",
            "d046e345601f4960acae30fe01efba32",
            "3acb6b8312954599bff5b3f323de3117",
            "468e8c13ba8f4ed8b5f553a1329d4392",
            "c724d42af9384249a59642a1163df164",
            "b6cb907b2f974e78b224c921612f4207",
            "afa98674a4b04871bd092524de2cc7b2",
            "0e493dbddb394dcd8fc237e3ee836cb6",
            "872d6edf93b74363b05d4a1646320bd1",
            "ef598628ea24415d934621016a2d5623",
            "3841ed81dc254901951294d30298744b",
            "2e5e23b240ae4edab8c35da5a33a4c63",
            "d5db359064d6446bbbc19bf36c25afc8",
            "c3a4333af06d4725a1e0f4ed9bf742b6",
            "08142418a60e4a15ba5a5b515f336d15",
            "3a1da2ed37354d49a2430ae151520bf9",
            "72389a6845844baca90a7056c92c840b",
            "2bab83e24aba43749d5170e88f1b42bb",
            "1f6e877a900b4eb581d543b9f735f37a",
            "aa65172f9a284677be2eaf41d726d329",
            "6e5b10d7b82d48ed9dfa139c2ab1b158",
            "ea34b4d37c9c4579b010a79b82eba2df",
            "22ef91252bed4e42bec3d9d22f60a3f2",
            "792851e4cfbc4d76837015061e94a012",
            "7906aaf9e02946ba9b98c5fc913abf5b",
            "61fbb885afc24ff9818cbe8bd0fb4459",
            "e4b04c5dc6a44145beb6cb272a0783ca",
            "ac6405350b9c4c3c844bf661e28f28f2",
            "4fdbe68ac4914d89bc885e224f8dbc88",
            "b6a20efd400f4a479c530d086b3d122e",
            "5608e59d35e845d99a027331967747c1",
            "375126038d2944c5896bfe199c103308",
            "da06df67d6e14a4db9d504795b7bb375",
            "4d4967143c1845548c41f8a66a1f0018",
            "a5888baed4c74972a2ed02c3f2406acb",
            "b28776bec98f4ed29359ff6a8cf98afe",
            "926169cad0e249fc8db594b3712de979",
            "2bd8943560e24c2d87f6d65a96688293",
            "87660b00379e4bd093f30c49695058ba",
            "1d3a9999873c4a33854ed7e5e3231ee2",
            "fa95477aebdd4409a697eb6a57ec6ce8",
            "4e2d868138d1497ca19be86ff79cb703",
            "7ee9765d4dc84c73b8aa716439e67dcc",
            "2e9c1c8bd1f04de3a7862707105db45c",
            "5eb0e83808f14701b7e47d96e3f9dd5f",
            "87f00912467f4e7cbe1353d06e3d1573",
            "576ed75fed944a1aa9ac7bcadf065cd1",
            "430887b1370b4b3aa0f4a5f42c851f7d",
            "ebf06a6a4af247bd8602f3b447149230",
            "41424e97a2c44320acf9be7d960a0c29",
            "1c8dc191b00243e5b3dcabff89c1dbbb",
            "bca6b1e47a5444b397749ab87ebd7cc2",
            "e2c9881352f14a6987ac4f64f1fdc268",
            "d71f787d29c4443d848e780350e06b9b",
            "1ec53115a3724fc8801f3b8f50c86105",
            "f0f4d5a346e343fd98f48a7ee86ed08b",
            "a53d296aec2448539cdc5c03f709f2b2",
            "67cb298849b14c24b863c1e0de42d08c",
            "dae34b50e64141a981970100900b364f",
            "99f95dbb029a492fab8f61fd3f341bca",
            "9522359f85534ed0b6050853f6637254",
            "5bb9f2f4a7fc4afa95e01e08fa696dc4",
            "5aef6d92911a4e1bb5baeb142fbdc63c",
            "a4a6b0566fff45b89c4684971b472dd0",
            "f525dcfa41744c228c629d5622596d5e",
            "6a19453991c34adabd34f2a1789e8dcf",
            "0a6b6fc7cc0049608517992772be9e65",
            "0a0d979377cf42c193a0b3367422e2cf",
            "6f980cf57366430b83a0ec5db474c211",
            "221011344e4c43fa8f20e3272092a28c",
            "54c6f1115c5d4fdea599f736c271cf61",
            "6582840642fb46ec9a1241a6ecfadbc8",
            "40e25aa9c1664215adeeea828f4fcba4",
            "fe90bad060194f31b825a610cb635e95",
            "13f4c314506641d8af70b9d9c03102f8",
            "793fac6fa1144320a3e4af8ad6357fc5",
            "430a2bc2fad84f3f8b9f2801eec34640",
            "3a8a765d64234dc98d06bc440f7ed0d1",
            "4b4063f68d5d479db88a03fb00a4bde5",
            "420303d6a781408e87c0996d3ef8b090",
            "994e8f990d3e4cf9ad784faa8c5dc17a",
            "4e3a316f068748a6aa75c8c784bc7fdd",
            "2b974ac90f874c92922c115aa54c0754",
            "eaf7581372b249ee843c7f3f05bc071f",
            "e61c907f009d46629920cfb44c0ed518",
            "0e8aec0e3557432789ef32a0c5e3822a",
            "c16aee11639a4035a3e372a1d222c672",
            "e0a5abe796234d38bf480642d06b323d",
            "4bccde7c466c4709b9360b7ca985de81",
            "8852ad30b06743c29fbd58cabf38e062",
            "cdbab989197a4d3898134305f29347c0",
            "8733a8fb60bc45bb8544a067efbcb94a",
            "b2fc2ec75a4842758c5d5c75bef99a5a",
            "28461f8e02834e87ad7d84ef1e4ce0cf",
            "bb37136fbc47421dba9e4b87f70f834c",
            "a6bb169f4f124c7cb1475ef95de03dd0",
            "4bcde7b51b514f5793b7ba8ccafd2e8e",
            "6b8c113dc6a04d9b8e90f2e04cc13699",
            "37cceb3078c84800918badd076a47792",
            "9dd56a9659ce4bfc84a8e4fca3a376a5",
            "1ee05053184243d195f2ea06f0446e3b",
            "a70119dc790a4d00a11d3502ae7953bd",
            "0f4f41810e904a90b130f7cfdbb363f0",
            "89478c6c46274a81874a6f649cdd3f35",
            "ee21a34187324016a3fe2c5896912dc3",
            "b4460c229ac14ede9ae351b78d9211b9",
            "56118697625d41c6b388f234d3ce5dfe",
            "1de256a965dd492eb470c76a5fe79f21",
            "7bd83216c62f4705b24569cd5db5118a",
            "86f261a3085442d08bc4ee69188d4c2f",
            "9e0b705e3a0645df9395a22850adde52",
            "72917859fc94401298e36ba48d4e437c",
            "6f6ddf895ed94ddf8ea136b8c3bcac0a",
            "c89234521279436b94cae76488bde1d7",
            "d8df810af2f24273b28c36775cc62d11",
            "cbe40fa0a4224a2a80588bb2822e5611",
            "8ccb9264296c45b7ba1e6fdb303e9c7b",
            "04da7dff5f574dd9b233575590740720",
            "98566d2553564f458c93f3809d7546d6",
            "87a3d34a8cc242129abc6caf385b659e",
            "ab9481e88c4241b3aa8ac0ec3e50d563",
            "0da42ad4e40c45028b2e5a9feb2e2dc0",
            "2aae78cffba048d2b76960d08e80f01b",
            "a46b55c4069a4f08937bfc17085e75a1",
            "21b9522c89e54d9fa9163bdd5a414196",
            "61acd7703e0e4a83a62127e142283d7f",
            "e85aa1004f45479eb054ce5c0dcc7b65",
            "27fb4e5aaa144998ad587eac71d05530",
            "5d0fc92f3c5b4a399c2d792afdde0b63",
            "61340d96ec5e404e882f20d7574ffa02",
            "4c2417bfa25c40d3aa54604a18b25162",
            "a20f8a1e91184b60b11f37b2417fcad8",
            "7981e13b9fd44c1ab0eb8bdb0287d1ac",
            "be2defd2e3a24621aa4f1ee594c13c1e",
            "26a647143d1a4ca9a9bb0635be2234fc",
            "8bd33614e2ba49f1a854761746ee4a6a",
            "0c31bfe5dc8a45bb842fd1c193e64572",
            "90b16fc207aa437fafe4e3b148ec81e2",
            "b8cab2c3d63843de8669851a81fcde53",
            "45d3b7c53eb242519a93b8e1d13d857a",
            "5a970c7225b14072b800a046ccdf294c",
            "24b7085d3bc54f2383ac84cd9b9c4b7a",
            "54b44af384d3461a919cbb13791bef53",
            "3d023c14ed314ad3a509cf44455b493c",
            "7fbacc973385418ca7dfb5bf8e4f4b60",
            "b990605980c4499c86e2c75813cffb49",
            "7bfa261b52df4b49b53b45cf4883557f",
            "717cff7dfcce48f58b6aa6b85dce1340",
            "7f0348fa93fc4858b632fcd08f6348c5",
            "d64bb7745cc2497db54737209debb084",
            "ac3bd699c10340e380869e44b69efba3",
            "ead440b64b884fa1b84b7b29c07d5f2d",
            "1be0da5358f549d28198cd2811fa471a",
            "75c04e42a0104e3d9cfe5a104679762e",
            "f47e975668374a41a78549e2f5acf6fb",
            "9cc25ba1ab1343d29edc11ec285439b8",
            "e5c9c57e7bbc4e2c8655a2ce174a2759",
            "dec05e59422f4551b96ffaadbb59840e",
            "ac482636c3e24ab38ed463532ae27e69",
            "a96d6b662f124586a7083b2088261a32",
            "1b44a076ca4b46928f3f9696ce1283ab",
            "3eb0246f1cb248de8bf5dd0ab85583eb",
            "428e2f2d7c134fb28a4778ae263db88d",
            "7c063407ea504e70ba90e8dede2653dd",
            "b31bcdbc8b1948abafb2de043ed723a5",
            "882da71fb49a4e24a836d39a61b3aea3",
            "94257144f428491c96b3326f4a2aecdd",
            "75bab83777c44aa3b4e299678f9f69d1",
            "c688078da9d4464fbc64514b62d231c7",
            "d337e64b8f504894aa34505ffbafad13",
            "95529822ee524d898dd0e621855d4343",
            "9501454d75904762b9c97b91a62e3f96",
            "7140fa8fb42a45d5a4676c69543d0346",
            "af2a46c501214f668cc22bb59ebe011f",
            "bc4e09e9ba184f65997ab473a7014384",
            "aabed704fdac42cd9ff8cc5c380ae6a6",
            "8c42353426a44a44a274798ef98e3ca6",
            "ae67b7831b6549b3856d0e6453274f2a",
            "472db84196754b0b8be1969b8a39e1d5",
            "44da2007e5874038b456eec751eff9c4",
            "ec9a5f0f95d94054aa1032a1069da956",
            "d9405c9d15cc49559224053440a36d85",
            "9f7af11984d944f0b1d55ea5e7988584",
            "e8c47ff55a5a40ffa50dd84a356eedf2",
            "86757170b80841babdb4ebb8206abc99",
            "9467165ce5944d5e98d597f206e8e637",
            "d4a2c5ead4524fbe91b7ba3d1cd9578b",
            "74619b3043c64e49828ad6ef23dd8b6e",
            "dad5959d27e840c19e92e6f48c00e697",
            "0b6fc80abb0041a4a103a5b3629a32ad",
            "44a781f527e24c1d91220ac18bb3f7cd",
            "c3756584356f42bb987f639079ed1abc",
            "95a7fcd07fbb4ba19b89a11f141cd31e",
            "8231801b92dc4c96a6ba1a60e6c23e06",
            "d5e7d4938c79471391dfd3f4b1fb70ed",
            "7b8d427ffb3147779cbb8190221f8d9a",
            "d8dabeb69f4643acb0cce978bc68a914",
            "b3c0d234776644a0b70b9c913239a451",
            "76d3ea4cf50346c6a2862bf6da02bdf7",
            "2b1ce473b47a4481a8c7dd71a37b964a",
            "d371621b61d8476ca35b3c91fb345463",
            "6a0099d087564b21a5fb8f7df7db8abd",
            "0dd0ff1b1a3a481ba6ea9b5bd4ce0c13",
            "c4b5e6f136f0490ca15a1e43b3822680",
            "e16e103bd00549478d49b0e7795651f6",
            "aab3c7ccb83a487c87a2a3465bd6809f",
            "ee1ba043276a4a678fd8111f1b25f5c1",
            "04c16ad2adde4a989140791bf3bec165",
            "0415fb23b20c45a48c4858e752a11e38",
            "448328c4017a4c60805164788e43d67c",
            "9ee81f0c0334419881e6b13c5afb7ce7",
            "70340eb4d18d465d82c11d4d5721e01b",
            "a40650d709214bda89fb65dbea8e15c7",
            "eb0a63120ba042ae9adcb2d5cb7f065c",
            "2cf1564deec143338e44bc2c3b3ff789",
            "80a1f7a42b6e47a8860e50d4b1694b71",
            "d874e4ab92bf4bf88bf088931d06ccbd",
            "bf8073b24f274281b8785ab4dfe6e428",
            "53e04c8cd6124d64944638be53d7abe6",
            "4ed3aa8cceaa4ba18e1ad949c16114fb",
            "b79bb3274a154032a6aa83c306bb47f7",
            "7e0962c6744f43eebadbb7b194a3bf28",
            "053b0b5a7adb4c58982416b58c38f9a1",
            "0b858d29d8134b129ee9c9a5e2407622",
            "ae0614fac0b34748a19304da8e605611",
            "ddfd4ae51aa1410da36b2fc09799155f",
            "e5b6c33865d24e6ebc9087706417368d",
            "92573445968445729f17a62bd7542bce",
            "21648c0913854d44adcdc108a85e14c4",
            "2096e1253d244428ba3960ead715ff13",
            "5097b67ef64044329d1506e55aa19fdb",
            "f5fb6bd02f134714ae8d7102dbb0a422",
            "1e01d8bf51cc4ecf95209d01036a2b00",
            "472b3afc70574378803ec0b44b772957",
            "8952e499f6d74c2a95646918fd3f98df",
            "0126c75ad3444c48932b80b2f0c8474c",
            "5d7df629dd3d4c0ba80a9c16ae2250e4",
            "660ef8e01dde47c981ecbbec567b563c",
            "ebdda0320afb47d09f20f540ae5d058e",
            "8585a0cdf3f643bebe758130f36e21d2",
            "74e9c0583b664dc2a846aac69079948d",
            "ee83b6e628ce4165b44dfbb89a8f2025",
            "2d4872bb62ef49a8b90ecaeaacb96184",
            "901ed594fa1846aba00e2cba69008c94",
            "425b23f681f14e1f96724266f3e2f4bf",
            "2f8be53c953c4838bef711c988fffb30",
            "982da61e9ebb4b649614882753f8613a",
            "c8eade50a1114130914044f440838334",
            "d73d833560094b97ab3f3b6b3aefa521",
            "4102e960697f47dc941d282ffabf0bfc",
            "ded3ce4c3fb142e1b23ce7ef7e2676ed",
            "15432246a17e4c39bd3dc4739783bd1a",
            "a7a87f0e2def4370a6091210bf576d91",
            "27a4f0de15fa46cf88caaacb032259a7",
            "72451b4531694764b1a0b9d22a5e40bb",
            "376d963052b24d639ca779363a164e1d",
            "2e1fdfaaf5b04a2f829a75bb0ae17115",
            "7f3266fe86bb4506b2216ce35bea1c4a",
            "3440a38e93c44d0ea9b7fd4c1483046a",
            "755b0caa232e4007b57c4ee3821a536e",
            "98a944319ca141e1a60efbc581458a60",
            "3f7d7b5280a545a393ffc9c11383715d",
            "7cd182ff14bd4f398a4e825b1de7b50b",
            "c105bcc29bcb493a83e9634efe4ee08e",
            "38327dfeaee54e7a9f19b4aa8c13a171",
            "fb6be5da417f4d53a70bffb0067ec78c",
            "bead6a139d9940728e123a4809e9d4be",
            "4ee61c2a0a304587a13ad6812dded721",
            "bcbdbcd9ec0b4e438c93121f2908dd48",
            "281f06c9883f48c7a29db0ae91ee17a6",
            "092367b966944b7bbbcd6fb8ae5a5cbc",
            "6be1e1b2261643d4be3a73559a108ba4",
            "6f50c037d571477d9cb6c4a7918a1a13",
            "648c7a54c85143768ecc1452e6fbe97b",
            "3422c8a79ee3403891154a03f24d937a",
            "899a78aa2181419e9a4cfa24e6382672",
            "c8e9fa49c78549bfb46417d83f8fc336",
            "83cb959cbd45413d8ad2673563158cc3",
            "8585f34d8bb740229f9a3edde9393b8e",
            "c3a9798e056b4607a9ed85c40e851352",
            "922ddab07452441695e15c720f7f2fef",
            "893c96fc093a4192874bd1a681856bc1",
            "e332a6435af1408fa55939dab05697ef",
            "8cca181ddd8541fab260143012d5be8d",
            "a31a33308eb84cecbb09640d818300c8",
            "a55d5ae1a3234f29983e749f1444e6c3",
            "fa3e043e9e4c4d149c56faad2569962a",
            "4f490db047fd4fe4852422c9828efc6e",
            "75df099da1d74aeca1f758cac5ee74a2",
            "23c897655d7642e69f3cfd1bc2ededfb",
            "b2882df613694a808210416b224d8181",
            "b42f5b458fb74feb88c0139170d055cb",
            "aa0216d300b247608b71b02dad323c0e",
            "29314133304e47009d7f3a541439fd9d",
            "eaab3c824a374b95ba1679add71cc82b",
            "d31d274ded6341c5989f284ef1f8d2d6",
            "830c646fd3934ddab0dc57573cf66de2",
            "b286be4947ac4af182eceba3fbd9289e",
            "b83663c692684768a242943159bec19b",
            "bf44ff7ca7c444ada642c16f38f57550",
            "2d48d34ba05b49e2808c3ec70673e2d8",
            "000aeced0610424e99fbde665c2ae139",
            "1d66d63a837b432488cadb45c7098192",
            "e66ab170f5d44bebb9128d2d05c23989",
            "d4154ea25c854599ae1837dfd54f3d21",
            "0c7b6cb4b4c04fb4b96ad46319e927fc",
            "4103e9814a8b461a8c6756ef0324900f",
            "cd767bb76fdb4ed6b4919531d1c82ef0",
            "95867520688e45d2be7827801dc188a0",
            "6e3a5cdc465b4a88829e6d95ec820e81",
            "0356f96c6f344cf58bf19e23a7410437",
            "2e788c6ca4ed47ad89ce4c5199aef941",
            "fc97e2a5b47d49798657513539895a32",
            "52f21514a72647fcbecb986279c9476b",
            "323b8c74ad7b43ca9f962be6a38d6508",
            "a72d96fc07c14034b861c64840852e4a",
            "41a85fac8ed242ea8ba871587a1be61f",
            "372e6cf138484ac7a1b2f4f2a79ff235",
            "ad57b0fe7c2842feb90edc934e08a2b8",
            "c2c888de71e04d2593344430d5a39c3f",
            "cf0e2fbe3de8478b862f42ae83cdf376",
            "52189689f26846df97b7a460e3d705e4",
            "526e069eaa5543d2abb06aaf619f461c",
            "f6bfd9b7531a4af7bd4b9e563ce12f98",
            "01a289b6657e4ae1b885778a58c7b799",
            "54dc30ad76084863aed9c8fe47103341",
            "8f1fefd685bf42b68b8cad56773f1ccf",
            "57ce814ad2b842619b58c0aa0d0c5799",
            "6c7ca46ef4354c03aa9ed37ccd0a3bbf",
            "b5930493b12340cf96039abe6f394c66",
            "b056434c3f484c91ad7b1ff87ac3e7eb",
            "b20c73b41eaa4aa3899ffcf782dffc08",
            "81f407540f2541a385f2fa1ce8fd1ef3",
            "69b20ddeacc44f959ef3fce1130a5992",
            "c85324d3f29542d3a326233352f33591",
            "62d8f6dc2ab343ff8a4cb2f7b5870634",
            "e4466712337349799dcb6eba46b281d7",
            "ed50b19bc3174bbebe560ce72bce9888",
            "473dc3801582401aaa91599e38932599",
            "904066fdcb5045c7b38afadd7d3d1b77",
            "60f3460c712b452cb63240eec75b2d5e",
            "4cb4f9ed529741de844333f731ae9851",
            "503c07d88df1477ab8dec582bac0911a",
            "b8785d6f377e43b39520e62cbfa5273b",
            "8a038b120b7041fdabef3e7d098fcb9e",
            "03ef89ee5e3147a1b08bbbfa3ea89bcf",
            "78d8d7ab3b8a40f5a99ccb1fc9c6f509",
            "d9029286d5144f63b135475b4fde15d7",
            "2213269ca91b46fab7e861ab5b931233",
            "35a8b1d736ea4f59814736aa66053d57",
            "3c7c0671e77346a2ad37f5b2eec4fcb7",
            "08479ea43be54d09917e69965be0cb7b",
            "633e1e38081a463b8deddd6401c4c2c6",
            "157bc57a7318403bad956227d64bda47",
            "885826e62b1345599b92fbcd8f3e7cc5",
            "7f9614ae2b054839ae1abd7647232804",
            "a58ce69fcd644a419a5e5d0b11a29a72",
            "64e2c201262b4fc890f62610d476dfe7",
            "6a857463ab584a789f1fdc236dc08723",
            "ef4452d62dd149b1a1b038d29aca6c61",
            "d662afeae4e04902b5dc9a837ca934d0",
            "cac1293a934145c1a9a555a0ac7b3ceb",
            "e4a34efbfdeb46a987d9f77ae07a2be2",
            "727048d7544748d9bbc52c202c3c1e41",
            "844ded345dcf44ef87e2832dc74dff18",
            "149df074f0e349f587ad537633fdd5c6",
            "992bac60bc27486088bf53051fc05efd",
            "a35f929f275f4bca9180be0f51b6e52b",
            "796462fc9fdf4cb08ad94784ecfc149a",
            "f346e1dba5504db1b187600412c1674f",
            "0cd88d7307ea451ea0f39327cc261008",
            "0f5c68f4ba82470c853f6780dd18f92c",
            "5c8fc2f78cab461c854fffd0f28da461",
            "9da8e0fd888043b1aef029d3f37fa873",
            "46384183a2634d348146959cdaa56f41",
            "20cc5323e5184ff19e0dc619ef8e3b85",
            "e49084932a9f4b519109c2bb6db8a1e6",
            "09bcc7d1b35c464db60073e16c331df9",
            "12a0ae15961642e4963c59a7cf1d5e80",
            "b924b30879a1471eac013f453ab9a9c2"
          ]
        },
        "id": "1A3cz29uQMvu",
        "outputId": "a7735d34-5eb2-4ea8-d7a4-cebd9c931848"
      },
      "execution_count": 6,
      "outputs": [
        {
          "output_type": "stream",
          "name": "stderr",
          "text": [
            "[I 2025-04-16 00:59:50,202] A new study created in memory with name: no-name-d6a01d9b-70ea-4a2d-b8e0-e455a83f7f49\n",
            "<ipython-input-6-4ab5a877b04f>:212: FutureWarning: suggest_loguniform has been deprecated in v3.0.0. This feature will be removed in v6.0.0. See https://github.com/optuna/optuna/releases/tag/v3.0.0. Use suggest_float(..., log=True) instead.\n",
            "  learning_rate = trial.suggest_loguniform(\"learning_rate\", 1e-4, 1e-3)\n",
            "INFO:pytorch_lightning.utilities.rank_zero:GPU available: True (cuda), used: True\n",
            "INFO:pytorch_lightning.utilities.rank_zero:TPU available: False, using: 0 TPU cores\n",
            "INFO:pytorch_lightning.utilities.rank_zero:HPU available: False, using: 0 HPUs\n",
            "INFO:pytorch_lightning.utilities.rank_zero:You are using a CUDA device ('NVIDIA A100-SXM4-40GB') that has Tensor Cores. To properly utilize them, you should set `torch.set_float32_matmul_precision('medium' | 'high')` which will trade-off precision for performance. For more details, read https://pytorch.org/docs/stable/generated/torch.set_float32_matmul_precision.html#torch.set_float32_matmul_precision\n"
          ]
        },
        {
          "output_type": "stream",
          "name": "stdout",
          "text": [
            "Train sequences: 1048, Val sequences: 131, Test sequences: 131\n"
          ]
        },
        {
          "output_type": "stream",
          "name": "stderr",
          "text": [
            "INFO:pytorch_lightning.accelerators.cuda:LOCAL_RANK: 0 - CUDA_VISIBLE_DEVICES: [0]\n",
            "INFO:pytorch_lightning.callbacks.model_summary:\n",
            "  | Name         | Type               | Params | Mode \n",
            "------------------------------------------------------------\n",
            "0 | encoder_num  | Linear             | 192    | train\n",
            "1 | encoder_vit  | Linear             | 49.2 K | train\n",
            "2 | fusion_layer | Linear             | 66.0 K | train\n",
            "3 | transformer  | TransformerEncoder | 9.5 M  | train\n",
            "4 | gru          | GRU                | 110 K  | train\n",
            "5 | output_layer | Linear             | 65     | train\n",
            "6 | criterion    | MSELoss            | 0      | train\n",
            "------------------------------------------------------------\n",
            "9.7 M     Trainable params\n",
            "0         Non-trainable params\n",
            "9.7 M     Total params\n",
            "38.735    Total estimated model params size (MB)\n",
            "38        Modules in train mode\n",
            "0         Modules in eval mode\n",
            "INFO:pytorch_lightning.utilities.rank_zero:`Trainer.fit` stopped: `max_epochs=50` reached.\n",
            "[I 2025-04-16 01:00:37,213] Trial 0 finished with value: 0.10483250021934509 and parameters: {'d_model': 64, 'fusion_output_dim': 512, 'gru_hidden_size': 64, 'dropout': 0.4658756873274602, 'learning_rate': 0.0001864578618543344, 'transformer_layers': 3}. Best is trial 0 with value: 0.10483250021934509.\n",
            "INFO:pytorch_lightning.utilities.rank_zero:GPU available: True (cuda), used: True\n",
            "INFO:pytorch_lightning.utilities.rank_zero:TPU available: False, using: 0 TPU cores\n",
            "INFO:pytorch_lightning.utilities.rank_zero:HPU available: False, using: 0 HPUs\n",
            "INFO:pytorch_lightning.accelerators.cuda:LOCAL_RANK: 0 - CUDA_VISIBLE_DEVICES: [0]\n",
            "INFO:pytorch_lightning.callbacks.model_summary:\n",
            "  | Name         | Type               | Params | Mode \n",
            "------------------------------------------------------------\n",
            "0 | encoder_num  | Linear             | 768    | train\n",
            "1 | encoder_vit  | Linear             | 196 K  | train\n",
            "2 | fusion_layer | Linear             | 262 K  | train\n",
            "3 | transformer  | TransformerEncoder | 9.5 M  | train\n",
            "4 | gru          | GRU                | 110 K  | train\n",
            "5 | output_layer | Linear             | 65     | train\n",
            "6 | criterion    | MSELoss            | 0      | train\n",
            "------------------------------------------------------------\n",
            "10.0 M    Trainable params\n",
            "0         Non-trainable params\n",
            "10.0 M    Total params\n",
            "40.114    Total estimated model params size (MB)\n",
            "38        Modules in train mode\n",
            "0         Modules in eval mode\n",
            "INFO:pytorch_lightning.utilities.rank_zero:`Trainer.fit` stopped: `max_epochs=50` reached.\n",
            "[I 2025-04-16 01:01:25,896] Trial 1 finished with value: 0.0959806740283966 and parameters: {'d_model': 256, 'fusion_output_dim': 512, 'gru_hidden_size': 64, 'dropout': 0.4775608364210925, 'learning_rate': 0.0002606392804453618, 'transformer_layers': 3}. Best is trial 1 with value: 0.0959806740283966.\n",
            "INFO:pytorch_lightning.utilities.rank_zero:GPU available: True (cuda), used: True\n",
            "INFO:pytorch_lightning.utilities.rank_zero:TPU available: False, using: 0 TPU cores\n",
            "INFO:pytorch_lightning.utilities.rank_zero:HPU available: False, using: 0 HPUs\n",
            "INFO:pytorch_lightning.accelerators.cuda:LOCAL_RANK: 0 - CUDA_VISIBLE_DEVICES: [0]\n",
            "INFO:pytorch_lightning.callbacks.model_summary:\n",
            "  | Name         | Type               | Params | Mode \n",
            "------------------------------------------------------------\n",
            "0 | encoder_num  | Linear             | 768    | train\n",
            "1 | encoder_vit  | Linear             | 196 K  | train\n",
            "2 | fusion_layer | Linear             | 262 K  | train\n",
            "3 | transformer  | TransformerEncoder | 6.3 M  | train\n",
            "4 | gru          | GRU                | 246 K  | train\n",
            "5 | output_layer | Linear             | 129    | train\n",
            "6 | criterion    | MSELoss            | 0      | train\n",
            "------------------------------------------------------------\n",
            "7.0 M     Trainable params\n",
            "0         Non-trainable params\n",
            "7.0 M     Total params\n",
            "28.047    Total estimated model params size (MB)\n",
            "28        Modules in train mode\n",
            "0         Modules in eval mode\n",
            "INFO:pytorch_lightning.utilities.rank_zero:`Trainer.fit` stopped: `max_epochs=50` reached.\n",
            "[I 2025-04-16 01:02:04,247] Trial 2 finished with value: 0.0849713534116745 and parameters: {'d_model': 256, 'fusion_output_dim': 512, 'gru_hidden_size': 128, 'dropout': 0.3363200955524279, 'learning_rate': 0.0003641286681629863, 'transformer_layers': 2}. Best is trial 2 with value: 0.0849713534116745.\n",
            "INFO:pytorch_lightning.utilities.rank_zero:GPU available: True (cuda), used: True\n",
            "INFO:pytorch_lightning.utilities.rank_zero:TPU available: False, using: 0 TPU cores\n",
            "INFO:pytorch_lightning.utilities.rank_zero:HPU available: False, using: 0 HPUs\n",
            "INFO:pytorch_lightning.accelerators.cuda:LOCAL_RANK: 0 - CUDA_VISIBLE_DEVICES: [0]\n",
            "INFO:pytorch_lightning.callbacks.model_summary:\n",
            "  | Name         | Type               | Params | Mode \n",
            "------------------------------------------------------------\n",
            "0 | encoder_num  | Linear             | 192    | train\n",
            "1 | encoder_vit  | Linear             | 49.2 K | train\n",
            "2 | fusion_layer | Linear             | 16.5 K | train\n",
            "3 | transformer  | TransformerEncoder | 1.2 M  | train\n",
            "4 | gru          | GRU                | 99.1 K | train\n",
            "5 | output_layer | Linear             | 129    | train\n",
            "6 | criterion    | MSELoss            | 0      | train\n",
            "------------------------------------------------------------\n",
            "1.4 M     Trainable params\n",
            "0         Non-trainable params\n",
            "1.4 M     Total params\n",
            "5.405     Total estimated model params size (MB)\n",
            "28        Modules in train mode\n",
            "0         Modules in eval mode\n",
            "INFO:pytorch_lightning.utilities.rank_zero:`Trainer.fit` stopped: `max_epochs=50` reached.\n",
            "[I 2025-04-16 01:02:42,167] Trial 3 finished with value: 0.0884338989853859 and parameters: {'d_model': 64, 'fusion_output_dim': 128, 'gru_hidden_size': 128, 'dropout': 0.3732971128660133, 'learning_rate': 0.0006305023904876485, 'transformer_layers': 2}. Best is trial 2 with value: 0.0849713534116745.\n",
            "INFO:pytorch_lightning.utilities.rank_zero:GPU available: True (cuda), used: True\n",
            "INFO:pytorch_lightning.utilities.rank_zero:TPU available: False, using: 0 TPU cores\n",
            "INFO:pytorch_lightning.utilities.rank_zero:HPU available: False, using: 0 HPUs\n",
            "INFO:pytorch_lightning.accelerators.cuda:LOCAL_RANK: 0 - CUDA_VISIBLE_DEVICES: [0]\n",
            "INFO:pytorch_lightning.callbacks.model_summary:\n",
            "  | Name         | Type               | Params | Mode \n",
            "------------------------------------------------------------\n",
            "0 | encoder_num  | Linear             | 768    | train\n",
            "1 | encoder_vit  | Linear             | 196 K  | train\n",
            "2 | fusion_layer | Linear             | 65.7 K | train\n",
            "3 | transformer  | TransformerEncoder | 1.8 M  | train\n",
            "4 | gru          | GRU                | 99.1 K | train\n",
            "5 | output_layer | Linear             | 129    | train\n",
            "6 | criterion    | MSELoss            | 0      | train\n",
            "------------------------------------------------------------\n",
            "2.1 M     Trainable params\n",
            "0         Non-trainable params\n",
            "2.1 M     Total params\n",
            "8.566     Total estimated model params size (MB)\n",
            "38        Modules in train mode\n",
            "0         Modules in eval mode\n",
            "INFO:pytorch_lightning.utilities.rank_zero:`Trainer.fit` stopped: `max_epochs=50` reached.\n",
            "[I 2025-04-16 01:03:27,172] Trial 4 finished with value: 0.07930296659469604 and parameters: {'d_model': 256, 'fusion_output_dim': 128, 'gru_hidden_size': 128, 'dropout': 0.19889794063327693, 'learning_rate': 0.00011461435829237735, 'transformer_layers': 3}. Best is trial 4 with value: 0.07930296659469604.\n",
            "INFO:pytorch_lightning.utilities.rank_zero:GPU available: True (cuda), used: True\n",
            "INFO:pytorch_lightning.utilities.rank_zero:TPU available: False, using: 0 TPU cores\n",
            "INFO:pytorch_lightning.utilities.rank_zero:HPU available: False, using: 0 HPUs\n",
            "INFO:pytorch_lightning.accelerators.cuda:LOCAL_RANK: 0 - CUDA_VISIBLE_DEVICES: [0]\n",
            "INFO:pytorch_lightning.callbacks.model_summary:\n",
            "  | Name         | Type               | Params | Mode \n",
            "------------------------------------------------------------\n",
            "0 | encoder_num  | Linear             | 768    | train\n",
            "1 | encoder_vit  | Linear             | 196 K  | train\n",
            "2 | fusion_layer | Linear             | 131 K  | train\n",
            "3 | transformer  | TransformerEncoder | 2.6 M  | train\n",
            "4 | gru          | GRU                | 61.8 K | train\n",
            "5 | output_layer | Linear             | 65     | train\n",
            "6 | criterion    | MSELoss            | 0      | train\n",
            "------------------------------------------------------------\n",
            "3.0 M     Trainable params\n",
            "0         Non-trainable params\n",
            "3.0 M     Total params\n",
            "12.084    Total estimated model params size (MB)\n",
            "28        Modules in train mode\n",
            "0         Modules in eval mode\n",
            "INFO:pytorch_lightning.utilities.rank_zero:`Trainer.fit` stopped: `max_epochs=50` reached.\n",
            "[I 2025-04-16 01:04:06,536] Trial 5 finished with value: 0.08548320084810257 and parameters: {'d_model': 256, 'fusion_output_dim': 256, 'gru_hidden_size': 64, 'dropout': 0.3088437648444612, 'learning_rate': 0.0009392398973716375, 'transformer_layers': 2}. Best is trial 4 with value: 0.07930296659469604.\n",
            "INFO:pytorch_lightning.utilities.rank_zero:GPU available: True (cuda), used: True\n",
            "INFO:pytorch_lightning.utilities.rank_zero:TPU available: False, using: 0 TPU cores\n",
            "INFO:pytorch_lightning.utilities.rank_zero:HPU available: False, using: 0 HPUs\n",
            "INFO:pytorch_lightning.accelerators.cuda:LOCAL_RANK: 0 - CUDA_VISIBLE_DEVICES: [0]\n",
            "INFO:pytorch_lightning.callbacks.model_summary:\n",
            "  | Name         | Type               | Params | Mode \n",
            "------------------------------------------------------------\n",
            "0 | encoder_num  | Linear             | 768    | train\n",
            "1 | encoder_vit  | Linear             | 196 K  | train\n",
            "2 | fusion_layer | Linear             | 131 K  | train\n",
            "3 | transformer  | TransformerEncoder | 2.6 M  | train\n",
            "4 | gru          | GRU                | 148 K  | train\n",
            "5 | output_layer | Linear             | 129    | train\n",
            "6 | criterion    | MSELoss            | 0      | train\n",
            "------------------------------------------------------------\n",
            "3.1 M     Trainable params\n",
            "0         Non-trainable params\n",
            "3.1 M     Total params\n",
            "12.430    Total estimated model params size (MB)\n",
            "28        Modules in train mode\n",
            "0         Modules in eval mode\n",
            "INFO:pytorch_lightning.utilities.rank_zero:`Trainer.fit` stopped: `max_epochs=50` reached.\n",
            "[I 2025-04-16 01:04:46,470] Trial 6 finished with value: 0.08871620893478394 and parameters: {'d_model': 256, 'fusion_output_dim': 256, 'gru_hidden_size': 128, 'dropout': 0.4061752730488807, 'learning_rate': 0.00011067696961576708, 'transformer_layers': 2}. Best is trial 4 with value: 0.07930296659469604.\n",
            "INFO:pytorch_lightning.utilities.rank_zero:GPU available: True (cuda), used: True\n",
            "INFO:pytorch_lightning.utilities.rank_zero:TPU available: False, using: 0 TPU cores\n",
            "INFO:pytorch_lightning.utilities.rank_zero:HPU available: False, using: 0 HPUs\n",
            "INFO:pytorch_lightning.accelerators.cuda:LOCAL_RANK: 0 - CUDA_VISIBLE_DEVICES: [0]\n",
            "INFO:pytorch_lightning.callbacks.model_summary:\n",
            "  | Name         | Type               | Params | Mode \n",
            "------------------------------------------------------------\n",
            "0 | encoder_num  | Linear             | 768    | train\n",
            "1 | encoder_vit  | Linear             | 196 K  | train\n",
            "2 | fusion_layer | Linear             | 262 K  | train\n",
            "3 | transformer  | TransformerEncoder | 9.5 M  | train\n",
            "4 | gru          | GRU                | 246 K  | train\n",
            "5 | output_layer | Linear             | 129    | train\n",
            "6 | criterion    | MSELoss            | 0      | train\n",
            "------------------------------------------------------------\n",
            "10.2 M    Trainable params\n",
            "0         Non-trainable params\n",
            "10.2 M    Total params\n",
            "40.656    Total estimated model params size (MB)\n",
            "38        Modules in train mode\n",
            "0         Modules in eval mode\n",
            "INFO:pytorch_lightning.utilities.rank_zero:`Trainer.fit` stopped: `max_epochs=50` reached.\n",
            "[I 2025-04-16 01:05:35,484] Trial 7 finished with value: 0.08466031402349472 and parameters: {'d_model': 256, 'fusion_output_dim': 512, 'gru_hidden_size': 128, 'dropout': 0.4405458646212339, 'learning_rate': 0.000285000309043856, 'transformer_layers': 3}. Best is trial 4 with value: 0.07930296659469604.\n",
            "INFO:pytorch_lightning.utilities.rank_zero:GPU available: True (cuda), used: True\n",
            "INFO:pytorch_lightning.utilities.rank_zero:TPU available: False, using: 0 TPU cores\n",
            "INFO:pytorch_lightning.utilities.rank_zero:HPU available: False, using: 0 HPUs\n",
            "INFO:pytorch_lightning.accelerators.cuda:LOCAL_RANK: 0 - CUDA_VISIBLE_DEVICES: [0]\n",
            "INFO:pytorch_lightning.callbacks.model_summary:\n",
            "  | Name         | Type               | Params | Mode \n",
            "------------------------------------------------------------\n",
            "0 | encoder_num  | Linear             | 192    | train\n",
            "1 | encoder_vit  | Linear             | 49.2 K | train\n",
            "2 | fusion_layer | Linear             | 33.0 K | train\n",
            "3 | transformer  | TransformerEncoder | 3.9 M  | train\n",
            "4 | gru          | GRU                | 148 K  | train\n",
            "5 | output_layer | Linear             | 129    | train\n",
            "6 | criterion    | MSELoss            | 0      | train\n",
            "------------------------------------------------------------\n",
            "4.2 M     Trainable params\n",
            "0         Non-trainable params\n",
            "4.2 M     Total params\n",
            "16.704    Total estimated model params size (MB)\n",
            "38        Modules in train mode\n",
            "0         Modules in eval mode\n",
            "INFO:pytorch_lightning.utilities.rank_zero:`Trainer.fit` stopped: `max_epochs=50` reached.\n",
            "[I 2025-04-16 01:06:22,532] Trial 8 finished with value: 0.08553244918584824 and parameters: {'d_model': 64, 'fusion_output_dim': 256, 'gru_hidden_size': 128, 'dropout': 0.4266529490843095, 'learning_rate': 0.00022758913392411403, 'transformer_layers': 3}. Best is trial 4 with value: 0.07930296659469604.\n",
            "INFO:pytorch_lightning.utilities.rank_zero:GPU available: True (cuda), used: True\n",
            "INFO:pytorch_lightning.utilities.rank_zero:TPU available: False, using: 0 TPU cores\n",
            "INFO:pytorch_lightning.utilities.rank_zero:HPU available: False, using: 0 HPUs\n",
            "INFO:pytorch_lightning.accelerators.cuda:LOCAL_RANK: 0 - CUDA_VISIBLE_DEVICES: [0]\n",
            "INFO:pytorch_lightning.callbacks.model_summary:\n",
            "  | Name         | Type               | Params | Mode \n",
            "------------------------------------------------------------\n",
            "0 | encoder_num  | Linear             | 384    | train\n",
            "1 | encoder_vit  | Linear             | 98.4 K | train\n",
            "2 | fusion_layer | Linear             | 131 K  | train\n",
            "3 | transformer  | TransformerEncoder | 3.2 M  | train\n",
            "4 | gru          | GRU                | 246 K  | train\n",
            "5 | output_layer | Linear             | 129    | train\n",
            "6 | criterion    | MSELoss            | 0      | train\n",
            "------------------------------------------------------------\n",
            "3.6 M     Trainable params\n",
            "0         Non-trainable params\n",
            "3.6 M     Total params\n",
            "14.518    Total estimated model params size (MB)\n",
            "18        Modules in train mode\n",
            "0         Modules in eval mode\n",
            "INFO:pytorch_lightning.utilities.rank_zero:`Trainer.fit` stopped: `max_epochs=50` reached.\n",
            "[I 2025-04-16 01:06:55,877] Trial 9 finished with value: 0.07234517484903336 and parameters: {'d_model': 128, 'fusion_output_dim': 512, 'gru_hidden_size': 128, 'dropout': 0.1463024565299195, 'learning_rate': 0.0008513025639365176, 'transformer_layers': 1}. Best is trial 9 with value: 0.07234517484903336.\n",
            "INFO:pytorch_lightning.utilities.rank_zero:GPU available: True (cuda), used: True\n",
            "INFO:pytorch_lightning.utilities.rank_zero:TPU available: False, using: 0 TPU cores\n",
            "INFO:pytorch_lightning.utilities.rank_zero:HPU available: False, using: 0 HPUs\n",
            "INFO:pytorch_lightning.accelerators.cuda:LOCAL_RANK: 0 - CUDA_VISIBLE_DEVICES: [0]\n",
            "INFO:pytorch_lightning.callbacks.model_summary:\n",
            "  | Name         | Type               | Params | Mode \n",
            "------------------------------------------------------------\n",
            "0 | encoder_num  | Linear             | 384    | train\n",
            "1 | encoder_vit  | Linear             | 98.4 K | train\n",
            "2 | fusion_layer | Linear             | 131 K  | train\n",
            "3 | transformer  | TransformerEncoder | 3.2 M  | train\n",
            "4 | gru          | GRU                | 110 K  | train\n",
            "5 | output_layer | Linear             | 65     | train\n",
            "6 | criterion    | MSELoss            | 0      | train\n",
            "------------------------------------------------------------\n",
            "3.5 M     Trainable params\n",
            "0         Non-trainable params\n",
            "3.5 M     Total params\n",
            "13.975    Total estimated model params size (MB)\n",
            "18        Modules in train mode\n",
            "0         Modules in eval mode\n",
            "INFO:pytorch_lightning.utilities.rank_zero:`Trainer.fit` stopped: `max_epochs=50` reached.\n",
            "[I 2025-04-16 01:07:29,955] Trial 10 finished with value: 0.083207868039608 and parameters: {'d_model': 128, 'fusion_output_dim': 512, 'gru_hidden_size': 64, 'dropout': 0.1238026130203883, 'learning_rate': 0.0005219717806902077, 'transformer_layers': 1}. Best is trial 9 with value: 0.07234517484903336.\n",
            "INFO:pytorch_lightning.utilities.rank_zero:GPU available: True (cuda), used: True\n",
            "INFO:pytorch_lightning.utilities.rank_zero:TPU available: False, using: 0 TPU cores\n",
            "INFO:pytorch_lightning.utilities.rank_zero:HPU available: False, using: 0 HPUs\n",
            "INFO:pytorch_lightning.accelerators.cuda:LOCAL_RANK: 0 - CUDA_VISIBLE_DEVICES: [0]\n",
            "INFO:pytorch_lightning.callbacks.model_summary:\n",
            "  | Name         | Type               | Params | Mode \n",
            "------------------------------------------------------------\n",
            "0 | encoder_num  | Linear             | 384    | train\n",
            "1 | encoder_vit  | Linear             | 98.4 K | train\n",
            "2 | fusion_layer | Linear             | 32.9 K | train\n",
            "3 | transformer  | TransformerEncoder | 593 K  | train\n",
            "4 | gru          | GRU                | 99.1 K | train\n",
            "5 | output_layer | Linear             | 129    | train\n",
            "6 | criterion    | MSELoss            | 0      | train\n",
            "------------------------------------------------------------\n",
            "823 K     Trainable params\n",
            "0         Non-trainable params\n",
            "823 K     Total params\n",
            "3.296     Total estimated model params size (MB)\n",
            "18        Modules in train mode\n",
            "0         Modules in eval mode\n",
            "INFO:pytorch_lightning.utilities.rank_zero:`Trainer.fit` stopped: `max_epochs=50` reached.\n",
            "[I 2025-04-16 01:08:03,529] Trial 11 finished with value: 0.08411911875009537 and parameters: {'d_model': 128, 'fusion_output_dim': 128, 'gru_hidden_size': 128, 'dropout': 0.1724214768009142, 'learning_rate': 0.00010666854594416497, 'transformer_layers': 1}. Best is trial 9 with value: 0.07234517484903336.\n",
            "INFO:pytorch_lightning.utilities.rank_zero:GPU available: True (cuda), used: True\n",
            "INFO:pytorch_lightning.utilities.rank_zero:TPU available: False, using: 0 TPU cores\n",
            "INFO:pytorch_lightning.utilities.rank_zero:HPU available: False, using: 0 HPUs\n",
            "INFO:pytorch_lightning.accelerators.cuda:LOCAL_RANK: 0 - CUDA_VISIBLE_DEVICES: [0]\n",
            "INFO:pytorch_lightning.callbacks.model_summary:\n",
            "  | Name         | Type               | Params | Mode \n",
            "------------------------------------------------------------\n",
            "0 | encoder_num  | Linear             | 384    | train\n",
            "1 | encoder_vit  | Linear             | 98.4 K | train\n",
            "2 | fusion_layer | Linear             | 32.9 K | train\n",
            "3 | transformer  | TransformerEncoder | 593 K  | train\n",
            "4 | gru          | GRU                | 99.1 K | train\n",
            "5 | output_layer | Linear             | 129    | train\n",
            "6 | criterion    | MSELoss            | 0      | train\n",
            "------------------------------------------------------------\n",
            "823 K     Trainable params\n",
            "0         Non-trainable params\n",
            "823 K     Total params\n",
            "3.296     Total estimated model params size (MB)\n",
            "18        Modules in train mode\n",
            "0         Modules in eval mode\n",
            "INFO:pytorch_lightning.utilities.rank_zero:`Trainer.fit` stopped: `max_epochs=50` reached.\n",
            "[I 2025-04-16 01:08:37,111] Trial 12 finished with value: 0.0804358497262001 and parameters: {'d_model': 128, 'fusion_output_dim': 128, 'gru_hidden_size': 128, 'dropout': 0.23565246658380146, 'learning_rate': 0.0009696126707027879, 'transformer_layers': 1}. Best is trial 9 with value: 0.07234517484903336.\n",
            "INFO:pytorch_lightning.utilities.rank_zero:GPU available: True (cuda), used: True\n",
            "INFO:pytorch_lightning.utilities.rank_zero:TPU available: False, using: 0 TPU cores\n",
            "INFO:pytorch_lightning.utilities.rank_zero:HPU available: False, using: 0 HPUs\n",
            "INFO:pytorch_lightning.accelerators.cuda:LOCAL_RANK: 0 - CUDA_VISIBLE_DEVICES: [0]\n",
            "INFO:pytorch_lightning.callbacks.model_summary:\n",
            "  | Name         | Type               | Params | Mode \n",
            "------------------------------------------------------------\n",
            "0 | encoder_num  | Linear             | 384    | train\n",
            "1 | encoder_vit  | Linear             | 98.4 K | train\n",
            "2 | fusion_layer | Linear             | 32.9 K | train\n",
            "3 | transformer  | TransformerEncoder | 593 K  | train\n",
            "4 | gru          | GRU                | 99.1 K | train\n",
            "5 | output_layer | Linear             | 129    | train\n",
            "6 | criterion    | MSELoss            | 0      | train\n",
            "------------------------------------------------------------\n",
            "823 K     Trainable params\n",
            "0         Non-trainable params\n",
            "823 K     Total params\n",
            "3.296     Total estimated model params size (MB)\n",
            "18        Modules in train mode\n",
            "0         Modules in eval mode\n",
            "INFO:pytorch_lightning.utilities.rank_zero:`Trainer.fit` stopped: `max_epochs=50` reached.\n",
            "[I 2025-04-16 01:09:10,896] Trial 13 finished with value: 0.0927947610616684 and parameters: {'d_model': 128, 'fusion_output_dim': 128, 'gru_hidden_size': 128, 'dropout': 0.226384199588639, 'learning_rate': 0.0001469261292310576, 'transformer_layers': 1}. Best is trial 9 with value: 0.07234517484903336.\n",
            "INFO:pytorch_lightning.utilities.rank_zero:GPU available: True (cuda), used: True\n",
            "INFO:pytorch_lightning.utilities.rank_zero:TPU available: False, using: 0 TPU cores\n",
            "INFO:pytorch_lightning.utilities.rank_zero:HPU available: False, using: 0 HPUs\n",
            "INFO:pytorch_lightning.accelerators.cuda:LOCAL_RANK: 0 - CUDA_VISIBLE_DEVICES: [0]\n",
            "INFO:pytorch_lightning.callbacks.model_summary:\n",
            "  | Name         | Type               | Params | Mode \n",
            "------------------------------------------------------------\n",
            "0 | encoder_num  | Linear             | 384    | train\n",
            "1 | encoder_vit  | Linear             | 98.4 K | train\n",
            "2 | fusion_layer | Linear             | 32.9 K | train\n",
            "3 | transformer  | TransformerEncoder | 1.2 M  | train\n",
            "4 | gru          | GRU                | 99.1 K | train\n",
            "5 | output_layer | Linear             | 129    | train\n",
            "6 | criterion    | MSELoss            | 0      | train\n",
            "------------------------------------------------------------\n",
            "1.4 M     Trainable params\n",
            "0         Non-trainable params\n",
            "1.4 M     Total params\n",
            "5.668     Total estimated model params size (MB)\n",
            "28        Modules in train mode\n",
            "0         Modules in eval mode\n",
            "INFO:pytorch_lightning.utilities.rank_zero:`Trainer.fit` stopped: `max_epochs=50` reached.\n",
            "[I 2025-04-16 01:09:51,346] Trial 14 finished with value: 0.08374354988336563 and parameters: {'d_model': 128, 'fusion_output_dim': 128, 'gru_hidden_size': 128, 'dropout': 0.10256210881704592, 'learning_rate': 0.0004186583236398382, 'transformer_layers': 2}. Best is trial 9 with value: 0.07234517484903336.\n",
            "INFO:pytorch_lightning.utilities.rank_zero:GPU available: True (cuda), used: True\n",
            "INFO:pytorch_lightning.utilities.rank_zero:TPU available: False, using: 0 TPU cores\n",
            "INFO:pytorch_lightning.utilities.rank_zero:HPU available: False, using: 0 HPUs\n",
            "INFO:pytorch_lightning.accelerators.cuda:LOCAL_RANK: 0 - CUDA_VISIBLE_DEVICES: [0]\n",
            "INFO:pytorch_lightning.callbacks.model_summary:\n",
            "  | Name         | Type               | Params | Mode \n",
            "------------------------------------------------------------\n",
            "0 | encoder_num  | Linear             | 768    | train\n",
            "1 | encoder_vit  | Linear             | 196 K  | train\n",
            "2 | fusion_layer | Linear             | 262 K  | train\n",
            "3 | transformer  | TransformerEncoder | 3.2 M  | train\n",
            "4 | gru          | GRU                | 246 K  | train\n",
            "5 | output_layer | Linear             | 129    | train\n",
            "6 | criterion    | MSELoss            | 0      | train\n",
            "------------------------------------------------------------\n",
            "3.9 M     Trainable params\n",
            "0         Non-trainable params\n",
            "3.9 M     Total params\n",
            "15.437    Total estimated model params size (MB)\n",
            "18        Modules in train mode\n",
            "0         Modules in eval mode\n",
            "INFO:pytorch_lightning.utilities.rank_zero:`Trainer.fit` stopped: `max_epochs=50` reached.\n",
            "[I 2025-04-16 01:10:26,319] Trial 15 finished with value: 0.07681361585855484 and parameters: {'d_model': 256, 'fusion_output_dim': 512, 'gru_hidden_size': 128, 'dropout': 0.232373076501884, 'learning_rate': 0.000659709437729601, 'transformer_layers': 1}. Best is trial 9 with value: 0.07234517484903336.\n",
            "INFO:pytorch_lightning.utilities.rank_zero:GPU available: True (cuda), used: True\n",
            "INFO:pytorch_lightning.utilities.rank_zero:TPU available: False, using: 0 TPU cores\n",
            "INFO:pytorch_lightning.utilities.rank_zero:HPU available: False, using: 0 HPUs\n",
            "INFO:pytorch_lightning.accelerators.cuda:LOCAL_RANK: 0 - CUDA_VISIBLE_DEVICES: [0]\n",
            "INFO:pytorch_lightning.callbacks.model_summary:\n",
            "  | Name         | Type               | Params | Mode \n",
            "------------------------------------------------------------\n",
            "0 | encoder_num  | Linear             | 384    | train\n",
            "1 | encoder_vit  | Linear             | 98.4 K | train\n",
            "2 | fusion_layer | Linear             | 131 K  | train\n",
            "3 | transformer  | TransformerEncoder | 3.2 M  | train\n",
            "4 | gru          | GRU                | 246 K  | train\n",
            "5 | output_layer | Linear             | 129    | train\n",
            "6 | criterion    | MSELoss            | 0      | train\n",
            "------------------------------------------------------------\n",
            "3.6 M     Trainable params\n",
            "0         Non-trainable params\n",
            "3.6 M     Total params\n",
            "14.518    Total estimated model params size (MB)\n",
            "18        Modules in train mode\n",
            "0         Modules in eval mode\n",
            "INFO:pytorch_lightning.utilities.rank_zero:`Trainer.fit` stopped: `max_epochs=50` reached.\n",
            "[I 2025-04-16 01:11:01,669] Trial 16 finished with value: 0.08031940460205078 and parameters: {'d_model': 128, 'fusion_output_dim': 512, 'gru_hidden_size': 128, 'dropout': 0.2656118199332282, 'learning_rate': 0.0006939223546259817, 'transformer_layers': 1}. Best is trial 9 with value: 0.07234517484903336.\n",
            "INFO:pytorch_lightning.utilities.rank_zero:GPU available: True (cuda), used: True\n",
            "INFO:pytorch_lightning.utilities.rank_zero:TPU available: False, using: 0 TPU cores\n",
            "INFO:pytorch_lightning.utilities.rank_zero:HPU available: False, using: 0 HPUs\n",
            "INFO:pytorch_lightning.accelerators.cuda:LOCAL_RANK: 0 - CUDA_VISIBLE_DEVICES: [0]\n",
            "INFO:pytorch_lightning.callbacks.model_summary:\n",
            "  | Name         | Type               | Params | Mode \n",
            "------------------------------------------------------------\n",
            "0 | encoder_num  | Linear             | 768    | train\n",
            "1 | encoder_vit  | Linear             | 196 K  | train\n",
            "2 | fusion_layer | Linear             | 262 K  | train\n",
            "3 | transformer  | TransformerEncoder | 3.2 M  | train\n",
            "4 | gru          | GRU                | 246 K  | train\n",
            "5 | output_layer | Linear             | 129    | train\n",
            "6 | criterion    | MSELoss            | 0      | train\n",
            "------------------------------------------------------------\n",
            "3.9 M     Trainable params\n",
            "0         Non-trainable params\n",
            "3.9 M     Total params\n",
            "15.437    Total estimated model params size (MB)\n",
            "18        Modules in train mode\n",
            "0         Modules in eval mode\n",
            "INFO:pytorch_lightning.utilities.rank_zero:`Trainer.fit` stopped: `max_epochs=50` reached.\n",
            "[I 2025-04-16 01:11:37,495] Trial 17 finished with value: 0.07738769799470901 and parameters: {'d_model': 256, 'fusion_output_dim': 512, 'gru_hidden_size': 128, 'dropout': 0.15118955778606807, 'learning_rate': 0.0007053476560409218, 'transformer_layers': 1}. Best is trial 9 with value: 0.07234517484903336.\n",
            "INFO:pytorch_lightning.utilities.rank_zero:GPU available: True (cuda), used: True\n",
            "INFO:pytorch_lightning.utilities.rank_zero:TPU available: False, using: 0 TPU cores\n",
            "INFO:pytorch_lightning.utilities.rank_zero:HPU available: False, using: 0 HPUs\n",
            "INFO:pytorch_lightning.accelerators.cuda:LOCAL_RANK: 0 - CUDA_VISIBLE_DEVICES: [0]\n",
            "INFO:pytorch_lightning.callbacks.model_summary:\n",
            "  | Name         | Type               | Params | Mode \n",
            "------------------------------------------------------------\n",
            "0 | encoder_num  | Linear             | 384    | train\n",
            "1 | encoder_vit  | Linear             | 98.4 K | train\n",
            "2 | fusion_layer | Linear             | 131 K  | train\n",
            "3 | transformer  | TransformerEncoder | 3.2 M  | train\n",
            "4 | gru          | GRU                | 110 K  | train\n",
            "5 | output_layer | Linear             | 65     | train\n",
            "6 | criterion    | MSELoss            | 0      | train\n",
            "------------------------------------------------------------\n",
            "3.5 M     Trainable params\n",
            "0         Non-trainable params\n",
            "3.5 M     Total params\n",
            "13.975    Total estimated model params size (MB)\n",
            "18        Modules in train mode\n",
            "0         Modules in eval mode\n",
            "INFO:pytorch_lightning.utilities.rank_zero:`Trainer.fit` stopped: `max_epochs=50` reached.\n",
            "[I 2025-04-16 01:12:13,158] Trial 18 finished with value: 0.09157367795705795 and parameters: {'d_model': 128, 'fusion_output_dim': 512, 'gru_hidden_size': 64, 'dropout': 0.2633275735725229, 'learning_rate': 0.00046516535073504953, 'transformer_layers': 1}. Best is trial 9 with value: 0.07234517484903336.\n",
            "INFO:pytorch_lightning.utilities.rank_zero:GPU available: True (cuda), used: True\n",
            "INFO:pytorch_lightning.utilities.rank_zero:TPU available: False, using: 0 TPU cores\n",
            "INFO:pytorch_lightning.utilities.rank_zero:HPU available: False, using: 0 HPUs\n",
            "INFO:pytorch_lightning.accelerators.cuda:LOCAL_RANK: 0 - CUDA_VISIBLE_DEVICES: [0]\n",
            "INFO:pytorch_lightning.callbacks.model_summary:\n",
            "  | Name         | Type               | Params | Mode \n",
            "------------------------------------------------------------\n",
            "0 | encoder_num  | Linear             | 192    | train\n",
            "1 | encoder_vit  | Linear             | 49.2 K | train\n",
            "2 | fusion_layer | Linear             | 66.0 K | train\n",
            "3 | transformer  | TransformerEncoder | 3.2 M  | train\n",
            "4 | gru          | GRU                | 246 K  | train\n",
            "5 | output_layer | Linear             | 129    | train\n",
            "6 | criterion    | MSELoss            | 0      | train\n",
            "------------------------------------------------------------\n",
            "3.5 M     Trainable params\n",
            "0         Non-trainable params\n",
            "3.5 M     Total params\n",
            "14.058    Total estimated model params size (MB)\n",
            "18        Modules in train mode\n",
            "0         Modules in eval mode\n",
            "INFO:pytorch_lightning.utilities.rank_zero:`Trainer.fit` stopped: `max_epochs=50` reached.\n",
            "[I 2025-04-16 01:12:49,080] Trial 19 finished with value: 0.0820862278342247 and parameters: {'d_model': 64, 'fusion_output_dim': 512, 'gru_hidden_size': 128, 'dropout': 0.17412820799201859, 'learning_rate': 0.0008126873517782439, 'transformer_layers': 1}. Best is trial 9 with value: 0.07234517484903336.\n"
          ]
        },
        {
          "output_type": "stream",
          "name": "stdout",
          "text": [
            "Best Hyperparameters: {'d_model': 128, 'fusion_output_dim': 512, 'gru_hidden_size': 128, 'dropout': 0.1463024565299195, 'learning_rate': 0.0008513025639365176, 'transformer_layers': 1}\n"
          ]
        },
        {
          "output_type": "stream",
          "name": "stderr",
          "text": [
            "INFO:pytorch_lightning.utilities.rank_zero:GPU available: True (cuda), used: True\n",
            "INFO:pytorch_lightning.utilities.rank_zero:TPU available: False, using: 0 TPU cores\n",
            "INFO:pytorch_lightning.utilities.rank_zero:HPU available: False, using: 0 HPUs\n",
            "INFO:pytorch_lightning.accelerators.cuda:LOCAL_RANK: 0 - CUDA_VISIBLE_DEVICES: [0]\n",
            "INFO:pytorch_lightning.callbacks.model_summary:\n",
            "  | Name         | Type               | Params | Mode \n",
            "------------------------------------------------------------\n",
            "0 | encoder_num  | Linear             | 384    | train\n",
            "1 | encoder_vit  | Linear             | 98.4 K | train\n",
            "2 | fusion_layer | Linear             | 131 K  | train\n",
            "3 | transformer  | TransformerEncoder | 3.2 M  | train\n",
            "4 | gru          | GRU                | 246 K  | train\n",
            "5 | output_layer | Linear             | 129    | train\n",
            "6 | criterion    | MSELoss            | 0      | train\n",
            "------------------------------------------------------------\n",
            "3.6 M     Trainable params\n",
            "0         Non-trainable params\n",
            "3.6 M     Total params\n",
            "14.518    Total estimated model params size (MB)\n",
            "18        Modules in train mode\n",
            "0         Modules in eval mode\n"
          ]
        },
        {
          "output_type": "display_data",
          "data": {
            "text/plain": [
              "Sanity Checking: |          | 0/? [00:00<?, ?it/s]"
            ],
            "application/vnd.jupyter.widget-view+json": {
              "version_major": 2,
              "version_minor": 0,
              "model_id": "4a1a5d5062a34a2c974fea8f5c134219"
            }
          },
          "metadata": {}
        },
        {
          "output_type": "display_data",
          "data": {
            "text/plain": [
              "Training: |          | 0/? [00:00<?, ?it/s]"
            ],
            "application/vnd.jupyter.widget-view+json": {
              "version_major": 2,
              "version_minor": 0,
              "model_id": "b1be9431d76b404881cb5cec6c29036c"
            }
          },
          "metadata": {}
        },
        {
          "output_type": "display_data",
          "data": {
            "text/plain": [
              "Validation: |          | 0/? [00:00<?, ?it/s]"
            ],
            "application/vnd.jupyter.widget-view+json": {
              "version_major": 2,
              "version_minor": 0,
              "model_id": "858fd2be8a0a493d941fbcbca1ef2d72"
            }
          },
          "metadata": {}
        },
        {
          "output_type": "display_data",
          "data": {
            "text/plain": [
              "Validation: |          | 0/? [00:00<?, ?it/s]"
            ],
            "application/vnd.jupyter.widget-view+json": {
              "version_major": 2,
              "version_minor": 0,
              "model_id": "afc2ba9fd9f24cf48e6a7d9da6fd0a46"
            }
          },
          "metadata": {}
        },
        {
          "output_type": "display_data",
          "data": {
            "text/plain": [
              "Validation: |          | 0/? [00:00<?, ?it/s]"
            ],
            "application/vnd.jupyter.widget-view+json": {
              "version_major": 2,
              "version_minor": 0,
              "model_id": "10972f0b41ec48eba69f0a771f0d8996"
            }
          },
          "metadata": {}
        },
        {
          "output_type": "display_data",
          "data": {
            "text/plain": [
              "Validation: |          | 0/? [00:00<?, ?it/s]"
            ],
            "application/vnd.jupyter.widget-view+json": {
              "version_major": 2,
              "version_minor": 0,
              "model_id": "35764a741c80434890126530c2df2fe7"
            }
          },
          "metadata": {}
        },
        {
          "output_type": "display_data",
          "data": {
            "text/plain": [
              "Validation: |          | 0/? [00:00<?, ?it/s]"
            ],
            "application/vnd.jupyter.widget-view+json": {
              "version_major": 2,
              "version_minor": 0,
              "model_id": "150bd2bd6455477eaf42cf8470d2934b"
            }
          },
          "metadata": {}
        },
        {
          "output_type": "display_data",
          "data": {
            "text/plain": [
              "Validation: |          | 0/? [00:00<?, ?it/s]"
            ],
            "application/vnd.jupyter.widget-view+json": {
              "version_major": 2,
              "version_minor": 0,
              "model_id": "b21b265e495e4c1d8b503e41ff8db39c"
            }
          },
          "metadata": {}
        },
        {
          "output_type": "display_data",
          "data": {
            "text/plain": [
              "Validation: |          | 0/? [00:00<?, ?it/s]"
            ],
            "application/vnd.jupyter.widget-view+json": {
              "version_major": 2,
              "version_minor": 0,
              "model_id": "aebf2c66ca3c41f186d00a9843ab1f65"
            }
          },
          "metadata": {}
        },
        {
          "output_type": "display_data",
          "data": {
            "text/plain": [
              "Validation: |          | 0/? [00:00<?, ?it/s]"
            ],
            "application/vnd.jupyter.widget-view+json": {
              "version_major": 2,
              "version_minor": 0,
              "model_id": "e9977a279fb84a269c4ee556e2cd9b30"
            }
          },
          "metadata": {}
        },
        {
          "output_type": "display_data",
          "data": {
            "text/plain": [
              "Validation: |          | 0/? [00:00<?, ?it/s]"
            ],
            "application/vnd.jupyter.widget-view+json": {
              "version_major": 2,
              "version_minor": 0,
              "model_id": "db049ce0f51741dba56e8cf1d01ea5e7"
            }
          },
          "metadata": {}
        },
        {
          "output_type": "display_data",
          "data": {
            "text/plain": [
              "Validation: |          | 0/? [00:00<?, ?it/s]"
            ],
            "application/vnd.jupyter.widget-view+json": {
              "version_major": 2,
              "version_minor": 0,
              "model_id": "a959932d00bc47b7b0683066e0f81a06"
            }
          },
          "metadata": {}
        },
        {
          "output_type": "display_data",
          "data": {
            "text/plain": [
              "Validation: |          | 0/? [00:00<?, ?it/s]"
            ],
            "application/vnd.jupyter.widget-view+json": {
              "version_major": 2,
              "version_minor": 0,
              "model_id": "38d6e37ef50f4200aff376039118b307"
            }
          },
          "metadata": {}
        },
        {
          "output_type": "display_data",
          "data": {
            "text/plain": [
              "Validation: |          | 0/? [00:00<?, ?it/s]"
            ],
            "application/vnd.jupyter.widget-view+json": {
              "version_major": 2,
              "version_minor": 0,
              "model_id": "cd102389b460406a92d7991be9e0b004"
            }
          },
          "metadata": {}
        },
        {
          "output_type": "display_data",
          "data": {
            "text/plain": [
              "Validation: |          | 0/? [00:00<?, ?it/s]"
            ],
            "application/vnd.jupyter.widget-view+json": {
              "version_major": 2,
              "version_minor": 0,
              "model_id": "d52cf360434b4c8aaab660a1e519b6b9"
            }
          },
          "metadata": {}
        },
        {
          "output_type": "display_data",
          "data": {
            "text/plain": [
              "Validation: |          | 0/? [00:00<?, ?it/s]"
            ],
            "application/vnd.jupyter.widget-view+json": {
              "version_major": 2,
              "version_minor": 0,
              "model_id": "a41a458a4adc45fab033b51af9515ce7"
            }
          },
          "metadata": {}
        },
        {
          "output_type": "display_data",
          "data": {
            "text/plain": [
              "Validation: |          | 0/? [00:00<?, ?it/s]"
            ],
            "application/vnd.jupyter.widget-view+json": {
              "version_major": 2,
              "version_minor": 0,
              "model_id": "46ff3637ce8748c6bfa76aa48a8ab4ab"
            }
          },
          "metadata": {}
        },
        {
          "output_type": "display_data",
          "data": {
            "text/plain": [
              "Validation: |          | 0/? [00:00<?, ?it/s]"
            ],
            "application/vnd.jupyter.widget-view+json": {
              "version_major": 2,
              "version_minor": 0,
              "model_id": "2aec9062424d4adeadd7e01bf2afa530"
            }
          },
          "metadata": {}
        },
        {
          "output_type": "display_data",
          "data": {
            "text/plain": [
              "Validation: |          | 0/? [00:00<?, ?it/s]"
            ],
            "application/vnd.jupyter.widget-view+json": {
              "version_major": 2,
              "version_minor": 0,
              "model_id": "afa98674a4b04871bd092524de2cc7b2"
            }
          },
          "metadata": {}
        },
        {
          "output_type": "display_data",
          "data": {
            "text/plain": [
              "Validation: |          | 0/? [00:00<?, ?it/s]"
            ],
            "application/vnd.jupyter.widget-view+json": {
              "version_major": 2,
              "version_minor": 0,
              "model_id": "2bab83e24aba43749d5170e88f1b42bb"
            }
          },
          "metadata": {}
        },
        {
          "output_type": "display_data",
          "data": {
            "text/plain": [
              "Validation: |          | 0/? [00:00<?, ?it/s]"
            ],
            "application/vnd.jupyter.widget-view+json": {
              "version_major": 2,
              "version_minor": 0,
              "model_id": "4fdbe68ac4914d89bc885e224f8dbc88"
            }
          },
          "metadata": {}
        },
        {
          "output_type": "display_data",
          "data": {
            "text/plain": [
              "Validation: |          | 0/? [00:00<?, ?it/s]"
            ],
            "application/vnd.jupyter.widget-view+json": {
              "version_major": 2,
              "version_minor": 0,
              "model_id": "1d3a9999873c4a33854ed7e5e3231ee2"
            }
          },
          "metadata": {}
        },
        {
          "output_type": "display_data",
          "data": {
            "text/plain": [
              "Validation: |          | 0/? [00:00<?, ?it/s]"
            ],
            "application/vnd.jupyter.widget-view+json": {
              "version_major": 2,
              "version_minor": 0,
              "model_id": "1c8dc191b00243e5b3dcabff89c1dbbb"
            }
          },
          "metadata": {}
        },
        {
          "output_type": "display_data",
          "data": {
            "text/plain": [
              "Validation: |          | 0/? [00:00<?, ?it/s]"
            ],
            "application/vnd.jupyter.widget-view+json": {
              "version_major": 2,
              "version_minor": 0,
              "model_id": "5bb9f2f4a7fc4afa95e01e08fa696dc4"
            }
          },
          "metadata": {}
        },
        {
          "output_type": "display_data",
          "data": {
            "text/plain": [
              "Validation: |          | 0/? [00:00<?, ?it/s]"
            ],
            "application/vnd.jupyter.widget-view+json": {
              "version_major": 2,
              "version_minor": 0,
              "model_id": "40e25aa9c1664215adeeea828f4fcba4"
            }
          },
          "metadata": {}
        },
        {
          "output_type": "display_data",
          "data": {
            "text/plain": [
              "Validation: |          | 0/? [00:00<?, ?it/s]"
            ],
            "application/vnd.jupyter.widget-view+json": {
              "version_major": 2,
              "version_minor": 0,
              "model_id": "eaf7581372b249ee843c7f3f05bc071f"
            }
          },
          "metadata": {}
        },
        {
          "output_type": "display_data",
          "data": {
            "text/plain": [
              "Validation: |          | 0/? [00:00<?, ?it/s]"
            ],
            "application/vnd.jupyter.widget-view+json": {
              "version_major": 2,
              "version_minor": 0,
              "model_id": "bb37136fbc47421dba9e4b87f70f834c"
            }
          },
          "metadata": {}
        },
        {
          "output_type": "display_data",
          "data": {
            "text/plain": [
              "Validation: |          | 0/? [00:00<?, ?it/s]"
            ],
            "application/vnd.jupyter.widget-view+json": {
              "version_major": 2,
              "version_minor": 0,
              "model_id": "b4460c229ac14ede9ae351b78d9211b9"
            }
          },
          "metadata": {}
        },
        {
          "output_type": "display_data",
          "data": {
            "text/plain": [
              "Validation: |          | 0/? [00:00<?, ?it/s]"
            ],
            "application/vnd.jupyter.widget-view+json": {
              "version_major": 2,
              "version_minor": 0,
              "model_id": "8ccb9264296c45b7ba1e6fdb303e9c7b"
            }
          },
          "metadata": {}
        },
        {
          "output_type": "display_data",
          "data": {
            "text/plain": [
              "Validation: |          | 0/? [00:00<?, ?it/s]"
            ],
            "application/vnd.jupyter.widget-view+json": {
              "version_major": 2,
              "version_minor": 0,
              "model_id": "27fb4e5aaa144998ad587eac71d05530"
            }
          },
          "metadata": {}
        },
        {
          "output_type": "display_data",
          "data": {
            "text/plain": [
              "Validation: |          | 0/? [00:00<?, ?it/s]"
            ],
            "application/vnd.jupyter.widget-view+json": {
              "version_major": 2,
              "version_minor": 0,
              "model_id": "b8cab2c3d63843de8669851a81fcde53"
            }
          },
          "metadata": {}
        },
        {
          "output_type": "display_data",
          "data": {
            "text/plain": [
              "Validation: |          | 0/? [00:00<?, ?it/s]"
            ],
            "application/vnd.jupyter.widget-view+json": {
              "version_major": 2,
              "version_minor": 0,
              "model_id": "d64bb7745cc2497db54737209debb084"
            }
          },
          "metadata": {}
        },
        {
          "output_type": "display_data",
          "data": {
            "text/plain": [
              "Validation: |          | 0/? [00:00<?, ?it/s]"
            ],
            "application/vnd.jupyter.widget-view+json": {
              "version_major": 2,
              "version_minor": 0,
              "model_id": "1b44a076ca4b46928f3f9696ce1283ab"
            }
          },
          "metadata": {}
        },
        {
          "output_type": "display_data",
          "data": {
            "text/plain": [
              "Validation: |          | 0/? [00:00<?, ?it/s]"
            ],
            "application/vnd.jupyter.widget-view+json": {
              "version_major": 2,
              "version_minor": 0,
              "model_id": "9501454d75904762b9c97b91a62e3f96"
            }
          },
          "metadata": {}
        },
        {
          "output_type": "display_data",
          "data": {
            "text/plain": [
              "Validation: |          | 0/? [00:00<?, ?it/s]"
            ],
            "application/vnd.jupyter.widget-view+json": {
              "version_major": 2,
              "version_minor": 0,
              "model_id": "9f7af11984d944f0b1d55ea5e7988584"
            }
          },
          "metadata": {}
        },
        {
          "output_type": "display_data",
          "data": {
            "text/plain": [
              "Validation: |          | 0/? [00:00<?, ?it/s]"
            ],
            "application/vnd.jupyter.widget-view+json": {
              "version_major": 2,
              "version_minor": 0,
              "model_id": "8231801b92dc4c96a6ba1a60e6c23e06"
            }
          },
          "metadata": {}
        },
        {
          "output_type": "display_data",
          "data": {
            "text/plain": [
              "Validation: |          | 0/? [00:00<?, ?it/s]"
            ],
            "application/vnd.jupyter.widget-view+json": {
              "version_major": 2,
              "version_minor": 0,
              "model_id": "e16e103bd00549478d49b0e7795651f6"
            }
          },
          "metadata": {}
        },
        {
          "output_type": "display_data",
          "data": {
            "text/plain": [
              "Validation: |          | 0/? [00:00<?, ?it/s]"
            ],
            "application/vnd.jupyter.widget-view+json": {
              "version_major": 2,
              "version_minor": 0,
              "model_id": "80a1f7a42b6e47a8860e50d4b1694b71"
            }
          },
          "metadata": {}
        },
        {
          "output_type": "display_data",
          "data": {
            "text/plain": [
              "Validation: |          | 0/? [00:00<?, ?it/s]"
            ],
            "application/vnd.jupyter.widget-view+json": {
              "version_major": 2,
              "version_minor": 0,
              "model_id": "e5b6c33865d24e6ebc9087706417368d"
            }
          },
          "metadata": {}
        },
        {
          "output_type": "display_data",
          "data": {
            "text/plain": [
              "Validation: |          | 0/? [00:00<?, ?it/s]"
            ],
            "application/vnd.jupyter.widget-view+json": {
              "version_major": 2,
              "version_minor": 0,
              "model_id": "660ef8e01dde47c981ecbbec567b563c"
            }
          },
          "metadata": {}
        },
        {
          "output_type": "display_data",
          "data": {
            "text/plain": [
              "Validation: |          | 0/? [00:00<?, ?it/s]"
            ],
            "application/vnd.jupyter.widget-view+json": {
              "version_major": 2,
              "version_minor": 0,
              "model_id": "d73d833560094b97ab3f3b6b3aefa521"
            }
          },
          "metadata": {}
        },
        {
          "output_type": "display_data",
          "data": {
            "text/plain": [
              "Validation: |          | 0/? [00:00<?, ?it/s]"
            ],
            "application/vnd.jupyter.widget-view+json": {
              "version_major": 2,
              "version_minor": 0,
              "model_id": "755b0caa232e4007b57c4ee3821a536e"
            }
          },
          "metadata": {}
        },
        {
          "output_type": "display_data",
          "data": {
            "text/plain": [
              "Validation: |          | 0/? [00:00<?, ?it/s]"
            ],
            "application/vnd.jupyter.widget-view+json": {
              "version_major": 2,
              "version_minor": 0,
              "model_id": "092367b966944b7bbbcd6fb8ae5a5cbc"
            }
          },
          "metadata": {}
        },
        {
          "output_type": "display_data",
          "data": {
            "text/plain": [
              "Validation: |          | 0/? [00:00<?, ?it/s]"
            ],
            "application/vnd.jupyter.widget-view+json": {
              "version_major": 2,
              "version_minor": 0,
              "model_id": "893c96fc093a4192874bd1a681856bc1"
            }
          },
          "metadata": {}
        },
        {
          "output_type": "display_data",
          "data": {
            "text/plain": [
              "Validation: |          | 0/? [00:00<?, ?it/s]"
            ],
            "application/vnd.jupyter.widget-view+json": {
              "version_major": 2,
              "version_minor": 0,
              "model_id": "aa0216d300b247608b71b02dad323c0e"
            }
          },
          "metadata": {}
        },
        {
          "output_type": "display_data",
          "data": {
            "text/plain": [
              "Validation: |          | 0/? [00:00<?, ?it/s]"
            ],
            "application/vnd.jupyter.widget-view+json": {
              "version_major": 2,
              "version_minor": 0,
              "model_id": "e66ab170f5d44bebb9128d2d05c23989"
            }
          },
          "metadata": {}
        },
        {
          "output_type": "display_data",
          "data": {
            "text/plain": [
              "Validation: |          | 0/? [00:00<?, ?it/s]"
            ],
            "application/vnd.jupyter.widget-view+json": {
              "version_major": 2,
              "version_minor": 0,
              "model_id": "323b8c74ad7b43ca9f962be6a38d6508"
            }
          },
          "metadata": {}
        },
        {
          "output_type": "display_data",
          "data": {
            "text/plain": [
              "Validation: |          | 0/? [00:00<?, ?it/s]"
            ],
            "application/vnd.jupyter.widget-view+json": {
              "version_major": 2,
              "version_minor": 0,
              "model_id": "54dc30ad76084863aed9c8fe47103341"
            }
          },
          "metadata": {}
        },
        {
          "output_type": "display_data",
          "data": {
            "text/plain": [
              "Validation: |          | 0/? [00:00<?, ?it/s]"
            ],
            "application/vnd.jupyter.widget-view+json": {
              "version_major": 2,
              "version_minor": 0,
              "model_id": "e4466712337349799dcb6eba46b281d7"
            }
          },
          "metadata": {}
        },
        {
          "output_type": "display_data",
          "data": {
            "text/plain": [
              "Validation: |          | 0/? [00:00<?, ?it/s]"
            ],
            "application/vnd.jupyter.widget-view+json": {
              "version_major": 2,
              "version_minor": 0,
              "model_id": "d9029286d5144f63b135475b4fde15d7"
            }
          },
          "metadata": {}
        },
        {
          "output_type": "display_data",
          "data": {
            "text/plain": [
              "Validation: |          | 0/? [00:00<?, ?it/s]"
            ],
            "application/vnd.jupyter.widget-view+json": {
              "version_major": 2,
              "version_minor": 0,
              "model_id": "6a857463ab584a789f1fdc236dc08723"
            }
          },
          "metadata": {}
        },
        {
          "output_type": "display_data",
          "data": {
            "text/plain": [
              "Validation: |          | 0/? [00:00<?, ?it/s]"
            ],
            "application/vnd.jupyter.widget-view+json": {
              "version_major": 2,
              "version_minor": 0,
              "model_id": "f346e1dba5504db1b187600412c1674f"
            }
          },
          "metadata": {}
        },
        {
          "output_type": "stream",
          "name": "stderr",
          "text": [
            "INFO:pytorch_lightning.utilities.rank_zero:`Trainer.fit` stopped: `max_epochs=50` reached.\n"
          ]
        },
        {
          "output_type": "stream",
          "name": "stdout",
          "text": [
            "Final training metrics are logged at: /content/drive/MyDrive/dip_project/log/final_model/version_2\n",
            "\n",
            "** Model Evaluation **\n",
            "MAE: 0.2806, MSE: 0.1696, RMSE: 0.4118, R^2: 0.8896\n",
            "Test predictions saved to: /content/drive/MyDrive/dip_project/multimodal/multimodal_sea_ice_predictions.csv\n"
          ]
        }
      ]
    },
    {
      "cell_type": "markdown",
      "source": [
        "#2. Epoch vs Validation Loss"
      ],
      "metadata": {
        "id": "9dXeGEXoO0S9"
      }
    },
    {
      "cell_type": "code",
      "source": [
        "import pandas as pd\n",
        "import matplotlib.pyplot as plt\n",
        "\n",
        "csv_path = r\"/content/drive/MyDrive/dip_project/log/final_model/version_2/metrics.csv\"\n",
        "df = pd.read_csv(csv_path)\n",
        "\n",
        "df_val = df.dropna(subset=[\"val_loss\"])\n",
        "\n",
        "epoch_loss = df_val.groupby(\"epoch\")[\"val_loss\"].last().reset_index()\n",
        "\n",
        "plt.figure(figsize=(8, 6))\n",
        "plt.plot(epoch_loss[\"epoch\"], epoch_loss[\"val_loss\"], marker='o', linestyle='-', color='blue')\n",
        "plt.xlabel(\"Epoch\", fontsize=12)\n",
        "plt.ylabel(\"Validation Loss\", fontsize=12)\n",
        "plt.title(\"Epoch vs. Validation Loss\", fontsize=14)\n",
        "plt.grid(True, linestyle='--', alpha=0.7)\n",
        "plt.tight_layout()\n",
        "plt.show()\n"
      ],
      "metadata": {
        "colab": {
          "base_uri": "https://localhost:8080/",
          "height": 607
        },
        "id": "Zb8FuVvLR1rA",
        "outputId": "00c38085-5b75-4685-e010-75e9111072af"
      },
      "execution_count": 3,
      "outputs": [
        {
          "output_type": "display_data",
          "data": {
            "text/plain": [
              "<Figure size 800x600 with 1 Axes>"
            ],
            "image/png": "[encoded data removed]"
          },
          "metadata": {}
        }
      ]
    },
    {
      "cell_type": "markdown",
      "source": [
        "#3. Comparison of Actual vs. Predicted Retreat Area Over Years"
      ],
      "metadata": {
        "id": "ESNpVBqpPBGF"
      }
    },
    {
      "cell_type": "code",
      "source": [
        "import pandas as pd\n",
        "import matplotlib.pyplot as plt\n",
        "\n",
        "csv_path = r\"/content/drive/MyDrive/dip_project/multimodal/multimodal_sea_ice_predictions.csv\"\n",
        "df = pd.read_csv(csv_path)\n",
        "\n",
        "print(df)\n",
        "\n",
        "plt.figure(figsize=(8, 6))\n",
        "\n",
        "plt.plot(df[\"Year\"], df[\"Actual Retreat Area (Yearly) (%)\"], label=\"Actual\", marker=\"o\", linewidth=2)\n",
        "plt.plot(df[\"Year\"], df[\"Predicted Retreat Area (Yearly) (%)\"], label=\"Predicted\", marker=\"o\", linewidth=2)\n",
        "\n",
        "plt.xlabel(\"Year\", fontsize=12)\n",
        "plt.ylabel(\"Retreat Area (Yearly) (%)\", fontsize=12)\n",
        "plt.title(\"Comparison of Actual vs. Predicted Retreat Area Over Years\", fontsize=14)\n",
        "plt.legend(fontsize=12)\n",
        "plt.grid(True, linestyle='--', alpha=0.7)\n",
        "\n",
        "plt.tight_layout()\n",
        "plt.show()\n"
      ],
      "metadata": {
        "colab": {
          "base_uri": "https://localhost:8080/",
          "height": 711
        },
        "id": "LMN_W7hSLs0a",
        "outputId": "d3be35e3-f36f-4a0c-cb1f-a6626328148f"
      },
      "execution_count": 7,
      "outputs": [
        {
          "output_type": "stream",
          "name": "stdout",
          "text": [
            "   Year  Actual Retreat Area (Yearly) (%)  Predicted Retreat Area (Yearly) (%)\n",
            "0  2020                          5.027771                             5.168388\n",
            "1  2021                          4.532993                             5.980154\n",
            "2  2022                          5.311274                             5.881360\n",
            "3  2023                          8.271158                             7.929914\n",
            "4  2024                          5.683827                             5.592300\n"
          ]
        },
        {
          "output_type": "display_data",
          "data": {
            "text/plain": [
              "<Figure size 800x600 with 1 Axes>"
            ],
            "image/png": "[encoded data removed]"
          },
          "metadata": {}
        }
      ]
    },
    {
      "cell_type": "code",
      "source": [
        "import pandas as pd\n",
        "import numpy as np\n",
        "import matplotlib.pyplot as plt\n",
        "\n",
        "csv_path = r\"/content/drive/MyDrive/dip_project/multimodal/multimodal_sea_ice_predictions.csv\"\n",
        "df = pd.read_csv(csv_path)\n",
        "print(df)\n",
        "\n",
        "years = df[\"Year\"].astype(int)\n",
        "actual_values = df[\"Actual Retreat Area (Yearly) (%)\"]\n",
        "predicted_values = df[\"Predicted Retreat Area (Yearly) (%)\"]\n",
        "\n",
        "x = np.arange(len(years))\n",
        "width = 0.35\n",
        "\n",
        "fig, ax = plt.subplots(figsize=(8, 6))\n",
        "\n",
        "rects1 = ax.bar(x - width/2, actual_values, width, label='Actual', color='skyblue', edgecolor='black')\n",
        "\n",
        "rects2 = ax.bar(x + width/2, predicted_values, width, label='Predicted', color='salmon', edgecolor='black')\n",
        "\n",
        "ax.set_xlabel('Year', fontsize=12)\n",
        "ax.set_ylabel('Retreat Area (Yearly) (%)', fontsize=12)\n",
        "ax.set_title('Actual vs. Predicted Retreat Area by Year', fontsize=14)\n",
        "ax.set_xticks(x)\n",
        "ax.set_xticklabels(years, fontsize=12)\n",
        "ax.legend(fontsize=12)\n",
        "ax.grid(axis='y', linestyle='--', alpha=0.7)\n",
        "\n",
        "for rect in rects1 + rects2:\n",
        "    height = rect.get_height()\n",
        "    ax.annotate(f'{height:.2f}',\n",
        "                xy=(rect.get_x() + rect.get_width() / 2, height),\n",
        "                xytext=(0, 3),\n",
        "                textcoords=\"offset points\",\n",
        "                ha='center', va='bottom')\n",
        "\n",
        "plt.tight_layout()\n",
        "plt.show()\n",
        "\n"
      ],
      "metadata": {
        "colab": {
          "base_uri": "https://localhost:8080/",
          "height": 711
        },
        "id": "TccGTpJTMTA0",
        "outputId": "7a2dac8d-7128-49fd-b9f5-c48979e9d3d1"
      },
      "execution_count": 8,
      "outputs": [
        {
          "output_type": "stream",
          "name": "stdout",
          "text": [
            "   Year  Actual Retreat Area (Yearly) (%)  Predicted Retreat Area (Yearly) (%)\n",
            "0  2020                          5.027771                             5.168388\n",
            "1  2021                          4.532993                             5.980154\n",
            "2  2022                          5.311274                             5.881360\n",
            "3  2023                          8.271158                             7.929914\n",
            "4  2024                          5.683827                             5.592300\n"
          ]
        },
        {
          "output_type": "display_data",
          "data": {
            "text/plain": [
              "<Figure size 800x600 with 1 Axes>"
            ],
            "image/png": "[encoded data removed]"
          },
          "metadata": {}
        }
      ]
    }
  ]
}
