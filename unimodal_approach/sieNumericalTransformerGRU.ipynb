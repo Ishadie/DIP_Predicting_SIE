{
  "nbformat": 4,
  "nbformat_minor": 0,
  "metadata": {
    "colab": {
      "provenance": [],
      "machine_shape": "hm",
      "gpuType": "A100"
    },
    "kernelspec": {
      "name": "python3",
      "display_name": "Python 3"
    },
    "language_info": {
      "name": "python"
    },
    "accelerator": "GPU"
  },
  "cells": [
    {
      "cell_type": "code",
      "source": [
        "!pip install pytorch-lightning"
      ],
      "metadata": {
        "colab": {
          "base_uri": "https://localhost:8080/"
        },
        "id": "oPOYAhsYqY-2",
        "outputId": "282d2558-2ee2-4c5f-8e5d-63001770237f"
      },
      "execution_count": null,
      "outputs": [
        {
          "output_type": "stream",
          "name": "stdout",
          "text": [
            "Collecting pytorch-lightning\n",
            "  Downloading pytorch_lightning-2.5.1-py3-none-any.whl.metadata (20 kB)\n",
            "Requirement already satisfied: torch>=2.1.0 in /usr/local/lib/python3.11/dist-packages (from pytorch-lightning) (2.6.0+cu124)\n",
            "Requirement already satisfied: tqdm>=4.57.0 in /usr/local/lib/python3.11/dist-packages (from pytorch-lightning) (4.67.1)\n",
            "Requirement already satisfied: PyYAML>=5.4 in /usr/local/lib/python3.11/dist-packages (from pytorch-lightning) (6.0.2)\n",
            "Requirement already satisfied: fsspec>=2022.5.0 in /usr/local/lib/python3.11/dist-packages (from fsspec[http]>=2022.5.0->pytorch-lightning) (2025.3.2)\n",
            "Collecting torchmetrics>=0.7.0 (from pytorch-lightning)\n",
            "  Downloading torchmetrics-1.7.1-py3-none-any.whl.metadata (21 kB)\n",
            "Requirement already satisfied: packaging>=20.0 in /usr/local/lib/python3.11/dist-packages (from pytorch-lightning) (24.2)\n",
            "Requirement already satisfied: typing-extensions>=4.4.0 in /usr/local/lib/python3.11/dist-packages (from pytorch-lightning) (4.13.1)\n",
            "Collecting lightning-utilities>=0.10.0 (from pytorch-lightning)\n",
            "  Downloading lightning_utilities-0.14.3-py3-none-any.whl.metadata (5.6 kB)\n",
            "Requirement already satisfied: aiohttp!=4.0.0a0,!=4.0.0a1 in /usr/local/lib/python3.11/dist-packages (from fsspec[http]>=2022.5.0->pytorch-lightning) (3.11.15)\n",
            "Requirement already satisfied: setuptools in /usr/local/lib/python3.11/dist-packages (from lightning-utilities>=0.10.0->pytorch-lightning) (75.2.0)\n",
            "Requirement already satisfied: filelock in /usr/local/lib/python3.11/dist-packages (from torch>=2.1.0->pytorch-lightning) (3.18.0)\n",
            "Requirement already satisfied: networkx in /usr/local/lib/python3.11/dist-packages (from torch>=2.1.0->pytorch-lightning) (3.4.2)\n",
            "Requirement already satisfied: jinja2 in /usr/local/lib/python3.11/dist-packages (from torch>=2.1.0->pytorch-lightning) (3.1.6)\n",
            "Collecting nvidia-cuda-nvrtc-cu12==12.4.127 (from torch>=2.1.0->pytorch-lightning)\n",
            "  Downloading nvidia_cuda_nvrtc_cu12-12.4.127-py3-none-manylinux2014_x86_64.whl.metadata (1.5 kB)\n",
            "Collecting nvidia-cuda-runtime-cu12==12.4.127 (from torch>=2.1.0->pytorch-lightning)\n",
            "  Downloading nvidia_cuda_runtime_cu12-12.4.127-py3-none-manylinux2014_x86_64.whl.metadata (1.5 kB)\n",
            "Collecting nvidia-cuda-cupti-cu12==12.4.127 (from torch>=2.1.0->pytorch-lightning)\n",
            "  Downloading nvidia_cuda_cupti_cu12-12.4.127-py3-none-manylinux2014_x86_64.whl.metadata (1.6 kB)\n",
            "Collecting nvidia-cudnn-cu12==9.1.0.70 (from torch>=2.1.0->pytorch-lightning)\n",
            "  Downloading nvidia_cudnn_cu12-9.1.0.70-py3-none-manylinux2014_x86_64.whl.metadata (1.6 kB)\n",
            "Collecting nvidia-cublas-cu12==12.4.5.8 (from torch>=2.1.0->pytorch-lightning)\n",
            "  Downloading nvidia_cublas_cu12-12.4.5.8-py3-none-manylinux2014_x86_64.whl.metadata (1.5 kB)\n",
            "Collecting nvidia-cufft-cu12==11.2.1.3 (from torch>=2.1.0->pytorch-lightning)\n",
            "  Downloading nvidia_cufft_cu12-11.2.1.3-py3-none-manylinux2014_x86_64.whl.metadata (1.5 kB)\n",
            "Collecting nvidia-curand-cu12==10.3.5.147 (from torch>=2.1.0->pytorch-lightning)\n",
            "  Downloading nvidia_curand_cu12-10.3.5.147-py3-none-manylinux2014_x86_64.whl.metadata (1.5 kB)\n",
            "Collecting nvidia-cusolver-cu12==11.6.1.9 (from torch>=2.1.0->pytorch-lightning)\n",
            "  Downloading nvidia_cusolver_cu12-11.6.1.9-py3-none-manylinux2014_x86_64.whl.metadata (1.6 kB)\n",
            "Collecting nvidia-cusparse-cu12==12.3.1.170 (from torch>=2.1.0->pytorch-lightning)\n",
            "  Downloading nvidia_cusparse_cu12-12.3.1.170-py3-none-manylinux2014_x86_64.whl.metadata (1.6 kB)\n",
            "Requirement already satisfied: nvidia-cusparselt-cu12==0.6.2 in /usr/local/lib/python3.11/dist-packages (from torch>=2.1.0->pytorch-lightning) (0.6.2)\n",
            "Requirement already satisfied: nvidia-nccl-cu12==2.21.5 in /usr/local/lib/python3.11/dist-packages (from torch>=2.1.0->pytorch-lightning) (2.21.5)\n",
            "Requirement already satisfied: nvidia-nvtx-cu12==12.4.127 in /usr/local/lib/python3.11/dist-packages (from torch>=2.1.0->pytorch-lightning) (12.4.127)\n",
            "Collecting nvidia-nvjitlink-cu12==12.4.127 (from torch>=2.1.0->pytorch-lightning)\n",
            "  Downloading nvidia_nvjitlink_cu12-12.4.127-py3-none-manylinux2014_x86_64.whl.metadata (1.5 kB)\n",
            "Requirement already satisfied: triton==3.2.0 in /usr/local/lib/python3.11/dist-packages (from torch>=2.1.0->pytorch-lightning) (3.2.0)\n",
            "Requirement already satisfied: sympy==1.13.1 in /usr/local/lib/python3.11/dist-packages (from torch>=2.1.0->pytorch-lightning) (1.13.1)\n",
            "Requirement already satisfied: mpmath<1.4,>=1.1.0 in /usr/local/lib/python3.11/dist-packages (from sympy==1.13.1->torch>=2.1.0->pytorch-lightning) (1.3.0)\n",
            "Requirement already satisfied: numpy>1.20.0 in /usr/local/lib/python3.11/dist-packages (from torchmetrics>=0.7.0->pytorch-lightning) (2.0.2)\n",
            "Requirement already satisfied: aiohappyeyeballs>=2.3.0 in /usr/local/lib/python3.11/dist-packages (from aiohttp!=4.0.0a0,!=4.0.0a1->fsspec[http]>=2022.5.0->pytorch-lightning) (2.6.1)\n",
            "Requirement already satisfied: aiosignal>=1.1.2 in /usr/local/lib/python3.11/dist-packages (from aiohttp!=4.0.0a0,!=4.0.0a1->fsspec[http]>=2022.5.0->pytorch-lightning) (1.3.2)\n",
            "Requirement already satisfied: attrs>=17.3.0 in /usr/local/lib/python3.11/dist-packages (from aiohttp!=4.0.0a0,!=4.0.0a1->fsspec[http]>=2022.5.0->pytorch-lightning) (25.3.0)\n",
            "Requirement already satisfied: frozenlist>=1.1.1 in /usr/local/lib/python3.11/dist-packages (from aiohttp!=4.0.0a0,!=4.0.0a1->fsspec[http]>=2022.5.0->pytorch-lightning) (1.5.0)\n",
            "Requirement already satisfied: multidict<7.0,>=4.5 in /usr/local/lib/python3.11/dist-packages (from aiohttp!=4.0.0a0,!=4.0.0a1->fsspec[http]>=2022.5.0->pytorch-lightning) (6.4.2)\n",
            "Requirement already satisfied: propcache>=0.2.0 in /usr/local/lib/python3.11/dist-packages (from aiohttp!=4.0.0a0,!=4.0.0a1->fsspec[http]>=2022.5.0->pytorch-lightning) (0.3.1)\n",
            "Requirement already satisfied: yarl<2.0,>=1.17.0 in /usr/local/lib/python3.11/dist-packages (from aiohttp!=4.0.0a0,!=4.0.0a1->fsspec[http]>=2022.5.0->pytorch-lightning) (1.19.0)\n",
            "Requirement already satisfied: MarkupSafe>=2.0 in /usr/local/lib/python3.11/dist-packages (from jinja2->torch>=2.1.0->pytorch-lightning) (3.0.2)\n",
            "Requirement already satisfied: idna>=2.0 in /usr/local/lib/python3.11/dist-packages (from yarl<2.0,>=1.17.0->aiohttp!=4.0.0a0,!=4.0.0a1->fsspec[http]>=2022.5.0->pytorch-lightning) (3.10)\n",
            "Downloading pytorch_lightning-2.5.1-py3-none-any.whl (822 kB)\n",
            "\u001b[2K   \u001b[90m━━━━━━━━━━━━━━━━━━━━━━━━━━━━━━━━━━━━━━━━\u001b[0m \u001b[32m823.0/823.0 kB\u001b[0m \u001b[31m40.2 MB/s\u001b[0m eta \u001b[36m0:00:00\u001b[0m\n",
            "\u001b[?25hDownloading lightning_utilities-0.14.3-py3-none-any.whl (28 kB)\n",
            "Downloading nvidia_cublas_cu12-12.4.5.8-py3-none-manylinux2014_x86_64.whl (363.4 MB)\n",
            "\u001b[2K   \u001b[90m━━━━━━━━━━━━━━━━━━━━━━━━━━━━━━━━━━━━━━━━\u001b[0m \u001b[32m363.4/363.4 MB\u001b[0m \u001b[31m3.4 MB/s\u001b[0m eta \u001b[36m0:00:00\u001b[0m\n",
            "\u001b[?25hDownloading nvidia_cuda_cupti_cu12-12.4.127-py3-none-manylinux2014_x86_64.whl (13.8 MB)\n",
            "\u001b[2K   \u001b[90m━━━━━━━━━━━━━━━━━━━━━━━━━━━━━━━━━━━━━━━━\u001b[0m \u001b[32m13.8/13.8 MB\u001b[0m \u001b[31m117.4 MB/s\u001b[0m eta \u001b[36m0:00:00\u001b[0m\n",
            "\u001b[?25hDownloading nvidia_cuda_nvrtc_cu12-12.4.127-py3-none-manylinux2014_x86_64.whl (24.6 MB)\n",
            "\u001b[2K   \u001b[90m━━━━━━━━━━━━━━━━━━━━━━━━━━━━━━━━━━━━━━━━\u001b[0m \u001b[32m24.6/24.6 MB\u001b[0m \u001b[31m88.9 MB/s\u001b[0m eta \u001b[36m0:00:00\u001b[0m\n",
            "\u001b[?25hDownloading nvidia_cuda_runtime_cu12-12.4.127-py3-none-manylinux2014_x86_64.whl (883 kB)\n",
            "\u001b[2K   \u001b[90m━━━━━━━━━━━━━━━━━━━━━━━━━━━━━━━━━━━━━━━━\u001b[0m \u001b[32m883.7/883.7 kB\u001b[0m \u001b[31m56.7 MB/s\u001b[0m eta \u001b[36m0:00:00\u001b[0m\n",
            "\u001b[?25hDownloading nvidia_cudnn_cu12-9.1.0.70-py3-none-manylinux2014_x86_64.whl (664.8 MB)\n",
            "\u001b[2K   \u001b[90m━━━━━━━━━━━━━━━━━━━━━━━━━━━━━━━━━━━━━━━━\u001b[0m \u001b[32m664.8/664.8 MB\u001b[0m \u001b[31m1.7 MB/s\u001b[0m eta \u001b[36m0:00:00\u001b[0m\n",
            "\u001b[?25hDownloading nvidia_cufft_cu12-11.2.1.3-py3-none-manylinux2014_x86_64.whl (211.5 MB)\n",
            "\u001b[2K   \u001b[90m━━━━━━━━━━━━━━━━━━━━━━━━━━━━━━━━━━━━━━━━\u001b[0m \u001b[32m211.5/211.5 MB\u001b[0m \u001b[31m10.8 MB/s\u001b[0m eta \u001b[36m0:00:00\u001b[0m\n",
            "\u001b[?25hDownloading nvidia_curand_cu12-10.3.5.147-py3-none-manylinux2014_x86_64.whl (56.3 MB)\n",
            "\u001b[2K   \u001b[90m━━━━━━━━━━━━━━━━━━━━━━━━━━━━━━━━━━━━━━━━\u001b[0m \u001b[32m56.3/56.3 MB\u001b[0m \u001b[31m40.1 MB/s\u001b[0m eta \u001b[36m0:00:00\u001b[0m\n",
            "\u001b[?25hDownloading nvidia_cusolver_cu12-11.6.1.9-py3-none-manylinux2014_x86_64.whl (127.9 MB)\n",
            "\u001b[2K   \u001b[90m━━━━━━━━━━━━━━━━━━━━━━━━━━━━━━━━━━━━━━━━\u001b[0m \u001b[32m127.9/127.9 MB\u001b[0m \u001b[31m18.0 MB/s\u001b[0m eta \u001b[36m0:00:00\u001b[0m\n",
            "\u001b[?25hDownloading nvidia_cusparse_cu12-12.3.1.170-py3-none-manylinux2014_x86_64.whl (207.5 MB)\n",
            "\u001b[2K   \u001b[90m━━━━━━━━━━━━━━━━━━━━━━━━━━━━━━━━━━━━━━━━\u001b[0m \u001b[32m207.5/207.5 MB\u001b[0m \u001b[31m4.3 MB/s\u001b[0m eta \u001b[36m0:00:00\u001b[0m\n",
            "\u001b[?25hDownloading nvidia_nvjitlink_cu12-12.4.127-py3-none-manylinux2014_x86_64.whl (21.1 MB)\n",
            "\u001b[2K   \u001b[90m━━━━━━━━━━━━━━━━━━━━━━━━━━━━━━━━━━━━━━━━\u001b[0m \u001b[32m21.1/21.1 MB\u001b[0m \u001b[31m98.7 MB/s\u001b[0m eta \u001b[36m0:00:00\u001b[0m\n",
            "\u001b[?25hDownloading torchmetrics-1.7.1-py3-none-any.whl (961 kB)\n",
            "\u001b[2K   \u001b[90m━━━━━━━━━━━━━━━━━━━━━━━━━━━━━━━━━━━━━━━━\u001b[0m \u001b[32m961.5/961.5 kB\u001b[0m \u001b[31m62.1 MB/s\u001b[0m eta \u001b[36m0:00:00\u001b[0m\n",
            "\u001b[?25hInstalling collected packages: nvidia-nvjitlink-cu12, nvidia-curand-cu12, nvidia-cufft-cu12, nvidia-cuda-runtime-cu12, nvidia-cuda-nvrtc-cu12, nvidia-cuda-cupti-cu12, nvidia-cublas-cu12, lightning-utilities, nvidia-cusparse-cu12, nvidia-cudnn-cu12, nvidia-cusolver-cu12, torchmetrics, pytorch-lightning\n",
            "  Attempting uninstall: nvidia-nvjitlink-cu12\n",
            "    Found existing installation: nvidia-nvjitlink-cu12 12.5.82\n",
            "    Uninstalling nvidia-nvjitlink-cu12-12.5.82:\n",
            "      Successfully uninstalled nvidia-nvjitlink-cu12-12.5.82\n",
            "  Attempting uninstall: nvidia-curand-cu12\n",
            "    Found existing installation: nvidia-curand-cu12 10.3.6.82\n",
            "    Uninstalling nvidia-curand-cu12-10.3.6.82:\n",
            "      Successfully uninstalled nvidia-curand-cu12-10.3.6.82\n",
            "  Attempting uninstall: nvidia-cufft-cu12\n",
            "    Found existing installation: nvidia-cufft-cu12 11.2.3.61\n",
            "    Uninstalling nvidia-cufft-cu12-11.2.3.61:\n",
            "      Successfully uninstalled nvidia-cufft-cu12-11.2.3.61\n",
            "  Attempting uninstall: nvidia-cuda-runtime-cu12\n",
            "    Found existing installation: nvidia-cuda-runtime-cu12 12.5.82\n",
            "    Uninstalling nvidia-cuda-runtime-cu12-12.5.82:\n",
            "      Successfully uninstalled nvidia-cuda-runtime-cu12-12.5.82\n",
            "  Attempting uninstall: nvidia-cuda-nvrtc-cu12\n",
            "    Found existing installation: nvidia-cuda-nvrtc-cu12 12.5.82\n",
            "    Uninstalling nvidia-cuda-nvrtc-cu12-12.5.82:\n",
            "      Successfully uninstalled nvidia-cuda-nvrtc-cu12-12.5.82\n",
            "  Attempting uninstall: nvidia-cuda-cupti-cu12\n",
            "    Found existing installation: nvidia-cuda-cupti-cu12 12.5.82\n",
            "    Uninstalling nvidia-cuda-cupti-cu12-12.5.82:\n",
            "      Successfully uninstalled nvidia-cuda-cupti-cu12-12.5.82\n",
            "  Attempting uninstall: nvidia-cublas-cu12\n",
            "    Found existing installation: nvidia-cublas-cu12 12.5.3.2\n",
            "    Uninstalling nvidia-cublas-cu12-12.5.3.2:\n",
            "      Successfully uninstalled nvidia-cublas-cu12-12.5.3.2\n",
            "  Attempting uninstall: nvidia-cusparse-cu12\n",
            "    Found existing installation: nvidia-cusparse-cu12 12.5.1.3\n",
            "    Uninstalling nvidia-cusparse-cu12-12.5.1.3:\n",
            "      Successfully uninstalled nvidia-cusparse-cu12-12.5.1.3\n",
            "  Attempting uninstall: nvidia-cudnn-cu12\n",
            "    Found existing installation: nvidia-cudnn-cu12 9.3.0.75\n",
            "    Uninstalling nvidia-cudnn-cu12-9.3.0.75:\n",
            "      Successfully uninstalled nvidia-cudnn-cu12-9.3.0.75\n",
            "  Attempting uninstall: nvidia-cusolver-cu12\n",
            "    Found existing installation: nvidia-cusolver-cu12 11.6.3.83\n",
            "    Uninstalling nvidia-cusolver-cu12-11.6.3.83:\n",
            "      Successfully uninstalled nvidia-cusolver-cu12-11.6.3.83\n",
            "Successfully installed lightning-utilities-0.14.3 nvidia-cublas-cu12-12.4.5.8 nvidia-cuda-cupti-cu12-12.4.127 nvidia-cuda-nvrtc-cu12-12.4.127 nvidia-cuda-runtime-cu12-12.4.127 nvidia-cudnn-cu12-9.1.0.70 nvidia-cufft-cu12-11.2.1.3 nvidia-curand-cu12-10.3.5.147 nvidia-cusolver-cu12-11.6.1.9 nvidia-cusparse-cu12-12.3.1.170 nvidia-nvjitlink-cu12-12.4.127 pytorch-lightning-2.5.1 torchmetrics-1.7.1\n"
          ]
        }
      ]
    },
    {
      "cell_type": "code",
      "source": [
        "from google.colab import drive\n",
        "drive.mount('/content/drive', force_remount=True)"
      ],
      "metadata": {
        "colab": {
          "base_uri": "https://localhost:8080/"
        },
        "id": "qcTGDB8Hq6pU",
        "outputId": "e1985326-9145-45b9-a38a-80c60b8ff84f"
      },
      "execution_count": null,
      "outputs": [
        {
          "output_type": "stream",
          "name": "stdout",
          "text": [
            "Mounted at /content/drive\n"
          ]
        }
      ]
    },
    {
      "cell_type": "markdown",
      "source": [
        "#1. Training and Evaluating Unimodal numerical time-series approach using Transformer and GRU."
      ],
      "metadata": {
        "id": "Oj33L_S_0oTu"
      }
    },
    {
      "cell_type": "code",
      "execution_count": null,
      "metadata": {
        "colab": {
          "base_uri": "https://localhost:8080/",
          "height": 572,
          "referenced_widgets": [
            "83c84e8079ca4ab989c77ee4f79ab3d1",
            "8e60cb7c9e14462e928a27fe92363f45",
            "a31caaa4d7cb49a7b5b358878afc404f",
            "74d8f7a90d794aff8fe34cfc389298c7",
            "1ca37e9c9b7345c08b5ac955611a013b",
            "1cff29039212424291c219ba2f323b0f",
            "222170340747485487072a7f07f4df0d",
            "9043e3fd73e249b6aa818198968a18c2",
            "8aee84f630474223be0a437aa6f62d25",
            "bb185298dbc643f782e7377bd4a0baa6",
            "eebe2fa703e24abaa42e7811dfcf85d6",
            "a6cd0766f0c64f198475cc44bb8d238c",
            "cf65082c03384fe6ae767640bdd386c9",
            "71456e2333584281a69c458f3c337d82",
            "63e2cce658d9406da6243e37cb933af1",
            "637224a2ec3c4d26bc10435ec0a9e550",
            "dc41669a66d34799a1c71ad8601ce514",
            "9b6a9cadaf7c461a8477a08a3414fe51",
            "263a1d73ba7845e598f038e70ab60dce",
            "59d881469ce74a87bb0cb708d242a67c",
            "cb6cb855ef7344eca78f06965fe29d37",
            "3ef2a52c94fd41a3acffad22f21e6634",
            "f180c4dec8c948ea93f073e3abdd9236",
            "405c60b0791f423c97a07d2062a47e9c",
            "363d1b2ac92f443b843ba6f01f22d6ec",
            "44ce6b50a10f4f14a49e43af960548a3",
            "a9e73f1389324661923f2f6d072d9b04",
            "2c57ea5c2125439997e64e5dd33042f2",
            "7a62671f65c04d9da2c210a20fbd749d",
            "8b635244551a4b2e9d3fb1301a035cba",
            "cd0dd6ac8f2c4f06854253ae0abbc2e9",
            "3695eeb1fdad4beaa807dce3fe7df895",
            "0e11adb889354a509488774dcb3efadb",
            "f3437690d88744deb84028f043e5e758",
            "a116cdffdf194473935b2cc38755d6ac",
            "41628a35e4744dbc861577c63dfbb3a8",
            "c5172e924b6e4d039c1bedbef65d73da",
            "35b80e7fc63e488ead3fd20a62c62a9c",
            "2be9575881a8406e98fe6e9609b91cb9",
            "a0c88fcc21d84a369978834359522380",
            "1595759ab6214d7f8555760c9639e0d7",
            "af5b706b57ca4f328b1ff2d9516eb2ac",
            "8cfc0028fd2949e9a7fd95f9c274ef47",
            "351cdf7bdb5c44748688a4b2d342bd9a",
            "dd9017dafc224dbab867165757bae7f4",
            "0ff41483af00422cb8bfee152efaea86",
            "c55357b24982490aa429a4fef80be511",
            "a4b0e59173154491a1753e216e602e75",
            "64cbf0ae103d4573903c20e8cbf74f1e",
            "a313077bfce04f348b9df8b5dcbfbde0",
            "f4f6ee696f9746d5a270ea34a896c6a0",
            "f629bdfe4f654f6297a5ac19b112e637",
            "4c6863debe22440fb1e0ec38d1cb4a92",
            "ff56685a7a544fac99d3859183e22b00",
            "2d58b544bee146e29e9ca67d01864419",
            "f28804b51a234fc6af1783ed538b8bf0",
            "cd7154d084d94ff19a09c4b1df795821",
            "45b156ac52644457a069c0ae482331e6",
            "befb9de831e146d0a24743bae43b67e4",
            "405194df0d86431abc5a093b9e7f4eef",
            "b21897aae2fa406da784dc4677d85ddd",
            "0443fc12e25c40b2ae0ff60c5e88b34d",
            "2f11fa680645408bb61b678bd21f6e3b",
            "c82904307290452b8164a96d4cb166c4",
            "63fd41023a714bedbc4338e141e8b4e1",
            "d1e3d4c98218445eb0fcf7189cb4c7c6",
            "867a02fe1c2747bb9e307e2e282be97d",
            "589c21756d9040959a619e171d06154b",
            "97aa2ac8f3d34bd4999bb746c4199a3a",
            "1ac164fb62e3405e9258140bc76f461d",
            "6eaf31d65c324a2796cddcd490f3b312",
            "140263c624bb4decb3d27b34225484a9",
            "39a72c2d658a4e50bacf590428bfac80",
            "edcaec81475e4a41aa5705683f4d8fbe",
            "fac484164cc146189b4e3d73255888ca",
            "1a0ae24b3c0c43e09c59cb9aca4388fb",
            "3feba1a157b84c5e83b29dca3e9ba5d9",
            "34f1a67a9d294c90ab6044a6b2c969c0",
            "d52145e2e18e475eb6e18d912aadf96e",
            "2ca94d83e2f24e56bfa2af4091995f86",
            "98a8ed2cb3c84b0e872d4b8104971454",
            "09c0db12924b4f29b81dc7031a8d7ee6",
            "4e05b9c605c24442b30d1e58709d92a1",
            "ece9657a59224fca881b1757edafb171",
            "7af000bf5bdf42149990da171c7dbb4a",
            "376d60b1bc0e45a39a57628f3ef09c64",
            "cbc31bd9e71444508db7be8b752e5dff",
            "921422f1eb584c7e84323a75c80c2e70",
            "56f90f788e9241cbb932d40816517da0",
            "0bd05b5632684b44997f32467c100475",
            "d5f7f1db23d24819aa2117536ac10a10",
            "e2c7952c5496430a88f967b4667788cc",
            "6640613a42104db8bf7efa9582386d42",
            "9367095087fb4b2ebb2071f9ac9de2de",
            "78094ddd097f4951a9fced539498faee",
            "95a564cb3d2e4c31aff3bd70f5f4c348",
            "5fbb7ed7dfe14e94bb3891e03b6d3a2e",
            "898b805d71a247b491b93affdebceb37",
            "07c18c69a82348cab6553f3a89533f13",
            "07945dddb8ff493484d6791c75cf38e0",
            "7f6e9696f5a24e0ab79caf97446c5f9a",
            "d5fdd753f3824311bf004506d97b2c4b",
            "dafba0f6fa7246a88a523988ba21b34f",
            "b7cab93056ad4c8d8861364b7cd75cc8",
            "74b356d15a7e490983ef3f05b4148990",
            "907276bd5df74896a96c2398e9bd339f",
            "18e09a812a9c404481fc70404aaf0fdd",
            "0b12bb2623504d62b77e5b697104b4df",
            "ed864a3d1d7348b0be399e76a95f40eb",
            "6a7587b7fe2741e3bdc8cf2bab8c724a",
            "23a227ed0f6b41308341ee08cb00f3a3",
            "afd91a9d683f41f3bbc5259feaff75fb",
            "5eee6e1b3daf441ca57add8b007fe72c",
            "82e3c41ee81d490483526570a06c2600",
            "c1a2544070ae4e2cbd4b680edcb08aac",
            "680aec7f0e49410e967fa7b29c85d727",
            "7aca25771a064bda8ca6bee767c48786",
            "7efc68c5b50749b9bf71b16a281acd01",
            "0fa1ff765345465a914236ddf88f3986",
            "49abeec6a62f47bb8e64d5994ed65a70",
            "f6766a7f00414525850859dc1170e802",
            "c8ec775e8439487a8104521abc96a38e",
            "84706fe123674a4e9f7b42be78a6f0d9",
            "9ed125f984b042eab65ff89df5bd1b96",
            "ccc8ce7dc7ca4108ba84a4fbf39bca12",
            "103fa5afbc264500b69e95d1d49eb7af",
            "33d28306b9ba4a2798813f8486e61a97",
            "b441129a34624d148e7ee185da66ee88",
            "a769db2c83074582981b9dd57513eec4",
            "c1699c77e3a444ba96b500e0a3797288",
            "64d52805c3ee443abdb0d164f8afea41",
            "c82ecc3ebc82463685c4bd4ce50e4c66",
            "55c92c40e74c40f49b7789b4002052e0",
            "d0a64d8c1f794121a27e385d7675af52",
            "cafdfc0bdf5f4912846a91b29d11f5d1",
            "e6be3fddc2984f3da385782d2c58febe",
            "9939994478924aa8af92956c5c5971d5",
            "293c880c806b48fe9b6123a0879b6d34",
            "f216850ea6a04b2ebfdfaedad356230d",
            "5abaa7ae7b1c4085b599fd9437864300",
            "0ba3f128da0b47ccbc62649a0b175ff1",
            "d6e9e9aaebbe4e7faf569a5cdb4329ee",
            "fefa76bdf8834c16b51bb1a3f2f93401",
            "77871bb3cdec46718604c5f8b7431368",
            "a90ec3c17ef1403d929ed9ae5c123db3",
            "8c2b4c92c5a341d4a1378c37de9b09a9",
            "06f1f89f8ef24253b45138bb5cec3764",
            "3f9ae1c28b2d4098a09c461f801a1ce9",
            "1eec7686472a49f383a99cb5e8bcb775",
            "eeaa613732a64c349d762c8d0fda9688",
            "b4a5d6db2e84460ba6f2d1a6701fb6eb",
            "4aa6cc9d314d46fd926b4d3f8be44252",
            "a1bca67c8a1844b3915249837ea50505",
            "baae394eeff14fb8949e58524c25debe",
            "e284aa83878443039d7ef3a9f924256f",
            "1d2043c6e49f4c7a9b3888fc12c58ab9",
            "f3330b59d0214f06b4b9ca0235d440e8",
            "9fd74a15ed894a35be4a63d6f047dca9",
            "b0da48e70d174616bb1e1dfedce5151c",
            "c23a0c35e85446e48d91c2cb85f27bb9",
            "eb4888abbbad4962bda0165ec134d137",
            "950fd2b8ff01458ab4bee6be93b25068",
            "31109d63b7984e118aa9d7f87fb4738e",
            "f5ed6046940645b7882167714b845778",
            "e7670fc3a1cd47e4957bc83268d19192",
            "8c502e09e73043de8defe36ebee5b68c",
            "607a6d1d9bea41468ea22e42872ea4ff",
            "7e48bc6774114ebf97b9a842f661a187",
            "7d25513dac4846efbf45998a5bf1642f",
            "18df9236945e4a2eb18de1538b71c584",
            "124ca421a4f64d25914d86ccfd1331f6",
            "1fcbd885d1934b93814e9af4740640e6",
            "639ab2e567944c7abb92249e5e2b2b12",
            "1bb4f153f84e47a9832f1158d1dca664",
            "e9cd7ecbdba14c709f75150109391c9f",
            "a48cac485d0746f8bce436abb8a83a35",
            "a6b7ea7505de4ce9a675b5cbb4dac8dd",
            "04c5c2295a4341a99b80d0538bbfc500",
            "b79c5525bcbe4cceacd89e89f2476b91",
            "e2a951cd309342e888343cf8d94a4ba4",
            "cc0f4fd7c43f4457b4ba87be057fc532",
            "2fdafd06d49c4a80b8023d9ca62c12c3",
            "95edf925eb0f47e697c2f78d4f3fc6f3",
            "5873a08d42d14cc591b1c9a4a1acb2f9",
            "7c6507b7e8cb45d4aa707a0a3b12c3b2",
            "ea5af27ab7064259a0514be999440d9a",
            "6d75cbdf0c734c3cbefcc548e007d6e7",
            "36b50b70905745b79ba87fa9cd04de01",
            "a17dddf62213495ca84ed69d08465f4f",
            "8ea0abcb415e4064b0234b85a52792a2",
            "5dd1f85141cb4f3483a7b0b12bb3617d",
            "041542c9102b46d7a857a0f8d2434cce",
            "8e8b69e15825459aa4adb3ae304c350c",
            "0aca6c69b8c5465c98f6715fc6d53eeb",
            "9090839ec65d47e18e8f731a3617ea32",
            "5fcc5f5a94b0406b82a69b6b8cb75dd5",
            "af36b60d23574cceaf627fe3ab6f6332",
            "24ac09000e72441f948547880a3acdfa",
            "e5a08a7b287d4131b168aaf955c4df44",
            "cd29b72e609d411db83b39f71776237b",
            "c45abd9183394d1e8cb82dac98d1a9b4",
            "73b037566bb6486ca1f6acf2bab93418",
            "7856f8a7041247c88078d263f61b6cbe",
            "e416434f4dc54fa1b1b90a645f5c6461",
            "ec38b48a468a46de8a208a1f79c3fae6",
            "075950332002462083a2b7d21bc1322e",
            "745ee0b345e44835b368b5e17b885fa8",
            "38f5e2e6488d44b5a7347eee36cffad8",
            "f0dbd7f4497f461d88873af3d92746db",
            "93347474a0a340f7bd7e113c2b18cde3",
            "e182b8a0e8954f48963b03281b6547b0",
            "dd9149134c814c87902829e5a7e05ffc",
            "1381d2e713f94f248671afb085ae0786",
            "2c752497b13c4345bdb075a205f18544",
            "8d0ac9c44b6a4da18e0724c1cea506c4",
            "53eed62f70994d29893c7ccc17f6345a",
            "69dd7c2708af481f870c2896099df251",
            "aa9248832baa4548aefaac9e73b92b17",
            "ff729ca2e6dd46e088f49b00f5e9c591",
            "068d73dc8b32484bb4046f40e3f94024",
            "8679ee064a074e3793a07445f6142351",
            "2c30882c6dd34c559391000b020fafae",
            "d1451b600f254e64b8e5d9349c2e7f00",
            "3c738b4ea2714dc28a21d46029c070d3",
            "08ef54e68f974737829947d1e175458b",
            "6d88d4dad0644796b0ca5c936350a39b",
            "76525b7d56924f268664b02d68e94a56",
            "9f7975469b1749ec9239b0b2392fa4df",
            "ed758fa6323d48a7917bad8d7ca8c694",
            "9657af12325a4d33914938013bcdf1f6",
            "b10d909fd1ed40dda66669c9efd8de3c",
            "7441cbcb9d8344a48685ba6c770d74e5",
            "63d0adfee78447cbb790cbf3d420785f",
            "f009f34ca5fc4eda8764a74c53183eea",
            "13e6eb9cfa904da596a7825af07015be",
            "8349e98440324fc4a23e6048bd999ff0",
            "3acaa0585a9a4bb9b59e030d89a75f47",
            "cadda16ae7d24ab7bef3de3d4c4538a9",
            "158a15e62d2441c2bfa5f22fa337acf7",
            "a494849fd6d64943a5c62a8d48c5e480",
            "9a0aa8244a58425ab5446b4048ba4a10",
            "05cadae3ed1a403b9f0a2b73ef6110ef",
            "08cad91b303a489b96224e6259d1fcb8",
            "7e5089bfb722497e84b2b6139f141a03",
            "6ba205c0209f4b27a1bb14f19467c358",
            "43d8923aa10e406696f9f419dbf21782",
            "17b92ec1e666409f96e2e68b236601c7",
            "ec94f486281f49099223b1b3c93759bf",
            "ccea7f74f8cb4c6995dd5bae8688c940",
            "555b1988eb79493ab883f550375bda54",
            "1f72a01bea8041128a8b986853857b72",
            "318840b44f6d4323a276a734bcd0c4de",
            "50d503c3b8614d839a7cd1d56e0b6b2e",
            "12eac6eebd1744148fb1091b7ff22552",
            "c7fc5aed73a546bd8859f1435931b3a5",
            "9697a17169444dea84b2c2f8304ac8a4",
            "741b0bb14f3144e6a2d04e5907ac18c7",
            "6055e97414db40bb8085a39c1b12d7e2",
            "5aa6b9cbc42b431199be3162aef91cae",
            "2b1df5666d8b413391a22edac89abcad",
            "b21df4d139164fdeb5b00a7e0bd5c8e8",
            "c91f924dbb6b4313b202aa63adf9fd81",
            "984c0bb4f11845bd80692872e14b59ad",
            "59131bb260d44479892d69e1b87f7c0f",
            "620b99cf1d934475a53f7704333ccdd2",
            "6a063edacece472bb113da479645a89c",
            "501af3b09b0647c5bec621372fe57861",
            "48bef67a2ada495aaf03dc978c1fea81",
            "6e010ac5653445cdaa3ada1561719094",
            "75a5782e37794cc5b31d7627eebc784c",
            "78b75755eec4455f83414184182f675d",
            "13c3b6056e8f43a7960ac26eec2aedb4",
            "de43cec71baa4fccb5f9531ea5e546ef",
            "bdb8468f79f740d5bd0789b664c52649",
            "56dbd5db23cf41c9938ee68791d5b66f",
            "5c7ea1ebc072425c8e85548b6f69d0da",
            "71a55ecb42a54074b236b873645ada02",
            "953ae0e2a5eb4988889f47e7c1b0e7b1",
            "0b8f8a1ddecf45e6815416ae07d685a1",
            "309fcfd10d754bcaa87f8cca202ac17f",
            "638ba08f794e480991deed6b810b3af4",
            "7738a6a1fa7b4a2e90d5ccd18be798e5",
            "55aa91a871894e3abee3f49007a0609c",
            "7f9707fa91d04fba973ddfe0dad1f9d5",
            "0178656447f34b138b3df0900938d8b3",
            "cd5759f9794b4b9c8d86f08c30a7380c",
            "d1907671fbd846c1a5aa0d0773c80114",
            "ab46f3fda59e4d42b52ec5258ad83671",
            "221a06eefe9f4e18a7102a97ed241671",
            "7e32d5a4c8a24ea7ac78b257191a8ff5",
            "4ec2a247c18f4c428a2ae94caedabd59",
            "bbb7fb55182b4607a4f5454b124e7ec6",
            "6df52eb0dc9a414399262899192c2530",
            "066ef511c76a4187929377e16218baa4",
            "de8821d15e664e159792536a8ccadbd8",
            "bfcf0dd580874053b165f6b284790a1f",
            "9ddf565712ef4cb9839a5cf40e332da2",
            "3686134686094b13b5786d568b1ed788",
            "9fc4e8d0bdf44ae98f8406711802a189",
            "37f71cf5e23b47d58f5a9440b2036985",
            "4de3aeeef7554661aca8a8fef8ca7e1e",
            "1f38bc547d774800a69b5fcaab1c816b",
            "8259a7dee1954242b89068c1ece5e708",
            "275723d29236422f9a7802664005228e",
            "22ba979917e34fe5b8f1740848a16760",
            "7ff349f0fd444dae9364709ff047cb58",
            "5bab79d0014b44f991e49b26c6de2345",
            "c1e2d721542b484ca00a85c4a2a48ef9",
            "388cf4a85b6f424cafef0fc6fde12c45",
            "ca60438c63194b068cfe81ccab1aa2b0",
            "7b32c6128371412da5fdf67633e42c1c",
            "f495adf68bd846579d78913f4b3ee67e",
            "b364a1e09c49466e8b56416ea95f4458",
            "396d63db5e7e49d887825db799947f75",
            "4a9c8fc42beb4840968a02f573304a26",
            "7578ff134e1f41cb90f473a04d292592",
            "a0de5befeb7049e796a8597ad32156ae",
            "9aa57f54534e49adb5c7cf2df75e9ad7",
            "3dd9e3d9b93348d09821f37b58887344",
            "7ef1516532584d948baafb03416809a0",
            "43f361f256424e47bd73e1a17506686b",
            "1a7fcfa4b07644c483e472947870ca33",
            "bcc9a7a921fb4d5dba374e82150df67d",
            "1350b12bcc504071ac874eaef2028ea9",
            "538c67d2b69b4780a8e4a66c5f98dd3c",
            "265e1308e53f4d60abc1d5ea90005cd8",
            "d134c8ed8dc641bebf78fdb8567cd4d2",
            "2d3ab26c99ed40e5803fa122e3628cab",
            "d59b224f22864fdcafbf228519588925",
            "96bcfc2999934b93b67e989d85948758",
            "69bb62f9422e47cd877fdfe99a89da10",
            "c1162dc0010f44cb8180a556ecf3c52c",
            "75aa51d8fcf6461380ba91e93e389d0a",
            "8da3db40ea4b49d1a34745e1b5001e5c",
            "6a816a65e0c745a38a4e574a2b508400",
            "559515eabc234cdaacaa8a658966fe0b",
            "93666e92f07848d883fb254e48cd88ef",
            "6802f2abe4354dc58bcb97bb3384041b",
            "42ecd97563b54e6fbedf5b2b5f3b08ea",
            "de957918a7ca4e748ea07d237b36111e",
            "ce0e0cd7bd6842419492a0a029ee9fa6",
            "bd14679d59194f59819722a4a132ce34",
            "6a2dbd28a2334dcfa78598c5563d921b",
            "aa23b7d32aca4ac1b2b21b9ef5cec797",
            "9ac84bdf7eb1401985cbf06abc3b6f30",
            "539a79d35f3d4034bb88730b0f3e6bed",
            "1c89ae2e6ad0484588edc0003cb93146",
            "2e36547f9fc34a149a555ac7ace99cc2",
            "99903f85e0b24469812b22ef2d1831a9",
            "38828217202e406a9c1c09605a543679",
            "f2e3f74ed5d24dfe8ca353b07e0be928",
            "28bef5c3bb094a5488658aacd2434b11",
            "e8cbaf4770df4c5894480e9b23bb0a3e",
            "16d0c28f817a4b9aa5ac72920e9e2857",
            "6c384f49f8534932a06a882dc4796b32",
            "2759cb0d36f84678858f596e6fd49538",
            "82ce9eb964ad44df8eb779ce972376c8",
            "f1e53d3f49224767a2fae59cda97319d",
            "0a9f1762a0f74a1b88f27277faad531c",
            "e607765ace4a467e9c62dbf8ddc62515",
            "5515532fb00d4ecf946d622a28dd7c5e",
            "2fecf529db9d4664b24df7bd778ef097",
            "81f69ff172a441799c6989aab90cd4f6",
            "cab9089fae5c4e2f827dbf27c451348b",
            "fad8fadd31c84ae08a063b65f1f900fc",
            "4270b970a6004522b9f53e59c04b0890",
            "09134116489646828e7cf9453c5e4083",
            "3d63e51685d0444182bba1a109e42339",
            "701053302f2141d084ac833a010a34ff",
            "b6e8dc6e993444da8c7cdd7d2ce433da",
            "987590c3cdb542fcb7a09837e558d2eb",
            "4dabad26090e420094e1e106949f398d",
            "006907da9d9b42ea972a9a04f1199972",
            "96fd079edb8c468990b97879c1512911",
            "aa2dd6a74a834d7492141216e40434a6",
            "faf2f8f84d2d4d8cbbd332b42d66c38f",
            "a41bc02f075141c2a7820e2cbe2949e9",
            "41d57ca647644a6f84c2c421cafae1cb",
            "d327f9c01b384def91fd48611af4d7ba",
            "1c8bb76a57e2427e9315879a7a3ed612",
            "fb96f71d241d43c39f1bdadcc9758ddc",
            "3fed7627efe54f039feac4be5d5e64c3",
            "8995bafddc39464d98fdff93ae319748",
            "51bae0d0c7144044aa5dd42062906612",
            "e98920309f4b46f8b6bf3cd0eaac5289",
            "bfafdab1a04346a2b1864b1070331a5f",
            "00a4ec929f9c449bb4ab0f457f9a7b4e",
            "2620efc129f1416b96c03a505f6e1289",
            "4ab4ae7a631d483197b9fe1eb79596d9",
            "6755735ffa5f4320b297b2434286d99c",
            "a5f69f417aa34daabb15e0a83b7fc448",
            "7266957e75ac4fc6bb6b24102e6006c7",
            "530b84026f1b4c3698ede1604b724801",
            "b41759d72ddc46a2af561879a6390d13",
            "42f81a6e194448009e47192795e3b076",
            "151b8b7acdc44b4babcb04e7955db935",
            "302a1fa796084bd9afbe8296aed81b2e",
            "234519988e0742c1bdccb14d547ac950",
            "fb73a851d5fc4c0385028255b8133ace",
            "bc3e5d97c71b4ee88625b5d1a5df11ca",
            "7bc0b48005854aa78fba234dc66cf958",
            "c089c2769d7942508edbda22d625a7c4",
            "1811b28a9bdf4b40b057b55db6b47577",
            "e73c3c40264b4b3fa4e85bcb45e52e83",
            "075ee5d11c2d4a1ea2d42ce8ca61da72",
            "f9d790cc57c14caf9167f5e475e4bdc7",
            "24c8a2ee2b7b4728af7f707b02b915f5",
            "99e50f7f7603442bbe0585713454ac7d",
            "38b96a8f339d4f6ebb89b872d12c9586",
            "c50878e1856e45af960b27836e6198fb",
            "c18621db774e4915b46a9c2ec84b2487",
            "26640c2c829d4c92bb9639fa6e8a1d8e",
            "d8d72034a7934fd9a414df434aca7b35",
            "bab0b606f8e64b9996b90ee10e339966",
            "866977dd82814f5dbbfbdb9d40ffdb30",
            "60935e2b71a84182ab02ebc8409695fc",
            "37dbc58ed560423dbeb4bce8d43ab134",
            "b1670481bc0b4243bef41090485664af",
            "0a5274016be44f0ebf63153cc654885e",
            "1fae0de2d1e1468b845890a0e2bc1e2c",
            "77c372032b3740fbb44f1b00ad3034b3",
            "5710b8d3929b4ba7b01d61ec7aa795e3",
            "0987edd8c8a44ba4b9097452320a486c",
            "ec2377bf7ef54d7791935a7f6ef1e291",
            "bcd77f32ad9f4cba932b99140ce01206",
            "635531560e7846fdbcf20a1e0a9063e3",
            "2f455edfec1d4fa6a04a5e6084a92a09",
            "d44292e4ea2f4221a01027f4db914250",
            "b056e450ed684bb8a454c0e0f1bc8150",
            "3420f44599bd4f80abf1a20ebb51d807",
            "df6455172b7a43cd8c00c1c95febc9df",
            "0c26e30369e54e03a1e6bf248639edb2",
            "b1908c63f831481398418626861483d2",
            "f54780ae27bc4b01ae82d34c7e999224",
            "38c4d863d1084a98869a14b58f056c32",
            "486adb56fe994ab29a5b18207393cb72",
            "81024e56529c4e55a76f9d69131b8ae1",
            "b78f8639b3b543fcb59c3abb1ba08852",
            "8dc8d069e329474292e38a6d4e34e23d",
            "0cfbe9a7146742d093c7ea9aa0580beb",
            "906052674e1648c6bd7d4338526f6219",
            "2b047f983a19414d86d943ab34547d8d",
            "566bacea5b4e43729b7242ac38224e30",
            "455d213663394e44aab562f6027e6fde",
            "e5811e4e85c142a984203bba2a34999d",
            "8c10d0a268d34c57b6cfc0956f98ea05",
            "6b1ffeb606f640b1a2d26030d60216e2",
            "32d8c44662234baa94042b2667aafe10",
            "5c29c15acb36445e9ea830949254d687",
            "95eed7b26ea848e0b8edb7c535e7c89e",
            "8fe75432c04c4e058512482927aeb6d1",
            "7ff2bbb1280242e0831f85865a42dee7",
            "00cb2ff710b5409fb144ebda4533b130",
            "2dac9242b7ab4d5d96d010ea996d1d39",
            "bb864e214c504fd6be9f105c6cb6064e",
            "f46686c1196b414fb2017e1b469e6934",
            "27b1b51ce25a4ffcb8ca86a9f88cdbb1",
            "49109bca7c574f1c81abcb31b7353728",
            "c6d08545584943de920388b6db012f03",
            "da284ea8e2ee4d719a05f7e53a4e8291",
            "a61df081264045a28372816fcfe7b04c",
            "91a0516d76a744a58c97c39827ede1be",
            "25e95e932c2e456595624fb9b29d583e",
            "ad0a5c2ac0624a149152601a20d808fd",
            "04e61ac9887d4275b904ffabf7fc423a",
            "ea94f1d8bd4a496b89ea4aff554ea779",
            "5b22a09c514d4ac8b354b3002b3ad429",
            "b8fc03d9d7604a66b73e5be5a0f436a5",
            "aadb7f15bb1f4c659e00a89fbb943126",
            "994b420bf8154383b4630be8726c6b25",
            "cec17267752c463481084e700781f295",
            "5c0d82f40d7b4060ab66743053d2a648",
            "50f1dd12d7ae437d8dfdf9399a9fd2c2",
            "21cfae0b403e4d358dc91ebc40991359",
            "57ad43ade94c48ad9b1a67bab7194fb9",
            "605e59c91f7f4f9f91774170a8b59bf3",
            "3cc8704b671d4719bb0207e7a8a0b90d",
            "d1437723e2eb4c978dcac4468968227c",
            "a75f3f8848af494eb7da43383cb511de",
            "696c4cba51c94535b60dcc9959237a98",
            "4d4a471ad0154149864a832a7aaad0d2",
            "c02c6413360247a59ed62230ab44f696",
            "b75073e17a7a48b7a3c3b00bef9b23c8",
            "1079ac832d2c41279ba44fbe922af023",
            "9368a8dc975e4ca58a6f2c579f0054ee",
            "01eabd54ff844c80b9247cce3445f595",
            "ad2c4380d2644145866b4a7cb686c0df",
            "302316f58a214d2b9e9493fe8abc5d70",
            "3f1191cbed174918a378c52ea13bec32",
            "47809b4142c34521927c64d9cd70eb3a",
            "0208772cc16643e6840073e1851a9bcd",
            "e8d23e77b7114b738ee4e9613633cd01",
            "68827f84031744158f2647e8d5ac4105",
            "e55ecac2e28242e8bb28beb264a5f985",
            "e686465fe0e14b1a80ffeeb91f7e76ae",
            "61538554a2e44f2c9989d677a24fe26e",
            "b7d5c1815453492b9aebb87d7b8d3431",
            "ff96baed0e484e7d8cbd477c061264af",
            "02239d22b7944023b6655f2904c73bd0",
            "52e9ce7451f349699e61d2520507a2af",
            "feb42102860e426da8147ce3e4c0e115",
            "4099a0a1b47c41d59680926c16f012e6",
            "f90a889cd98b47d6a2d77ebc77cabf09",
            "771cbc6023ec417586fc788c5db62f35",
            "5b7a04936d644777bb6a741a15a29f18",
            "1ac55320109445439bd306dc6b0a4781",
            "208f9504133d4a419c9239a7b86e4ba1",
            "63e9768e011149bcbf905b95b94eeb05",
            "c131a8fe478647f3829a43705175ebe6",
            "f3aed8b68aa848f28cdd2ab7c3e7dbfd",
            "8191366fc8a545b3bcba485a4614499b",
            "68b94394eec44216b36c86f07baa09e4",
            "09b17e033460446f8c5bb1545b40c882",
            "172f6e98c8424972b66af58b9c793cc3",
            "059c35de46a243bdba1b9da968e98dc2",
            "8d02c87715694599a7690c4c6b458a19",
            "3fee644d76094417bb9f40aabd0eb79a",
            "21763ed6e8044b7c8bea825c381f6ce6",
            "3c04b6c7b87b422eaa05727afb09643e",
            "2289630d4a984d9ea53bd515411cea9c",
            "a7d4a19d799d4d678cce09294037d99a",
            "4ebc7a01f92143138250eac452c47c1a",
            "fa253a1be621479ab733c68d6a178b41",
            "f80e61006a79447986913ea890e100da",
            "797172817b394a93b26f4180716457b0",
            "cbb2515122b14191b800138d85cbcac4",
            "8ff1446c29464343bb2bb5a807f9c765",
            "b18dc5a6686c4641aada6a88337653f5",
            "73d5a4d8603f422d9a5e9cd49f53b820",
            "a637183db16b43e1b566bc53dd76e8f4",
            "ecefe614062f41a6b37170d74f5dff62",
            "469c2778e31845a8b2f2ea32bd66398f",
            "d0161b3b8924456f81f0b5d564806630",
            "c626b5023d5e406d8dfe7f71fe02f33f",
            "47c188f04fa44156a226a5dbe92ce6d7",
            "add70b2e4128442089f3f8272641c1f8",
            "8b5c1770b90d4211b272cf52035091a6",
            "f9f9195f41094fc4b4788bfbdb354e69",
            "f705b2391b7c4a32b5f7e2a5c5fee211",
            "e51f245961a14505a9711136ac8fcaee",
            "5d5a46b7aafc4ec49c6ddd1b1eaa1dba",
            "0a3aaffcc90b43d39ccde4f6f797cad0",
            "61b06942140f42c89ae054c5aba67d95",
            "8ec100a5c29d4850bdeb92b9849323f8",
            "78627da9124e4f259d871849acfe16ed",
            "a9e7b42b6bc149629d9ec53dcf3606af",
            "7df1433056ed4fd98b1d01b5dc95b7ce",
            "1953ce324bfe469083eebb8a792c4d65",
            "9661896005834886b04feab164676039",
            "0c04dda2c7224a56a3175fcf1da32bb1",
            "31d162ca9e634e829977551716bfa339",
            "35034353b08a4bcca88a9fef353483e3",
            "36cc3a980e234e74963c3aa701d14c6d",
            "b6605da56e694394a48bb4a1d5cb48b0",
            "e7b2d3c3cf3543d6b67c20b6c05513ce",
            "15adc50330d9457d8ccd21376817fae3",
            "5c1bf00acc8c4ef5aeb50861e277dae7",
            "340895e08f9c4defb39962d54d14f30a",
            "440f4c4e995949268cbf3a8e0dce146d",
            "ba3dde67180b4798a8af38331fb8f9af",
            "6deae7d084084b99870ff6356c0d35ee",
            "b291a27a2a9f4158a4ef52b43337061f",
            "f634230e356541e3bdbbade1f09669e8",
            "7599201200024791a32faecf22c2ec76",
            "ceec892f678348a5baa26d508906d2ab",
            "bc063bf693e4423199fbc2499050ff30",
            "955d357b82dd41e7a9e0c5abc734e2d1",
            "b4e50cdb09f64d8c893a79f3d6140c04",
            "bc7cf8643fc24c32a5c8a68d55b30b15",
            "8c25e11c19c147e18f540623a33a7e76",
            "7b74ce9fb3f14b62acbbfcf64c505a78",
            "2adc00993a684ae18472f63a805fad1f"
          ]
        },
        "id": "qO7g9h2Vp0q_",
        "outputId": "ab15e11b-9de6-4262-83ed-ab8261f58e95"
      },
      "outputs": [
        {
          "output_type": "stream",
          "name": "stderr",
          "text": [
            "INFO:pytorch_lightning.utilities.rank_zero:GPU available: True (cuda), used: True\n",
            "INFO:pytorch_lightning.utilities.rank_zero:TPU available: False, using: 0 TPU cores\n",
            "INFO:pytorch_lightning.utilities.rank_zero:HPU available: False, using: 0 HPUs\n",
            "INFO:pytorch_lightning.utilities.rank_zero:You are using a CUDA device ('NVIDIA A100-SXM4-40GB') that has Tensor Cores. To properly utilize them, you should set `torch.set_float32_matmul_precision('medium' | 'high')` which will trade-off precision for performance. For more details, read https://pytorch.org/docs/stable/generated/torch.set_float32_matmul_precision.html#torch.set_float32_matmul_precision\n"
          ]
        },
        {
          "output_type": "stream",
          "name": "stdout",
          "text": [
            "Train sequences: 1048, Val sequences: 131, Test sequences: 131\n"
          ]
        },
        {
          "output_type": "stream",
          "name": "stderr",
          "text": [
            "INFO:pytorch_lightning.accelerators.cuda:LOCAL_RANK: 0 - CUDA_VISIBLE_DEVICES: [0]\n",
            "INFO:pytorch_lightning.callbacks.model_summary:\n",
            "  | Name         | Type               | Params | Mode \n",
            "------------------------------------------------------------\n",
            "0 | encoder      | Linear             | 384    | train\n",
            "1 | transformer  | TransformerEncoder | 593 K  | train\n",
            "2 | gru          | GRU                | 99.1 K | train\n",
            "3 | output_layer | Linear             | 129    | train\n",
            "4 | criterion    | MSELoss            | 0      | train\n",
            "------------------------------------------------------------\n",
            "692 K     Trainable params\n",
            "0         Non-trainable params\n",
            "692 K     Total params\n",
            "2.770     Total estimated model params size (MB)\n",
            "16        Modules in train mode\n",
            "0         Modules in eval mode\n"
          ]
        },
        {
          "output_type": "display_data",
          "data": {
            "text/plain": [
              "Sanity Checking: |          | 0/? [00:00<?, ?it/s]"
            ],
            "application/vnd.jupyter.widget-view+json": {
              "version_major": 2,
              "version_minor": 0,
              "model_id": "83c84e8079ca4ab989c77ee4f79ab3d1"
            }
          },
          "metadata": {}
        },
        {
          "output_type": "display_data",
          "data": {
            "text/plain": [
              "Training: |          | 0/? [00:00<?, ?it/s]"
            ],
            "application/vnd.jupyter.widget-view+json": {
              "version_major": 2,
              "version_minor": 0,
              "model_id": "a6cd0766f0c64f198475cc44bb8d238c"
            }
          },
          "metadata": {}
        },
        {
          "output_type": "display_data",
          "data": {
            "text/plain": [
              "Validation: |          | 0/? [00:00<?, ?it/s]"
            ],
            "application/vnd.jupyter.widget-view+json": {
              "version_major": 2,
              "version_minor": 0,
              "model_id": "f180c4dec8c948ea93f073e3abdd9236"
            }
          },
          "metadata": {}
        },
        {
          "output_type": "display_data",
          "data": {
            "text/plain": [
              "Validation: |          | 0/? [00:00<?, ?it/s]"
            ],
            "application/vnd.jupyter.widget-view+json": {
              "version_major": 2,
              "version_minor": 0,
              "model_id": "f3437690d88744deb84028f043e5e758"
            }
          },
          "metadata": {}
        },
        {
          "output_type": "display_data",
          "data": {
            "text/plain": [
              "Validation: |          | 0/? [00:00<?, ?it/s]"
            ],
            "application/vnd.jupyter.widget-view+json": {
              "version_major": 2,
              "version_minor": 0,
              "model_id": "dd9017dafc224dbab867165757bae7f4"
            }
          },
          "metadata": {}
        },
        {
          "output_type": "display_data",
          "data": {
            "text/plain": [
              "Validation: |          | 0/? [00:00<?, ?it/s]"
            ],
            "application/vnd.jupyter.widget-view+json": {
              "version_major": 2,
              "version_minor": 0,
              "model_id": "f28804b51a234fc6af1783ed538b8bf0"
            }
          },
          "metadata": {}
        },
        {
          "output_type": "display_data",
          "data": {
            "text/plain": [
              "Validation: |          | 0/? [00:00<?, ?it/s]"
            ],
            "application/vnd.jupyter.widget-view+json": {
              "version_major": 2,
              "version_minor": 0,
              "model_id": "867a02fe1c2747bb9e307e2e282be97d"
            }
          },
          "metadata": {}
        },
        {
          "output_type": "display_data",
          "data": {
            "text/plain": [
              "Validation: |          | 0/? [00:00<?, ?it/s]"
            ],
            "application/vnd.jupyter.widget-view+json": {
              "version_major": 2,
              "version_minor": 0,
              "model_id": "34f1a67a9d294c90ab6044a6b2c969c0"
            }
          },
          "metadata": {}
        },
        {
          "output_type": "display_data",
          "data": {
            "text/plain": [
              "Validation: |          | 0/? [00:00<?, ?it/s]"
            ],
            "application/vnd.jupyter.widget-view+json": {
              "version_major": 2,
              "version_minor": 0,
              "model_id": "56f90f788e9241cbb932d40816517da0"
            }
          },
          "metadata": {}
        },
        {
          "output_type": "display_data",
          "data": {
            "text/plain": [
              "Validation: |          | 0/? [00:00<?, ?it/s]"
            ],
            "application/vnd.jupyter.widget-view+json": {
              "version_major": 2,
              "version_minor": 0,
              "model_id": "07945dddb8ff493484d6791c75cf38e0"
            }
          },
          "metadata": {}
        },
        {
          "output_type": "display_data",
          "data": {
            "text/plain": [
              "Validation: |          | 0/? [00:00<?, ?it/s]"
            ],
            "application/vnd.jupyter.widget-view+json": {
              "version_major": 2,
              "version_minor": 0,
              "model_id": "23a227ed0f6b41308341ee08cb00f3a3"
            }
          },
          "metadata": {}
        },
        {
          "output_type": "display_data",
          "data": {
            "text/plain": [
              "Validation: |          | 0/? [00:00<?, ?it/s]"
            ],
            "application/vnd.jupyter.widget-view+json": {
              "version_major": 2,
              "version_minor": 0,
              "model_id": "c8ec775e8439487a8104521abc96a38e"
            }
          },
          "metadata": {}
        },
        {
          "output_type": "display_data",
          "data": {
            "text/plain": [
              "Validation: |          | 0/? [00:00<?, ?it/s]"
            ],
            "application/vnd.jupyter.widget-view+json": {
              "version_major": 2,
              "version_minor": 0,
              "model_id": "55c92c40e74c40f49b7789b4002052e0"
            }
          },
          "metadata": {}
        },
        {
          "output_type": "display_data",
          "data": {
            "text/plain": [
              "Validation: |          | 0/? [00:00<?, ?it/s]"
            ],
            "application/vnd.jupyter.widget-view+json": {
              "version_major": 2,
              "version_minor": 0,
              "model_id": "77871bb3cdec46718604c5f8b7431368"
            }
          },
          "metadata": {}
        },
        {
          "output_type": "display_data",
          "data": {
            "text/plain": [
              "Validation: |          | 0/? [00:00<?, ?it/s]"
            ],
            "application/vnd.jupyter.widget-view+json": {
              "version_major": 2,
              "version_minor": 0,
              "model_id": "e284aa83878443039d7ef3a9f924256f"
            }
          },
          "metadata": {}
        },
        {
          "output_type": "display_data",
          "data": {
            "text/plain": [
              "Validation: |          | 0/? [00:00<?, ?it/s]"
            ],
            "application/vnd.jupyter.widget-view+json": {
              "version_major": 2,
              "version_minor": 0,
              "model_id": "8c502e09e73043de8defe36ebee5b68c"
            }
          },
          "metadata": {}
        },
        {
          "output_type": "display_data",
          "data": {
            "text/plain": [
              "Validation: |          | 0/? [00:00<?, ?it/s]"
            ],
            "application/vnd.jupyter.widget-view+json": {
              "version_major": 2,
              "version_minor": 0,
              "model_id": "a6b7ea7505de4ce9a675b5cbb4dac8dd"
            }
          },
          "metadata": {}
        },
        {
          "output_type": "display_data",
          "data": {
            "text/plain": [
              "Validation: |          | 0/? [00:00<?, ?it/s]"
            ],
            "application/vnd.jupyter.widget-view+json": {
              "version_major": 2,
              "version_minor": 0,
              "model_id": "36b50b70905745b79ba87fa9cd04de01"
            }
          },
          "metadata": {}
        },
        {
          "output_type": "display_data",
          "data": {
            "text/plain": [
              "Validation: |          | 0/? [00:00<?, ?it/s]"
            ],
            "application/vnd.jupyter.widget-view+json": {
              "version_major": 2,
              "version_minor": 0,
              "model_id": "e5a08a7b287d4131b168aaf955c4df44"
            }
          },
          "metadata": {}
        },
        {
          "output_type": "display_data",
          "data": {
            "text/plain": [
              "Validation: |          | 0/? [00:00<?, ?it/s]"
            ],
            "application/vnd.jupyter.widget-view+json": {
              "version_major": 2,
              "version_minor": 0,
              "model_id": "93347474a0a340f7bd7e113c2b18cde3"
            }
          },
          "metadata": {}
        },
        {
          "output_type": "display_data",
          "data": {
            "text/plain": [
              "Validation: |          | 0/? [00:00<?, ?it/s]"
            ],
            "application/vnd.jupyter.widget-view+json": {
              "version_major": 2,
              "version_minor": 0,
              "model_id": "8679ee064a074e3793a07445f6142351"
            }
          },
          "metadata": {}
        },
        {
          "output_type": "display_data",
          "data": {
            "text/plain": [
              "Validation: |          | 0/? [00:00<?, ?it/s]"
            ],
            "application/vnd.jupyter.widget-view+json": {
              "version_major": 2,
              "version_minor": 0,
              "model_id": "7441cbcb9d8344a48685ba6c770d74e5"
            }
          },
          "metadata": {}
        },
        {
          "output_type": "display_data",
          "data": {
            "text/plain": [
              "Validation: |          | 0/? [00:00<?, ?it/s]"
            ],
            "application/vnd.jupyter.widget-view+json": {
              "version_major": 2,
              "version_minor": 0,
              "model_id": "08cad91b303a489b96224e6259d1fcb8"
            }
          },
          "metadata": {}
        },
        {
          "output_type": "display_data",
          "data": {
            "text/plain": [
              "Validation: |          | 0/? [00:00<?, ?it/s]"
            ],
            "application/vnd.jupyter.widget-view+json": {
              "version_major": 2,
              "version_minor": 0,
              "model_id": "12eac6eebd1744148fb1091b7ff22552"
            }
          },
          "metadata": {}
        },
        {
          "output_type": "display_data",
          "data": {
            "text/plain": [
              "Validation: |          | 0/? [00:00<?, ?it/s]"
            ],
            "application/vnd.jupyter.widget-view+json": {
              "version_major": 2,
              "version_minor": 0,
              "model_id": "620b99cf1d934475a53f7704333ccdd2"
            }
          },
          "metadata": {}
        },
        {
          "output_type": "display_data",
          "data": {
            "text/plain": [
              "Validation: |          | 0/? [00:00<?, ?it/s]"
            ],
            "application/vnd.jupyter.widget-view+json": {
              "version_major": 2,
              "version_minor": 0,
              "model_id": "5c7ea1ebc072425c8e85548b6f69d0da"
            }
          },
          "metadata": {}
        },
        {
          "output_type": "display_data",
          "data": {
            "text/plain": [
              "Validation: |          | 0/? [00:00<?, ?it/s]"
            ],
            "application/vnd.jupyter.widget-view+json": {
              "version_major": 2,
              "version_minor": 0,
              "model_id": "d1907671fbd846c1a5aa0d0773c80114"
            }
          },
          "metadata": {}
        },
        {
          "output_type": "display_data",
          "data": {
            "text/plain": [
              "Validation: |          | 0/? [00:00<?, ?it/s]"
            ],
            "application/vnd.jupyter.widget-view+json": {
              "version_major": 2,
              "version_minor": 0,
              "model_id": "3686134686094b13b5786d568b1ed788"
            }
          },
          "metadata": {}
        },
        {
          "output_type": "display_data",
          "data": {
            "text/plain": [
              "Validation: |          | 0/? [00:00<?, ?it/s]"
            ],
            "application/vnd.jupyter.widget-view+json": {
              "version_major": 2,
              "version_minor": 0,
              "model_id": "388cf4a85b6f424cafef0fc6fde12c45"
            }
          },
          "metadata": {}
        },
        {
          "output_type": "display_data",
          "data": {
            "text/plain": [
              "Validation: |          | 0/? [00:00<?, ?it/s]"
            ],
            "application/vnd.jupyter.widget-view+json": {
              "version_major": 2,
              "version_minor": 0,
              "model_id": "7ef1516532584d948baafb03416809a0"
            }
          },
          "metadata": {}
        },
        {
          "output_type": "display_data",
          "data": {
            "text/plain": [
              "Validation: |          | 0/? [00:00<?, ?it/s]"
            ],
            "application/vnd.jupyter.widget-view+json": {
              "version_major": 2,
              "version_minor": 0,
              "model_id": "69bb62f9422e47cd877fdfe99a89da10"
            }
          },
          "metadata": {}
        },
        {
          "output_type": "display_data",
          "data": {
            "text/plain": [
              "Validation: |          | 0/? [00:00<?, ?it/s]"
            ],
            "application/vnd.jupyter.widget-view+json": {
              "version_major": 2,
              "version_minor": 0,
              "model_id": "bd14679d59194f59819722a4a132ce34"
            }
          },
          "metadata": {}
        },
        {
          "output_type": "display_data",
          "data": {
            "text/plain": [
              "Validation: |          | 0/? [00:00<?, ?it/s]"
            ],
            "application/vnd.jupyter.widget-view+json": {
              "version_major": 2,
              "version_minor": 0,
              "model_id": "e8cbaf4770df4c5894480e9b23bb0a3e"
            }
          },
          "metadata": {}
        },
        {
          "output_type": "display_data",
          "data": {
            "text/plain": [
              "Validation: |          | 0/? [00:00<?, ?it/s]"
            ],
            "application/vnd.jupyter.widget-view+json": {
              "version_major": 2,
              "version_minor": 0,
              "model_id": "cab9089fae5c4e2f827dbf27c451348b"
            }
          },
          "metadata": {}
        },
        {
          "output_type": "display_data",
          "data": {
            "text/plain": [
              "Validation: |          | 0/? [00:00<?, ?it/s]"
            ],
            "application/vnd.jupyter.widget-view+json": {
              "version_major": 2,
              "version_minor": 0,
              "model_id": "aa2dd6a74a834d7492141216e40434a6"
            }
          },
          "metadata": {}
        },
        {
          "output_type": "display_data",
          "data": {
            "text/plain": [
              "Validation: |          | 0/? [00:00<?, ?it/s]"
            ],
            "application/vnd.jupyter.widget-view+json": {
              "version_major": 2,
              "version_minor": 0,
              "model_id": "bfafdab1a04346a2b1864b1070331a5f"
            }
          },
          "metadata": {}
        },
        {
          "output_type": "display_data",
          "data": {
            "text/plain": [
              "Validation: |          | 0/? [00:00<?, ?it/s]"
            ],
            "application/vnd.jupyter.widget-view+json": {
              "version_major": 2,
              "version_minor": 0,
              "model_id": "302a1fa796084bd9afbe8296aed81b2e"
            }
          },
          "metadata": {}
        },
        {
          "output_type": "display_data",
          "data": {
            "text/plain": [
              "Validation: |          | 0/? [00:00<?, ?it/s]"
            ],
            "application/vnd.jupyter.widget-view+json": {
              "version_major": 2,
              "version_minor": 0,
              "model_id": "99e50f7f7603442bbe0585713454ac7d"
            }
          },
          "metadata": {}
        },
        {
          "output_type": "display_data",
          "data": {
            "text/plain": [
              "Validation: |          | 0/? [00:00<?, ?it/s]"
            ],
            "application/vnd.jupyter.widget-view+json": {
              "version_major": 2,
              "version_minor": 0,
              "model_id": "0a5274016be44f0ebf63153cc654885e"
            }
          },
          "metadata": {}
        },
        {
          "output_type": "display_data",
          "data": {
            "text/plain": [
              "Validation: |          | 0/? [00:00<?, ?it/s]"
            ],
            "application/vnd.jupyter.widget-view+json": {
              "version_major": 2,
              "version_minor": 0,
              "model_id": "3420f44599bd4f80abf1a20ebb51d807"
            }
          },
          "metadata": {}
        },
        {
          "output_type": "display_data",
          "data": {
            "text/plain": [
              "Validation: |          | 0/? [00:00<?, ?it/s]"
            ],
            "application/vnd.jupyter.widget-view+json": {
              "version_major": 2,
              "version_minor": 0,
              "model_id": "906052674e1648c6bd7d4338526f6219"
            }
          },
          "metadata": {}
        },
        {
          "output_type": "display_data",
          "data": {
            "text/plain": [
              "Validation: |          | 0/? [00:00<?, ?it/s]"
            ],
            "application/vnd.jupyter.widget-view+json": {
              "version_major": 2,
              "version_minor": 0,
              "model_id": "7ff2bbb1280242e0831f85865a42dee7"
            }
          },
          "metadata": {}
        },
        {
          "output_type": "display_data",
          "data": {
            "text/plain": [
              "Validation: |          | 0/? [00:00<?, ?it/s]"
            ],
            "application/vnd.jupyter.widget-view+json": {
              "version_major": 2,
              "version_minor": 0,
              "model_id": "25e95e932c2e456595624fb9b29d583e"
            }
          },
          "metadata": {}
        },
        {
          "output_type": "display_data",
          "data": {
            "text/plain": [
              "Validation: |          | 0/? [00:00<?, ?it/s]"
            ],
            "application/vnd.jupyter.widget-view+json": {
              "version_major": 2,
              "version_minor": 0,
              "model_id": "21cfae0b403e4d358dc91ebc40991359"
            }
          },
          "metadata": {}
        },
        {
          "output_type": "display_data",
          "data": {
            "text/plain": [
              "Validation: |          | 0/? [00:00<?, ?it/s]"
            ],
            "application/vnd.jupyter.widget-view+json": {
              "version_major": 2,
              "version_minor": 0,
              "model_id": "9368a8dc975e4ca58a6f2c579f0054ee"
            }
          },
          "metadata": {}
        },
        {
          "output_type": "display_data",
          "data": {
            "text/plain": [
              "Validation: |          | 0/? [00:00<?, ?it/s]"
            ],
            "application/vnd.jupyter.widget-view+json": {
              "version_major": 2,
              "version_minor": 0,
              "model_id": "61538554a2e44f2c9989d677a24fe26e"
            }
          },
          "metadata": {}
        },
        {
          "output_type": "display_data",
          "data": {
            "text/plain": [
              "Validation: |          | 0/? [00:00<?, ?it/s]"
            ],
            "application/vnd.jupyter.widget-view+json": {
              "version_major": 2,
              "version_minor": 0,
              "model_id": "208f9504133d4a419c9239a7b86e4ba1"
            }
          },
          "metadata": {}
        },
        {
          "output_type": "display_data",
          "data": {
            "text/plain": [
              "Validation: |          | 0/? [00:00<?, ?it/s]"
            ],
            "application/vnd.jupyter.widget-view+json": {
              "version_major": 2,
              "version_minor": 0,
              "model_id": "21763ed6e8044b7c8bea825c381f6ce6"
            }
          },
          "metadata": {}
        },
        {
          "output_type": "display_data",
          "data": {
            "text/plain": [
              "Validation: |          | 0/? [00:00<?, ?it/s]"
            ],
            "application/vnd.jupyter.widget-view+json": {
              "version_major": 2,
              "version_minor": 0,
              "model_id": "73d5a4d8603f422d9a5e9cd49f53b820"
            }
          },
          "metadata": {}
        },
        {
          "output_type": "display_data",
          "data": {
            "text/plain": [
              "Validation: |          | 0/? [00:00<?, ?it/s]"
            ],
            "application/vnd.jupyter.widget-view+json": {
              "version_major": 2,
              "version_minor": 0,
              "model_id": "e51f245961a14505a9711136ac8fcaee"
            }
          },
          "metadata": {}
        },
        {
          "output_type": "display_data",
          "data": {
            "text/plain": [
              "Validation: |          | 0/? [00:00<?, ?it/s]"
            ],
            "application/vnd.jupyter.widget-view+json": {
              "version_major": 2,
              "version_minor": 0,
              "model_id": "31d162ca9e634e829977551716bfa339"
            }
          },
          "metadata": {}
        },
        {
          "output_type": "display_data",
          "data": {
            "text/plain": [
              "Validation: |          | 0/? [00:00<?, ?it/s]"
            ],
            "application/vnd.jupyter.widget-view+json": {
              "version_major": 2,
              "version_minor": 0,
              "model_id": "b291a27a2a9f4158a4ef52b43337061f"
            }
          },
          "metadata": {}
        },
        {
          "output_type": "stream",
          "name": "stderr",
          "text": [
            "INFO:pytorch_lightning.utilities.rank_zero:`Trainer.fit` stopped: `max_epochs=50` reached.\n"
          ]
        },
        {
          "output_type": "stream",
          "name": "stdout",
          "text": [
            "\n",
            "** Model Evaluation **\n",
            "MAE: 0.2828\n",
            "MSE: 0.2296\n",
            "RMSE: 0.4792\n",
            "R^2: 0.8505\n",
            "Test predictions saved to: /content/drive/MyDrive/dip_project/unimodal/numerical_model_test_predictions.csv\n"
          ]
        }
      ],
      "source": [
        "import os\n",
        "import torch\n",
        "import pandas as pd\n",
        "import numpy as np\n",
        "from torch import nn\n",
        "from torch.utils.data import DataLoader, TensorDataset\n",
        "from sklearn.preprocessing import StandardScaler\n",
        "import pytorch_lightning as pl\n",
        "from pytorch_lightning.loggers import CSVLogger\n",
        "from pytorch_lightning.callbacks import ModelCheckpoint\n",
        "from torch.nn import TransformerEncoder, TransformerEncoderLayer\n",
        "from sklearn.metrics import mean_absolute_error, mean_squared_error, r2_score\n",
        "\n",
        "os.environ[\"CUBLAS_WORKSPACE_CONFIG\"] = \":4096:8\"\n",
        "torch.use_deterministic_algorithms(False)\n",
        "\n",
        "\n",
        "# Parameters\n",
        "sequence_length = 3  # 3 consecutive timesteps\n",
        "numerical_features = [\"Ice Coverage (%)\", \"Retreat Area (Since 1979) (%)\"]\n",
        "target_column = \"Retreat Area (Yearly) (%)\"\n",
        "csv_file_path = \"/content/drive/MyDrive/dip_project/ice_extent_full_dataset.csv\"\n",
        "\n",
        "# Load dataset\n",
        "df = pd.read_csv(csv_file_path)\n",
        "df = df.sort_values([\"Year\", \"Image\"])\n",
        "\n",
        "def create_sequences(df, sequence_length, features, target_column):\n",
        "    sequences = []\n",
        "    targets = []\n",
        "    years = []\n",
        "    for i in range(len(df) - sequence_length + 1):\n",
        "        seq = df.iloc[i:i+sequence_length][features].values\n",
        "        target = df.iloc[i+sequence_length - 1][target_column]\n",
        "        year = df.iloc[i+sequence_length - 1][\"Year\"]\n",
        "        sequences.append(seq)\n",
        "        targets.append(target)\n",
        "        years.append(year)\n",
        "    return np.array(sequences), np.array(targets), np.array(years)\n",
        "\n",
        "# time series sequences\n",
        "sequences, targets, years = create_sequences(df, sequence_length, numerical_features, target_column)\n",
        "n = len(sequences)\n",
        "train_end = int(n * 0.8)\n",
        "val_end = int(n * 0.9)\n",
        "\n",
        "train_seqs = sequences[:train_end]\n",
        "val_seqs = sequences[train_end:val_end]\n",
        "test_seqs = sequences[val_end:]\n",
        "\n",
        "y_train = targets[:train_end]\n",
        "y_val = targets[train_end:val_end]\n",
        "y_test = targets[val_end:]\n",
        "year_train = years[:train_end]\n",
        "year_val = years[train_end:val_end]\n",
        "year_test = years[val_end:]\n",
        "\n",
        "# Normalize numerical features using StandardScaler\n",
        "scaler_num = StandardScaler()\n",
        "train_seqs_flat = train_seqs.reshape(-1, len(numerical_features))\n",
        "scaler_num.fit(train_seqs_flat)\n",
        "\n",
        "train_seqs = scaler_num.transform(train_seqs_flat).reshape(train_seqs.shape)\n",
        "val_seqs = scaler_num.transform(val_seqs.reshape(-1, len(numerical_features))).reshape(val_seqs.shape)\n",
        "test_seqs = scaler_num.transform(test_seqs.reshape(-1, len(numerical_features))).reshape(test_seqs.shape)\n",
        "\n",
        "scaler_target = StandardScaler()\n",
        "y_train = scaler_target.fit_transform(y_train.reshape(-1, 1)).flatten()\n",
        "y_val = scaler_target.transform(y_val.reshape(-1, 1)).flatten()\n",
        "y_test = scaler_target.transform(y_test.reshape(-1, 1)).flatten()\n",
        "\n",
        "# Convert data into PyTorch tensors\n",
        "X_train = torch.tensor(train_seqs, dtype=torch.float32)\n",
        "X_val = torch.tensor(val_seqs, dtype=torch.float32)\n",
        "X_test = torch.tensor(test_seqs, dtype=torch.float32)\n",
        "y_train = torch.tensor(y_train, dtype=torch.float32)\n",
        "y_val = torch.tensor(y_val, dtype=torch.float32)\n",
        "y_test = torch.tensor(y_test, dtype=torch.float32)\n",
        "\n",
        "# Create Datasets and DataLoaders\n",
        "train_dataset = TensorDataset(X_train, y_train)\n",
        "val_dataset = TensorDataset(X_val, y_val)\n",
        "test_dataset = TensorDataset(X_test, y_test)\n",
        "\n",
        "train_loader = DataLoader(train_dataset, batch_size=32, shuffle=True, num_workers=2)\n",
        "val_loader = DataLoader(val_dataset, batch_size=32, shuffle=False, num_workers=2)\n",
        "test_loader = DataLoader(test_dataset, batch_size=32, shuffle=False, num_workers=2)\n",
        "\n",
        "print(f\"Train sequences: {len(train_dataset)}, Val sequences: {len(val_dataset)}, Test sequences: {len(test_dataset)}\")\n",
        "\n",
        "# Unimodal Numerical Model using Transformer and GRU\n",
        "\n",
        "\n",
        "class NumericalTransformerGRUModel(pl.LightningModule):\n",
        "    def __init__(self, num_feature_dim, d_model=128, transformer_layers=1,\n",
        "                 gru_hidden_size=128, gru_layers=1, dropout=0.1, learning_rate=1e-4):\n",
        "\n",
        "        super().__init__()\n",
        "        self.save_hyperparameters()\n",
        "\n",
        "        # Encoder\n",
        "        self.encoder = nn.Linear(num_feature_dim, d_model)\n",
        "\n",
        "        # Transformer Encoder\n",
        "        encoder_layer = TransformerEncoderLayer(d_model=d_model,\n",
        "                                                nhead=4,\n",
        "                                                dropout=dropout,\n",
        "                                                batch_first=True)\n",
        "        self.transformer = TransformerEncoder(encoder_layer, num_layers=transformer_layers)\n",
        "\n",
        "        # GRU\n",
        "        self.gru = nn.GRU(input_size=d_model,\n",
        "                          hidden_size=gru_hidden_size,\n",
        "                          num_layers=gru_layers,\n",
        "                          batch_first=True,\n",
        "                          dropout=dropout if gru_layers > 1 else 0)\n",
        "\n",
        "        # Output Layer\n",
        "        self.output_layer = nn.Linear(gru_hidden_size, 1)\n",
        "\n",
        "        self.criterion = nn.MSELoss()\n",
        "        self.learning_rate = learning_rate\n",
        "\n",
        "    def forward(self, x):\n",
        "\n",
        "        x = self.encoder(x)\n",
        "        x = self.transformer(x)\n",
        "        _, h_n = self.gru(x)\n",
        "        final_hidden = h_n[-1]\n",
        "        output = self.output_layer(final_hidden).squeeze()\n",
        "        return output\n",
        "\n",
        "    def training_step(self, batch, batch_idx):\n",
        "        x, y = batch\n",
        "        y_pred = self(x)\n",
        "        loss = self.criterion(y_pred, y)\n",
        "        self.log(\"train_loss\", loss, prog_bar=True, on_epoch=True)\n",
        "        return loss\n",
        "\n",
        "    def validation_step(self, batch, batch_idx):\n",
        "        x, y = batch\n",
        "        y_pred = self(x)\n",
        "        loss = self.criterion(y_pred, y)\n",
        "        self.log(\"val_loss\", loss, prog_bar=True, on_epoch=True)\n",
        "        return loss\n",
        "\n",
        "    def configure_optimizers(self):\n",
        "        optimizer = torch.optim.AdamW(self.parameters(), lr=self.learning_rate)\n",
        "        scheduler = torch.optim.lr_scheduler.ReduceLROnPlateau(optimizer, mode=\"min\", patience=3, factor=0.5)\n",
        "        return {\"optimizer\": optimizer, \"lr_scheduler\": scheduler, \"monitor\": \"val_loss\"}\n",
        "\n",
        "\n",
        "# Train the Unimodal Numerical Model\n",
        "\n",
        "# CSV logging and checkpointing\n",
        "csv_logger = CSVLogger(save_dir=\"logs\", name=\"numerical_model\")\n",
        "checkpoint_callback = ModelCheckpoint(monitor=\"val_loss\", mode=\"min\", save_top_k=1)\n",
        "\n",
        "trainer = pl.Trainer(\n",
        "    max_epochs=50,\n",
        "    logger=csv_logger,\n",
        "    callbacks=[checkpoint_callback],\n",
        "    accelerator=\"gpu\" if torch.cuda.is_available() else \"cpu\",\n",
        "    devices=1,\n",
        "    log_every_n_steps=10,\n",
        "    enable_progress_bar=True\n",
        ")\n",
        "\n",
        "\n",
        "num_model = NumericalTransformerGRUModel(num_feature_dim=len(numerical_features))\n",
        "trainer.fit(num_model, train_dataloaders=train_loader, val_dataloaders=val_loader)\n",
        "\n",
        "# Evaluate the Model and Save Test Predictions\n",
        "\n",
        "\n",
        "def evaluate_model(model, loader, device=\"cpu\"):\n",
        "    model.to(device)\n",
        "    model.eval()\n",
        "    y_true, y_pred = [], []\n",
        "    with torch.no_grad():\n",
        "        for x, y in loader:\n",
        "            x, y = x.to(device), y.to(device)\n",
        "            y_hat = model(x)\n",
        "            y_true.extend(y.cpu().numpy())\n",
        "            y_pred.extend(y_hat.cpu().numpy())\n",
        "    return np.array(y_true), np.array(y_pred)\n",
        "\n",
        "device = \"cuda\" if torch.cuda.is_available() else \"cpu\"\n",
        "\n",
        "# Load the best model\n",
        "best_model = NumericalTransformerGRUModel.load_from_checkpoint(checkpoint_callback.best_model_path)\n",
        "y_true, y_pred = evaluate_model(best_model, test_loader, device)\n",
        "\n",
        "# evaluation metrics\n",
        "mae = mean_absolute_error(y_true, y_pred)\n",
        "mse = mean_squared_error(y_true, y_pred)\n",
        "rmse = np.sqrt(mse)\n",
        "r2 = r2_score(y_true, y_pred)\n",
        "\n",
        "print(\"\\n** Model Evaluation **\")\n",
        "print(f\"MAE: {mae:.4f}\")\n",
        "print(f\"MSE: {mse:.4f}\")\n",
        "print(f\"RMSE: {rmse:.4f}\")\n",
        "print(f\"R^2: {r2:.4f}\")\n",
        "\n",
        "y_true_original = scaler_target.inverse_transform(y_true.reshape(-1, 1)).flatten()\n",
        "y_pred_original = scaler_target.inverse_transform(y_pred.reshape(-1, 1)).flatten()\n",
        "\n",
        "# Save test predictions along with their corresponding years to CSV\n",
        "results_df = pd.DataFrame({\n",
        "    \"Year\": year_test,\n",
        "    \"Actual Retreat Area (Yearly) (%)\": y_true_original,\n",
        "    \"Predicted Retreat Area (Yearly) (%)\": y_pred_original\n",
        "})\n",
        "\n",
        "results = results_df.groupby(\"Year\", as_index=False).mean()\n",
        "\n",
        "results_csv_path = \"/content/drive/MyDrive/dip_project/unimodal/numerical_model_test_predictions.csv\"\n",
        "results.to_csv(results_csv_path, index=False)\n",
        "print(f\"Test predictions saved to: {results_csv_path}\")\n"
      ]
    },
    {
      "cell_type": "markdown",
      "source": [
        "#2. Visualizing comparison of Actual and Predicted Retreat Area"
      ],
      "metadata": {
        "id": "D9BTNTV11It4"
      }
    },
    {
      "cell_type": "code",
      "source": [
        "import pandas as pd\n",
        "import matplotlib.pyplot as plt\n",
        "\n",
        "csv_path = r\"/content/drive/MyDrive/dip_project/unimodal/numerical_model_test_predictions.csv\"\n",
        "df = pd.read_csv(csv_path)\n",
        "\n",
        "print(df)\n",
        "\n",
        "plt.figure(figsize=(8, 6))\n",
        "\n",
        "plt.plot(df[\"Year\"], df[\"Actual Retreat Area (Yearly) (%)\"], label=\"Actual\", marker=\"o\", linewidth=2)\n",
        "plt.plot(df[\"Year\"], df[\"Predicted Retreat Area (Yearly) (%)\"], label=\"Predicted\", marker=\"o\", linewidth=2)\n",
        "\n",
        "plt.xlabel(\"Year\", fontsize=12)\n",
        "plt.ylabel(\"Retreat Area (Yearly) (%)\", fontsize=12)\n",
        "plt.title(\"Comparison of Actual vs. Predicted Retreat Area Over Years\", fontsize=14)\n",
        "plt.legend(fontsize=12)\n",
        "plt.grid(True, linestyle='--', alpha=0.7)\n",
        "\n",
        "plt.tight_layout()\n",
        "plt.show()\n"
      ],
      "metadata": {
        "colab": {
          "base_uri": "https://localhost:8080/",
          "height": 711
        },
        "id": "UhXnx-rcPwjY",
        "outputId": "f7d3762a-2d2d-46a0-811a-6375bc21d1f2"
      },
      "execution_count": null,
      "outputs": [
        {
          "output_type": "stream",
          "name": "stdout",
          "text": [
            "   Year  Actual Retreat Area (Yearly) (%)  Predicted Retreat Area (Yearly) (%)\n",
            "0  2020                          5.027771                             4.848312\n",
            "1  2021                          4.532993                             5.692293\n",
            "2  2022                          5.311274                             6.070502\n",
            "3  2023                          8.271158                             7.938245\n",
            "4  2024                          5.683827                             5.517941\n"
          ]
        },
        {
          "output_type": "display_data",
          "data": {
            "text/plain": [
              "<Figure size 800x600 with 1 Axes>"
            ],
            "image/png": "[encoded data removed]"
          },
          "metadata": {}
        }
      ]
    },
    {
      "cell_type": "code",
      "source": [
        "import pandas as pd\n",
        "import numpy as np\n",
        "import matplotlib.pyplot as plt\n",
        "\n",
        "csv_path = r\"/content/drive/MyDrive/dip_project/unimodal/numerical_model_test_predictions.csv\"\n",
        "df = pd.read_csv(csv_path)\n",
        "print(df)\n",
        "\n",
        "years = df[\"Year\"].astype(int)\n",
        "actual_values = df[\"Actual Retreat Area (Yearly) (%)\"]\n",
        "predicted_values = df[\"Predicted Retreat Area (Yearly) (%)\"]\n",
        "\n",
        "x = np.arange(len(years))\n",
        "width = 0.35\n",
        "\n",
        "fig, ax = plt.subplots(figsize=(8, 6))\n",
        "\n",
        "rects1 = ax.bar(x - width/2, actual_values, width, label='Actual', color='skyblue', edgecolor='black')\n",
        "\n",
        "rects2 = ax.bar(x + width/2, predicted_values, width, label='Predicted', color='salmon', edgecolor='black')\n",
        "\n",
        "ax.set_xlabel('Year', fontsize=12)\n",
        "ax.set_ylabel('Retreat Area (Yearly) (%)', fontsize=12)\n",
        "ax.set_title('Actual vs. Predicted Retreat Area by Year', fontsize=14)\n",
        "ax.set_xticks(x)\n",
        "ax.set_xticklabels(years, fontsize=12)\n",
        "ax.legend(fontsize=12)\n",
        "ax.grid(axis='y', linestyle='--', alpha=0.7)\n",
        "\n",
        "for rect in rects1 + rects2:\n",
        "    height = rect.get_height()\n",
        "    ax.annotate(f'{height:.2f}',\n",
        "                xy=(rect.get_x() + rect.get_width() / 2, height),\n",
        "                xytext=(0, 3),  # 3 points vertical offset\n",
        "                textcoords=\"offset points\",\n",
        "                ha='center', va='bottom')\n",
        "\n",
        "plt.tight_layout()\n",
        "plt.show()\n",
        "\n"
      ],
      "metadata": {
        "colab": {
          "base_uri": "https://localhost:8080/",
          "height": 711
        },
        "id": "Trl7MNsnP2Um",
        "outputId": "e297f0d4-3436-4321-a1e3-e7f70fea1c14"
      },
      "execution_count": null,
      "outputs": [
        {
          "output_type": "stream",
          "name": "stdout",
          "text": [
            "   Year  Actual Retreat Area (Yearly) (%)  Predicted Retreat Area (Yearly) (%)\n",
            "0  2020                          5.027771                             4.848312\n",
            "1  2021                          4.532993                             5.692293\n",
            "2  2022                          5.311274                             6.070502\n",
            "3  2023                          8.271158                             7.938245\n",
            "4  2024                          5.683827                             5.517941\n"
          ]
        },
        {
          "output_type": "display_data",
          "data": {
            "text/plain": [
              "<Figure size 800x600 with 1 Axes>"
            ],
            "image/png": "[encoded data removed]"
          },
          "metadata": {}
        }
      ]
    }
  ]
}